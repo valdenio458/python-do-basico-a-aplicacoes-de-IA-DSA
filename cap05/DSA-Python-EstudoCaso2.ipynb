{
 "cells": [
  {
   "cell_type": "markdown",
   "id": "36bfef12-5af7-4d3c-85c4-ac228f3dcf12",
   "metadata": {},
   "source": [
    "<!-- Trabalho Desenvolvido na Data Science Academy - www.datascienceacademy.com.br -->\n",
    "# <font color='blue'>Data Science Academy</font>\n",
    "# <font color='blue'>Fundamentos de Linguagem Python - Do Básico a Aplicações de IA</font>\n",
    "# <font color='blue'>Estudo de Caso 2 - Fundamentos de Linguagem Python Para Construção de Game</font>"
   ]
  },
  {
   "cell_type": "markdown",
   "id": "aee0b1c1-41db-45cb-a54f-ef8ecc340b37",
   "metadata": {},
   "source": [
    "Com base nos conceitos estudados até aqui no curso vamos criar um jogo clássico e simples: Pedra, Papel e Tesoura, para dois jogadores.\n",
    "\n",
    "Este estudo de caso é ideal para iniciantes, pois utiliza apenas os fundamentos ensinados: variáveis, entrada e saída, manipulação de strings para normalizar a entrada dos jogadores, e ainda estruturas condicionais (if, elif, else) com operadores lógicos para determinar o vencedor."
   ]
  },
  {
   "cell_type": "markdown",
   "id": "739b2837-4906-4d0d-918f-8e0bda7727f8",
   "metadata": {},
   "source": [
    "![DSA](game.jpeg)\n",
    "\n",
    "Pedra, Papel e Tesoura é um jogo de mão simples e popular, geralmente disputado entre duas pessoas. O objetivo é derrotar o oponente escolhendo um de três objetos, cada qual com uma vantagem sobre um objeto e uma desvantagem sobre o outro.\n",
    "\n",
    "As regras de vitória são as seguintes:\n",
    "\n",
    "- Pedra vence a Tesoura (quebrando-a).\n",
    "\n",
    "- Tesoura vence o Papel (cortando-o).\n",
    "\n",
    "- Papel vence a Pedra (cobrindo-a).\n",
    "\n",
    "Se ambos os jogadores escolherem o mesmo objeto, a rodada resulta em um empate.\n",
    "<!-- Trabalho Desenvolvido na Data Science Academy - www.datascienceacademy.com.br -->\n",
    "Por ser um jogo rápido e baseado principalmente na sorte, é frequentemente usado para tomar decisões triviais ou para decidir quem começa em outra atividade."
   ]
  },
  {
   "cell_type": "markdown",
   "id": "2e046875-fc96-4934-b0b6-a61d03663ce9",
   "metadata": {},
   "source": [
    "Agora é com você! Construa o pseudocódigo para o problema acima. A solução completa está logo abaixo."
   ]
  },
  {
   "cell_type": "code",
   "execution_count": null,
   "id": "1f7d9c52-c095-498a-b8e8-b84868723be8",
   "metadata": {},
   "outputs": [],
   "source": []
  },
  {
   "cell_type": "code",
   "execution_count": null,
   "id": "41adf863-3af9-4024-b024-26b268b6065d",
   "metadata": {},
   "outputs": [],
   "source": []
  },
  {
   "cell_type": "code",
   "execution_count": null,
   "id": "060d7bf2-d380-4242-a28d-43b7736f3a6b",
   "metadata": {},
   "outputs": [],
   "source": []
  },
  {
   "cell_type": "code",
   "execution_count": null,
   "id": "ce30d615-835c-43ef-870c-ffbf4820ace9",
   "metadata": {},
   "outputs": [],
   "source": []
  },
  {
   "cell_type": "code",
   "execution_count": null,
   "id": "85f397b1-212f-4b9d-aee2-0ccf6c54547a",
   "metadata": {},
   "outputs": [],
   "source": []
  },
  {
   "cell_type": "code",
   "execution_count": null,
   "id": "7bd12f93-8d26-4a2b-a656-3e2a93134b06",
   "metadata": {},
   "outputs": [],
   "source": []
  },
  {
   "cell_type": "code",
   "execution_count": null,
   "id": "dcda3117-0b15-4228-83a3-923f182c0bf7",
   "metadata": {},
   "outputs": [],
   "source": []
  },
  {
   "cell_type": "code",
   "execution_count": null,
   "id": "d10ba3c6-b35c-466f-a270-77ce6e0f3fdd",
   "metadata": {},
   "outputs": [],
   "source": []
  },
  {
   "cell_type": "code",
   "execution_count": null,
   "id": "ab67b4c8-6917-4d1d-a671-9f7cf0f3d72f",
   "metadata": {},
   "outputs": [],
   "source": []
  },
  {
   "cell_type": "code",
   "execution_count": null,
   "id": "c2f4cd90-d625-44e8-9ddf-70bb78d9eae5",
   "metadata": {},
   "outputs": [],
   "source": []
  },
  {
   "cell_type": "markdown",
   "id": "768b7e0f-1c2a-4f6d-93dd-6fa18264ef06",
   "metadata": {},
   "source": [
    "## 1. Pseudo-código\n",
    "\n",
    "O primeiro passo é planejar a lógica do jogo."
   ]
  },
  {
   "cell_type": "markdown",
   "id": "7bf3ac1c-ad59-4dde-8ac8-25228d4f5895",
   "metadata": {},
   "source": [
    "INÍCIO\n",
    "  \n",
    "  // 1. Apresentação\n",
    "  \n",
    "  ESCREVA \"--- Jogo Pedra, Papel e Tesoura (2 Jogadores) ---\"\n",
    "  \n",
    "  ESCREVA \"Regras: Escolham entre 'pedra', 'papel' ou 'tesoura'.\"\n",
    "\n",
    "  // 2. Coleta de Dados\n",
    "  \n",
    "  LEIA a jogada do Jogador 1\n",
    "  \n",
    "  LEIA a jogada do Jogador 2\n",
    "\n",
    "  // 3. Tratamento dos Dados de Entrada\n",
    "  \n",
    "  CONVERTA a jogada do Jogador 1 para letras minúsculas e sem espaços\n",
    "  \n",
    "  CONVERTA a jogada do Jogador 2 para letras minúsculas e sem espaços\n",
    "\n",
    "  ESCREVA \"Jogador 1 escolheu:\", jogada_jogador1\n",
    "  \n",
    "  ESCREVA \"Jogador 2 escolheu:\", jogada_jogador2\n",
    "\n",
    "  // 4. Lógica para determinar o vencedor\n",
    "  \n",
    "  SE jogada_jogador1 == jogada_jogador2 ENTÃO\n",
    "    \n",
    "    ESCREVA \"Resultado: Empate!\"\n",
    "\n",
    "  \n",
    "  SENÃO SE (jogada_jogador1 == \"pedra\" E jogada_jogador2 == \"tesoura\") OU\n",
    "           (jogada_jogador1 == \"tesoura\" E jogada_jogador2 == \"papel\") OU\n",
    "           (jogada_jogador1 == \"papel\" E jogada_jogador2 == \"pedra\") ENTÃO\n",
    "    \n",
    "    ESCREVA \"Resultado: Jogador 1 venceu!\"\n",
    "\n",
    "  SENÃO\n",
    "    \n",
    "    ESCREVA \"Resultado: Jogador 2 venceu!\"\n",
    "\n",
    "  ESCREVA \"Fim de jogo!\"\n",
    "\n",
    "FIM"
   ]
  },
  {
   "cell_type": "markdown",
   "id": "aef2ca65-1237-45aa-8c32-3098ebcf9b2d",
   "metadata": {},
   "source": [
    "**Vamos agora converter o pseudocódigo em código Python.**"
   ]
  },
  {
   "cell_type": "code",
   "execution_count": null,
   "id": "cafcfb66-23d4-42c5-9cda-07e4e08fa71e",
   "metadata": {},
   "outputs": [],
   "source": []
  },
  {
   "cell_type": "code",
   "execution_count": null,
   "id": "0a50ef9e-60a1-41ea-91fa-03c47e957d56",
   "metadata": {},
   "outputs": [],
   "source": []
  },
  {
   "cell_type": "code",
   "execution_count": null,
   "id": "371dae18-ac5a-4ff2-9647-fb8d5022c668",
   "metadata": {},
   "outputs": [],
   "source": []
  },
  {
   "cell_type": "code",
   "execution_count": null,
   "id": "93b906ee-4912-4e2e-af81-63ee1048b2e6",
   "metadata": {},
   "outputs": [],
   "source": []
  },
  {
   "cell_type": "code",
   "execution_count": null,
   "id": "58fbc48e-306e-4c74-b737-67fc175db765",
   "metadata": {},
   "outputs": [],
   "source": []
  },
  {
   "cell_type": "code",
   "execution_count": null,
   "id": "79880d76-53c6-4e34-9b3b-4baedc7b74f6",
   "metadata": {},
   "outputs": [],
   "source": []
  },
  {
   "cell_type": "code",
   "execution_count": null,
   "id": "29e24335-fe79-4baa-a62e-58a36c953798",
   "metadata": {},
   "outputs": [],
   "source": []
  },
  {
   "cell_type": "code",
   "execution_count": null,
   "id": "1a70631a-3203-404d-a5f0-246559934f2d",
   "metadata": {},
   "outputs": [],
   "source": []
  },
  {
   "cell_type": "code",
   "execution_count": null,
   "id": "086f7c91-c2ff-42e1-a091-f87d941e6531",
   "metadata": {},
   "outputs": [],
   "source": []
  },
  {
   "cell_type": "code",
   "execution_count": null,
   "id": "f0188701-fd65-4a21-b176-780d79d329fa",
   "metadata": {},
   "outputs": [],
   "source": []
  },
  {
   "cell_type": "markdown",
   "id": "3379914e-33a8-4bcb-9641-1adfa2372f2b",
   "metadata": {},
   "source": [
    "## 2. Script Python\n",
    "\n",
    "Agora, vamos traduzir o pseudocódigo para um script Python."
   ]
  },
  {
   "cell_type": "code",
   "execution_count": 1,
   "id": "57428afb-4926-44e0-830a-34d2fafe0795",
   "metadata": {},
   "outputs": [
    {
     "name": "stdout",
     "output_type": "stream",
     "text": [
      "------------------------------------------------------\n",
      "--- Jogo Pedra, Papel e Tesoura (2 Jogadores) ---\n",
      "------------------------------------------------------\n",
      "Bem-vindos! Cada jogador deve escolher uma das opções.\n",
      "Opções válidas: ('pedra', 'papel', 'tesoura')\n",
      "-------------------------\n"
     ]
    },
    {
     "name": "stdin",
     "output_type": "stream",
     "text": [
      "Jogador 1, digite sua jogada:  tesoura\n",
      "Jogador 2, digite sua jogada:  papel\n"
     ]
    },
    {
     "name": "stdout",
     "output_type": "stream",
     "text": [
      "-------------------------\n",
      "Jogador 1 escolheu: tesoura\n",
      "Jogador 2 escolheu: papel\n",
      "-------------------------\n",
      "Resultado: Jogador 1 venceu! Parabéns!\n",
      "\n",
      "--- Fim de Jogo ---\n"
     ]
    }
   ],
   "source": [
    "# Estudo de Caso 2 - Lógica de Programação - Fundamentos de Linguagem Python Para Construção de Game\n",
    "\n",
    "# --- 1. Apresentação e Regras ---\n",
    "\n",
    "# Usamos a função print() para exibir mensagens na tela (Saída Padrão).\n",
    "print(\"------------------------------------------------------\")\n",
    "print(\"--- Jogo Pedra, Papel e Tesoura (2 Jogadores) ---\")\n",
    "print(\"------------------------------------------------------\")\n",
    "print(\"Bem-vindos! Cada jogador deve escolher uma das opções.\")\n",
    "\n",
    "# Usamos uma tupla para armazenar as opções válidas.\n",
    "# Tuplas são boas aqui porque as opções do jogo não mudam (são imutáveis).\n",
    "opcoes_validas = (\"pedra\", \"papel\", \"tesoura\")\n",
    "print(f\"Opções válidas: {opcoes_validas}\")\n",
    "print(\"-\" * 25) # Imprime uma linha para separar\n",
    "\n",
    "# --- 2. Coleta dos Dados de Entrada ---\n",
    "\n",
    "# Usamos a função input() para receber o que o usuário digita (Entrada Padrão).\n",
    "# A função input() sempre retorna uma string.\n",
    "jogada_jogador1_inicial = input(\"Jogador 1, digite sua jogada: \")\n",
    "jogada_jogador2_inicial = input(\"Jogador 2, digite sua jogada: \")\n",
    "\n",
    "# --- 3. Tratamento dos Dados de Entrada ---\n",
    "\n",
    "# Manipulação de Strings: usamos .lower() para converter para minúsculas\n",
    "# e .strip() para remover espaços extras. Isso evita erros como \"Pedra\" != \"pedra\".\n",
    "jogada_jogador1 = jogada_jogador1_inicial.lower().strip()\n",
    "jogada_jogador2 = jogada_jogador2_inicial.lower().strip()\n",
    "\n",
    "print(\"-\" * 25)\n",
    "print(f\"Jogador 1 escolheu: {jogada_jogador1}\")\n",
    "print(f\"Jogador 2 escolheu: {jogada_jogador2}\")\n",
    "print(\"-\" * 25)\n",
    "\n",
    "# --- 4. Lógica do Jogo e Resultado ---\n",
    "\n",
    "# Primeiro, verificamos se as jogadas são válidas.\n",
    "# Há várias opções para checar se a jogada está dentro da nossa tupla de opções.\n",
    "\n",
    "if jogada_jogador1 not in opcoes_validas or jogada_jogador2 not in opcoes_validas:\n",
    "#if opcoes_validas.count(jogada_jogador1) == 0 or opcoes_validas.count(jogada_jogador2) == 0:\n",
    "#if {jogada_jogador1, jogada_jogador2} - set(opcoes_validas):\n",
    "#if not all(jogada in opcoes_validas for jogada in [jogada_jogador1, jogada_jogador2]):\n",
    "#if len(list(filter(lambda x: x not in opcoes_validas, [jogada_jogador1, jogada_jogador2]))) > 0:\n",
    "    print(\"DSA: Uma ou ambas as jogadas são inválidas! Por favor, use apenas 'pedra', 'papel' ou 'tesoura'.\")\n",
    "\n",
    "# Agora, a lógica principal do jogo, usando operadores de comparação (==) e lógicos (and, or).\n",
    "\n",
    "# Caso 1: Empate\n",
    "elif jogada_jogador1 == jogada_jogador2:\n",
    "    print(\"Resultado: É um empate!\")\n",
    "\n",
    "# Caso 2: Jogador 1 vence\n",
    "# Agrupamos todas as condições de vitória do Jogador 1 com o operador 'or'.\n",
    "elif (jogada_jogador1 == \"pedra\" and jogada_jogador2 == \"tesoura\") or \\\n",
    "     (jogada_jogador1 == \"tesoura\" and jogada_jogador2 == \"papel\") or \\\n",
    "     (jogada_jogador1 == \"papel\" and jogada_jogador2 == \"pedra\"):\n",
    "    print(\"Resultado: Jogador 1 venceu! Parabéns!\")\n",
    "\n",
    "# Caso 3: Se não empatou e o Jogador 1 não venceu, então o Jogador 2 venceu.\n",
    "else:\n",
    "    print(\"Resultado: Jogador 2 venceu! Parabéns!\")\n",
    "\n",
    "print(\"\\n--- Fim de Jogo ---\")"
   ]
  },
  {
   "cell_type": "markdown",
   "id": "e57c7e90-cd8b-459f-a00e-201da5d631ef",
   "metadata": {},
   "source": [
    "# Fim"
   ]
  }
 ],
 "metadata": {
  "kernelspec": {
   "display_name": "Python 3 (ipykernel)",
   "language": "python",
   "name": "python3"
  },
  "language_info": {
   "codemirror_mode": {
    "name": "ipython",
    "version": 3
   },
   "file_extension": ".py",
   "mimetype": "text/x-python",
   "name": "python",
   "nbconvert_exporter": "python",
   "pygments_lexer": "ipython3",
   "version": "3.13.5"
  }
 },
 "nbformat": 4,
 "nbformat_minor": 5
}
