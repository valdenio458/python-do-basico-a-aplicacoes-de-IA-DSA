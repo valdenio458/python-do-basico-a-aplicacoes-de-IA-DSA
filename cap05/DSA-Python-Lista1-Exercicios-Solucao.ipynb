{
 "cells": [
  {
   "cell_type": "markdown",
   "id": "61d979b2-a85f-4d69-901e-b3bb69419a3e",
   "metadata": {},
   "source": [
    "<!-- Trabalho Desenvolvido na Data Science Academy - www.datascienceacademy.com.br -->\n",
    "# <font color='blue'>Data Science Academy</font>\n",
    "# <font color='blue'>Fundamentos de Linguagem Python - Do Básico a Aplicações de IA</font>\n",
    "# <font color='blue'>Lista 1 de Exercícios</font>"
   ]
  },
  {
   "cell_type": "markdown",
   "id": "3670be14-c985-465c-a68c-34b0e822b07a",
   "metadata": {},
   "source": [
    "#### Exercício 1\n",
    "\n",
    "Escreva um programa que peça ao usuário para digitar seu nome e, em seguida, imprima uma mensagem de boas-vindas com o nome fornecido."
   ]
  },
  {
   "cell_type": "code",
   "execution_count": 1,
   "id": "e05f9264-9103-4c43-9bbf-20334ead2de3",
   "metadata": {},
   "outputs": [
    {
     "name": "stdin",
     "output_type": "stream",
     "text": [
      "Digite seu nome:  Bob\n"
     ]
    },
    {
     "name": "stdout",
     "output_type": "stream",
     "text": [
      "Olá, Bob! Seja bem-vindo(a)!\n"
     ]
    }
   ],
   "source": [
    "# Solução\n",
    "nome = input(\"Digite seu nome: \")\n",
    "print(f\"Olá, {nome}! Seja bem-vindo(a)!\")"
   ]
  },
  {
   "cell_type": "markdown",
   "id": "c740abbd-3a0e-4f9f-9a26-a3e382b078f5",
   "metadata": {},
   "source": [
    "#### Exercício 2\n",
    "\n",
    "Crie duas variáveis, numero1 e numero2, e atribua a elas valores inteiros. Calcule a soma, subtração, multiplicação e divisão dessas variáveis e imprima os resultados."
   ]
  },
  {
   "cell_type": "code",
   "execution_count": 2,
   "id": "431acb5d-fcd1-4ce4-9eee-6117b4066383",
   "metadata": {},
   "outputs": [
    {
     "name": "stdout",
     "output_type": "stream",
     "text": [
      "Soma: 15\n",
      "Subtração: 5\n",
      "Multiplicação: 50\n",
      "Divisão: 2.0\n"
     ]
    }
   ],
   "source": [
    "# Solução\n",
    "numero1 = 10\n",
    "numero2 = 5\n",
    "print(f\"Soma: {numero1 + numero2}\")\n",
    "print(f\"Subtração: {numero1 - numero2}\")\n",
    "print(f\"Multiplicação: {numero1 * numero2}\")\n",
    "print(f\"Divisão: {numero1 / numero2}\")"
   ]
  },
  {
   "cell_type": "markdown",
   "id": "3375fbd5-8283-4602-9462-c0c7722e3258",
   "metadata": {},
   "source": [
    "#### Exercício 3 \n",
    "\n",
    "Qual é a principal diferença entre uma variável de escopo local e uma de escopo global?"
   ]
  },
  {
   "cell_type": "code",
   "execution_count": 3,
   "id": "de7f16bd-c754-456b-a726-28616af68aaa",
   "metadata": {},
   "outputs": [],
   "source": [
    "# Solução\n",
    "# Uma variável de escopo global é declarada fora de qualquer função e pode ser acessada de qualquer lugar do código. \n",
    "# Uma variável de escopo local é declarada dentro de uma função e só pode ser acessada dentro daquela função."
   ]
  },
  {
   "cell_type": "markdown",
   "id": "7a6f120d-ef3d-4431-a9a1-1f8a99bae626",
   "metadata": {},
   "source": [
    "#### Exercício 4\n",
    "\n",
    "Crie uma variável chamada saldo com o valor 500.50 (float). Em seguida, crie uma variável saque com o valor 200.25 (float). Subtraia o saque do saldo e imprima o saldo final formatado para duas casas decimais."
   ]
  },
  {
   "cell_type": "code",
   "execution_count": 4,
   "id": "d40d066e-42b3-4659-a098-4bb73a3448a2",
   "metadata": {},
   "outputs": [
    {
     "name": "stdout",
     "output_type": "stream",
     "text": [
      "Seu saldo final é: R$ 300.25\n"
     ]
    }
   ],
   "source": [
    "# Solução\n",
    "saldo = 500.50\n",
    "saque = 200.25\n",
    "saldo_final = saldo - saque\n",
    "print(f\"Seu saldo final é: R$ {saldo_final:.2f}\")"
   ]
  },
  {
   "cell_type": "markdown",
   "id": "a3182326-e5c7-4b8b-aeae-f30bbc3532b2",
   "metadata": {},
   "source": [
    "#### Exercício 5\n",
    "\n",
    "Declare uma variável booleana chamada **tem_carteira_de_motorista** e atribua a ela o valor True. Imprima uma mensagem que diga \"Pode dirigir\" se a variável for verdadeira e \"Não pode dirigir\" caso contrário.\n",
    "\n",
    "Obs: Não estudamos ainda os condicionais, mas pesquise se necessário e tente resolver."
   ]
  },
  {
   "cell_type": "code",
   "execution_count": 5,
   "id": "40007f31-7641-4d98-9521-c23f0741c37f",
   "metadata": {},
   "outputs": [
    {
     "name": "stdout",
     "output_type": "stream",
     "text": [
      "Pode dirigir\n"
     ]
    }
   ],
   "source": [
    "# Solução\n",
    "tem_carteira_de_motorista = True\n",
    "\n",
    "if tem_carteira_de_motorista:\n",
    "    print(\"Pode dirigir\")\n",
    "else:\n",
    "    print(\"Não pode dirigir\")"
   ]
  },
  {
   "cell_type": "markdown",
   "id": "5e3ab56c-3067-415a-b475-ec5dff1ee815",
   "metadata": {},
   "source": [
    "#### Exercício 6\n",
    "\n",
    "Crie duas variáveis: \n",
    "\n",
    "- idade_ana = 25\n",
    "- idade_beto = 30\n",
    "\n",
    "Use operadores de comparação para verificar se a idade de Ana é menor que a de Beto e imprima o resultado booleano."
   ]
  },
  {
   "cell_type": "code",
   "execution_count": 6,
   "id": "45a0699c-e6f4-4f0d-a55b-e1f2a39ba92e",
   "metadata": {},
   "outputs": [
    {
     "name": "stdout",
     "output_type": "stream",
     "text": [
      "True\n"
     ]
    }
   ],
   "source": [
    "# Solução\n",
    "idade_ana = 25\n",
    "idade_beto = 30\n",
    "print(idade_ana < idade_beto) "
   ]
  },
  {
   "cell_type": "markdown",
   "id": "b87006e7-5436-4dc0-acfc-fe6e83330191",
   "metadata": {},
   "source": [
    "#### Exercício 7\n",
    "\n",
    "Receba um número inteiro do usuário e use o operador de módulo (%) para verificar se o número é par ou ímpar. Imprima o resultado.\n",
    "\n",
    "Obs: Não estudamos ainda os condicionais, mas pesquise se necessário e tente resolver."
   ]
  },
  {
   "cell_type": "code",
   "execution_count": 7,
   "id": "1f0c0503-1346-47f1-8cb9-ddbcd87641ea",
   "metadata": {},
   "outputs": [
    {
     "name": "stdin",
     "output_type": "stream",
     "text": [
      "Digite um número inteiro:  10\n"
     ]
    },
    {
     "name": "stdout",
     "output_type": "stream",
     "text": [
      "O número 10 é PAR.\n"
     ]
    }
   ],
   "source": [
    "# Solução\n",
    "numero = int(input(\"Digite um número inteiro: \"))\n",
    "if numero % 2 == 0:\n",
    "    print(f\"O número {numero} é PAR.\")\n",
    "else:\n",
    "    print(f\"O número {numero} é ÍMPAR.\")"
   ]
  },
  {
   "cell_type": "markdown",
   "id": "268f4ea6-5329-457b-8b1f-8b3fc7956603",
   "metadata": {},
   "source": [
    "#### Exercício 8\n",
    "\n",
    "Crie duas variáveis booleanas: \n",
    "\n",
    "- chovendo = True\n",
    "- guarda_chuva = False\n",
    "\n",
    "Use operadores lógicos para verificar se uma pessoa vai se molhar (se está chovendo E ela não tem guarda-chuva)."
   ]
  },
  {
   "cell_type": "code",
   "execution_count": 8,
   "id": "7366a477-10f5-46ec-ba8c-b0ab6067fed0",
   "metadata": {},
   "outputs": [
    {
     "name": "stdout",
     "output_type": "stream",
     "text": [
      "A pessoa vai se molhar? True\n"
     ]
    }
   ],
   "source": [
    "# Solução\n",
    "chovendo = True\n",
    "guarda_chuva = False\n",
    "vai_se_molhar = chovendo and not guarda_chuva\n",
    "print(f\"A pessoa vai se molhar? {vai_se_molhar}\")"
   ]
  },
  {
   "cell_type": "markdown",
   "id": "bc454f20-7ee6-4402-8319-5e4876e2d309",
   "metadata": {},
   "source": [
    "#### Exercício 9\n",
    "\n",
    "Calcule a potência de 2 elevado a 10 e imprima o resultado."
   ]
  },
  {
   "cell_type": "code",
   "execution_count": 9,
   "id": "11bdc9e8-75be-4448-932d-d876207fd1e4",
   "metadata": {},
   "outputs": [
    {
     "name": "stdout",
     "output_type": "stream",
     "text": [
      "2 elevado a 10 é: 1024\n"
     ]
    }
   ],
   "source": [
    "# Solução\n",
    "resultado = 2 ** 10\n",
    "print(f\"2 elevado a 10 é: {resultado}\")"
   ]
  },
  {
   "cell_type": "markdown",
   "id": "40f12391-14a5-4b6d-bcb7-419a373eb0e1",
   "metadata": {},
   "source": [
    "#### Exercício 10\n",
    "\n",
    "Converta a string \"2026\" para um tipo inteiro e armazene-a em uma variável chamada ano. Em seguida, some 1 a essa variável e imprima o novo ano."
   ]
  },
  {
   "cell_type": "code",
   "execution_count": 10,
   "id": "98f84688-9bfe-4de8-9f2b-97bf184dbd18",
   "metadata": {},
   "outputs": [
    {
     "name": "stdout",
     "output_type": "stream",
     "text": [
      "O próximo ano será: 2027\n"
     ]
    }
   ],
   "source": [
    "# Solução\n",
    "ano_texto = \"2026\"\n",
    "ano = int(ano_texto)\n",
    "ano = ano + 1\n",
    "print(f\"O próximo ano será: {ano}\")"
   ]
  },
  {
   "cell_type": "markdown",
   "id": "ca6b9f60-681d-4baf-abe0-aa8e258e7407",
   "metadata": {},
   "source": [
    "#### Exercício 11\n",
    "\n",
    "Crie a string:\n",
    "\n",
    "frase = \"   Python é uma linguagem poderosa e estou aprendendo com a DSA   \". \n",
    "\n",
    "Remova os espaços em branco do início e do fim da string e imprima a nova string."
   ]
  },
  {
   "cell_type": "code",
   "execution_count": 11,
   "id": "4e2042e8-4925-4d36-acf6-7953917f43d1",
   "metadata": {},
   "outputs": [
    {
     "name": "stdout",
     "output_type": "stream",
     "text": [
      "Python é uma linguagem poderosa e estou aprendendo com a DSA\n"
     ]
    }
   ],
   "source": [
    "# Solução\n",
    "frase = \"   Python é uma linguagem poderosa e estou aprendendo com a DSA   \"\n",
    "frase_limpa = frase.strip()\n",
    "print(frase_limpa)"
   ]
  },
  {
   "cell_type": "markdown",
   "id": "757dc590-00ae-447d-8739-d472b92ba5d3",
   "metadata": {},
   "source": [
    "#### Exercício 12\n",
    "\n",
    "Na string do exercício anterior (já sem os espaços), converta toda a frase para letras maiúsculas."
   ]
  },
  {
   "cell_type": "code",
   "execution_count": 12,
   "id": "0a474b6c-499e-4d50-9cdb-cec4bbecef59",
   "metadata": {},
   "outputs": [
    {
     "name": "stdout",
     "output_type": "stream",
     "text": [
      "PYTHON É UMA LINGUAGEM PODEROSA E ESTOU APRENDENDO COM A DSA\n"
     ]
    }
   ],
   "source": [
    "# Solução\n",
    "frase_limpa = \"Python é uma linguagem poderosa e estou aprendendo com a DSA\"\n",
    "print(frase_limpa.upper())"
   ]
  },
  {
   "cell_type": "markdown",
   "id": "afed6632-a72f-482b-a9e7-07a507ab54d9",
   "metadata": {},
   "source": [
    "#### Exercício 13\n",
    "\n",
    "Ainda usando a mesma string, substitua a palavra \"poderosa\" por \"incrível\"."
   ]
  },
  {
   "cell_type": "code",
   "execution_count": 13,
   "id": "d57316c4-a357-49e9-820f-b774fe13a310",
   "metadata": {},
   "outputs": [
    {
     "name": "stdout",
     "output_type": "stream",
     "text": [
      "Python é uma linguagem incrível e estou aprendendo com a DSA\n"
     ]
    }
   ],
   "source": [
    "# Solução\n",
    "frase_limpa = \"Python é uma linguagem poderosa e estou aprendendo com a DSA\"\n",
    "frase_modificada = frase_limpa.replace(\"poderosa\", \"incrível\")\n",
    "print(frase_modificada)"
   ]
  },
  {
   "cell_type": "markdown",
   "id": "fb47b3bf-825b-4c2b-89a0-78bd31e1c6e5",
   "metadata": {},
   "source": [
    "#### Exercício 14\n",
    "<!-- Trabalho Desenvolvido na Data Science Academy - www.datascienceacademy.com.br -->\n",
    "Verifique e imprima o número total de caracteres na string frase (após as modificações dos exercícios anteriores)."
   ]
  },
  {
   "cell_type": "code",
   "execution_count": 14,
   "id": "6c44e720-0118-4933-94de-772274740d5f",
   "metadata": {},
   "outputs": [
    {
     "name": "stdout",
     "output_type": "stream",
     "text": [
      "A frase tem 60 caracteres.\n"
     ]
    }
   ],
   "source": [
    "# Solução\n",
    "frase_final = \"Python é uma linguagem incrível e estou aprendendo com a DSA\"\n",
    "print(f\"A frase tem {len(frase_final)} caracteres.\")"
   ]
  },
  {
   "cell_type": "markdown",
   "id": "a475df67-a4fe-4a28-82c5-4006b78e6724",
   "metadata": {},
   "source": [
    "#### Exercício 15\n",
    "\n",
    "Use fatiamento (slicing) para extrair e imprimir apenas a palavra \"Python\" da string frase."
   ]
  },
  {
   "cell_type": "code",
   "execution_count": 15,
   "id": "4545e6b6-347d-41e4-9040-64785c0b158f",
   "metadata": {},
   "outputs": [
    {
     "name": "stdout",
     "output_type": "stream",
     "text": [
      "Python\n"
     ]
    }
   ],
   "source": [
    "# Solução\n",
    "frase = \"Python é uma linguagem incrível\"\n",
    "palavra = frase[0:6]\n",
    "print(palavra)"
   ]
  },
  {
   "cell_type": "markdown",
   "id": "87d8b962-276a-4eda-bb07-e392be103475",
   "metadata": {},
   "source": [
    "#### Exercício 16\n",
    "\n",
    "Crie uma lista chamada compras com os seguintes itens: \"arroz\", \"feijão\", \"macarrão\", \"carne\". Imprima a lista."
   ]
  },
  {
   "cell_type": "code",
   "execution_count": 16,
   "id": "519ccb8d-07dd-4706-b949-cd4f3db5b0ea",
   "metadata": {},
   "outputs": [
    {
     "name": "stdout",
     "output_type": "stream",
     "text": [
      "['arroz', 'feijão', 'macarrão', 'carne']\n"
     ]
    }
   ],
   "source": [
    "# Solução\n",
    "compras = [\"arroz\", \"feijão\", \"macarrão\", \"carne\"]\n",
    "print(compras)"
   ]
  },
  {
   "cell_type": "markdown",
   "id": "43dda5ea-fc93-4dda-9a88-37f5ee02595b",
   "metadata": {},
   "source": [
    "#### Exercício 17\n",
    "\n",
    "Adicione o item \"leite\" ao final da lista compras e imprima a lista atualizada."
   ]
  },
  {
   "cell_type": "code",
   "execution_count": 17,
   "id": "b287493d-7eaf-4ea3-adee-f04bda37c753",
   "metadata": {},
   "outputs": [
    {
     "name": "stdout",
     "output_type": "stream",
     "text": [
      "['arroz', 'feijão', 'macarrão', 'carne', 'leite']\n"
     ]
    }
   ],
   "source": [
    "# Solução\n",
    "compras = [\"arroz\", \"feijão\", \"macarrão\", \"carne\"]\n",
    "compras.append(\"leite\")\n",
    "print(compras)"
   ]
  },
  {
   "cell_type": "markdown",
   "id": "d0c379ea-a090-486f-ad23-0c1f9f1f57c4",
   "metadata": {},
   "source": [
    "#### Exercício 18\n",
    "\n",
    "Acesse e imprima o segundo item da lista compras."
   ]
  },
  {
   "cell_type": "code",
   "execution_count": 18,
   "id": "927b9ca7-96fb-4f47-8944-1807f50188d7",
   "metadata": {},
   "outputs": [
    {
     "name": "stdout",
     "output_type": "stream",
     "text": [
      "feijão\n"
     ]
    }
   ],
   "source": [
    "# Solução\n",
    "compras = [\"arroz\", \"feijão\", \"macarrão\", \"carne\"]\n",
    "print(compras[1]) # O segundo item está no índice 1"
   ]
  },
  {
   "cell_type": "markdown",
   "id": "756fb416-ccbd-4490-bd7b-7e5fbbad2202",
   "metadata": {},
   "source": [
    "#### Exercício 19\n",
    "\n",
    "Remova o item \"macarrão\" da lista compras e imprima a lista final."
   ]
  },
  {
   "cell_type": "code",
   "execution_count": 19,
   "id": "f6dae380-9cfc-41ea-87a5-0e7b9fe83412",
   "metadata": {},
   "outputs": [
    {
     "name": "stdout",
     "output_type": "stream",
     "text": [
      "['arroz', 'feijão', 'carne', 'leite']\n"
     ]
    }
   ],
   "source": [
    "# Solução\n",
    "compras = [\"arroz\", \"feijão\", \"macarrão\", \"carne\", \"leite\"]\n",
    "compras.remove(\"macarrão\")\n",
    "print(compras)"
   ]
  },
  {
   "cell_type": "markdown",
   "id": "45768893-27ab-411a-b344-66c1e0c10d3f",
   "metadata": {},
   "source": [
    "#### Exercício 20\n",
    "\n",
    "Crie uma lista de números de 1 a 5. Use uma função para calcular e imprimir o tamanho (número de elementos) dessa lista."
   ]
  },
  {
   "cell_type": "code",
   "execution_count": 20,
   "id": "936f45f6-f9bc-44c2-8c7e-b8f017a569e6",
   "metadata": {},
   "outputs": [
    {
     "name": "stdout",
     "output_type": "stream",
     "text": [
      "A lista tem 5 elementos.\n"
     ]
    }
   ],
   "source": [
    "# Solução\n",
    "numeros = [1, 2, 3, 4, 5]\n",
    "print(f\"A lista tem {len(numeros)} elementos.\")"
   ]
  },
  {
   "cell_type": "markdown",
   "id": "48c0e0e5-d033-4ace-9854-b3140c9f52e8",
   "metadata": {},
   "source": [
    "#### Exercício 21\n",
    "\n",
    "Crie uma tupla chamada meses com os três primeiros meses do ano: \"Janeiro\", \"Fevereiro\", \"Março\"."
   ]
  },
  {
   "cell_type": "code",
   "execution_count": 21,
   "id": "7ec4a95a-6566-4063-b03e-9194111d0340",
   "metadata": {},
   "outputs": [
    {
     "name": "stdout",
     "output_type": "stream",
     "text": [
      "('Janeiro', 'Fevereiro', 'Março')\n"
     ]
    }
   ],
   "source": [
    "# Solução\n",
    "meses = (\"Janeiro\", \"Fevereiro\", \"Março\")\n",
    "print(meses)"
   ]
  },
  {
   "cell_type": "markdown",
   "id": "593e45f0-fb20-4870-b0db-ff370191c232",
   "metadata": {},
   "source": [
    "#### Exercício 22\n",
    "\n",
    "Tente adicionar o mês \"Abril\" à tupla meses. O que acontece? Explique o resultado."
   ]
  },
  {
   "cell_type": "code",
   "execution_count": 22,
   "id": "3d14be0c-9888-40cb-b806-5b33123349ac",
   "metadata": {},
   "outputs": [],
   "source": [
    "# Solução\n",
    "# Ocorre um erro (AttributeError: 'tuple' object has no attribute 'append'). \n",
    "# Isso acontece porque tuplas são imutáveis, ou seja, não podem ser modificadas após sua criação."
   ]
  },
  {
   "cell_type": "markdown",
   "id": "4665f2df-6d85-47e9-9b90-48b6b78aa693",
   "metadata": {},
   "source": [
    "#### Exercício 23\n",
    "\n",
    "Acesse e imprima o primeiro mês da tupla meses."
   ]
  },
  {
   "cell_type": "code",
   "execution_count": 23,
   "id": "ddf3c436-d8cd-458f-93f2-6a575d8758a3",
   "metadata": {},
   "outputs": [
    {
     "name": "stdout",
     "output_type": "stream",
     "text": [
      "Janeiro\n"
     ]
    }
   ],
   "source": [
    "# Solução\n",
    "meses = (\"Janeiro\", \"Fevereiro\", \"Março\")\n",
    "print(meses[0])"
   ]
  },
  {
   "cell_type": "markdown",
   "id": "13282da2-0809-4e72-9cd3-a50c18c82ff6",
   "metadata": {},
   "source": [
    "#### Exercício 24\n",
    "\n",
    "Crie um dicionário chamado filme com as seguintes chaves e valores: \n",
    "\n",
    "- titulo = \"O Poderoso Chefão\",\n",
    "- ano = 1972\n",
    "- diretor = \"Francis Ford Coppola\""
   ]
  },
  {
   "cell_type": "code",
   "execution_count": 24,
   "id": "162806ad-04aa-4870-8927-dd628a9eb526",
   "metadata": {},
   "outputs": [
    {
     "name": "stdout",
     "output_type": "stream",
     "text": [
      "{'titulo': 'O Poderoso Chefão', 'ano': 1972, 'diretor': 'Francis Ford Coppola'}\n"
     ]
    }
   ],
   "source": [
    "# Solução\n",
    "filme = {\n",
    "    \"titulo\": \"O Poderoso Chefão\",\n",
    "    \"ano\": 1972,\n",
    "    \"diretor\": \"Francis Ford Coppola\"\n",
    "}\n",
    "print(filme)"
   ]
  },
  {
   "cell_type": "markdown",
   "id": "9e4135b1-2411-4d28-a145-85f476ae2eae",
   "metadata": {},
   "source": [
    "#### Exercício 25\n",
    "\n",
    "Acesse e imprima o ano de lançamento do filme a partir do dicionário."
   ]
  },
  {
   "cell_type": "code",
   "execution_count": 25,
   "id": "5e7e177e-c3e2-43f8-8cda-9b9fffb6729b",
   "metadata": {},
   "outputs": [
    {
     "name": "stdout",
     "output_type": "stream",
     "text": [
      "1972\n"
     ]
    }
   ],
   "source": [
    "# Solução\n",
    "filme = {\"titulo\": \"O Poderoso Chefão\", \"ano\": 1972, \"diretor\": \"Francis Ford Coppola\"}\n",
    "print(filme[\"ano\"])"
   ]
  },
  {
   "cell_type": "markdown",
   "id": "f9eb71eb-57a7-4311-b7fa-cea61b755f7a",
   "metadata": {},
   "source": [
    "#### Exercício 26\n",
    "<!-- Trabalho Desenvolvido na Data Science Academy - www.datascienceacademy.com.br -->\n",
    "Adicione uma nova chave genero com o valor \"Drama\" ao dicionário filme e imprima o dicionário completo."
   ]
  },
  {
   "cell_type": "code",
   "execution_count": 26,
   "id": "dc5441d5-9a10-4cb8-9e7d-ea83173e2833",
   "metadata": {},
   "outputs": [
    {
     "name": "stdout",
     "output_type": "stream",
     "text": [
      "{'titulo': 'O Poderoso Chefão', 'ano': 1972, 'diretor': 'Francis Ford Coppola', 'genero': 'Drama'}\n"
     ]
    }
   ],
   "source": [
    "# Solução\n",
    "filme = {\"titulo\": \"O Poderoso Chefão\", \"ano\": 1972, \"diretor\": \"Francis Ford Coppola\"}\n",
    "filme[\"genero\"] = \"Drama\"\n",
    "print(filme)"
   ]
  },
  {
   "cell_type": "markdown",
   "id": "c9df05f7-78ce-4fd0-965f-3ae33c4e792e",
   "metadata": {},
   "source": [
    "#### Exercício 27\n",
    "\n",
    "Modifique o valor da chave ano para 1973 e imprima o dicionário atualizado."
   ]
  },
  {
   "cell_type": "code",
   "execution_count": 27,
   "id": "95d231e5-2604-4d1b-b326-06b136d470c7",
   "metadata": {},
   "outputs": [
    {
     "name": "stdout",
     "output_type": "stream",
     "text": [
      "{'titulo': 'O Poderoso Chefão', 'ano': 1973, 'diretor': 'Francis Ford Coppola', 'genero': 'Drama'}\n"
     ]
    }
   ],
   "source": [
    "# Solução\n",
    "filme = {\"titulo\": \"O Poderoso Chefão\", \"ano\": 1972, \"diretor\": \"Francis Ford Coppola\", \"genero\": \"Drama\"}\n",
    "filme[\"ano\"] = 1973\n",
    "print(filme)"
   ]
  },
  {
   "cell_type": "markdown",
   "id": "d9ccfccb-510e-4e20-9db6-ac197c66675c",
   "metadata": {},
   "source": [
    "#### Exercício 28\n",
    "\n",
    "Crie uma lista com os seguintes números: [1, 2, 2, 3, 4, 4, 5, 1]. Use um conjunto para remover os números duplicados e imprima o resultado."
   ]
  },
  {
   "cell_type": "code",
   "execution_count": 28,
   "id": "6782e15b-7c5d-4bea-93f3-7b3f0b767d7c",
   "metadata": {},
   "outputs": [
    {
     "name": "stdout",
     "output_type": "stream",
     "text": [
      "{1, 2, 3, 4, 5}\n"
     ]
    }
   ],
   "source": [
    "# Solução\n",
    "lista_numeros = [1, 2, 2, 3, 4, 4, 5, 1]\n",
    "numeros_unicos = set(lista_numeros)\n",
    "print(numeros_unicos) "
   ]
  },
  {
   "cell_type": "markdown",
   "id": "f64f5c64-7c69-4156-8435-a8234f6e98d1",
   "metadata": {},
   "source": [
    "#### Exercício 29\n",
    "\n",
    "Crie dois conjuntos: \n",
    "\n",
    "- set_a = {1, 2, 3, 4}\n",
    "- set_b = {3, 4, 5, 6}\n",
    "\n",
    "Encontre e imprima a interseção entre os dois conjuntos (os elementos que estão em ambos)."
   ]
  },
  {
   "cell_type": "code",
   "execution_count": 29,
   "id": "8e59a4ae-e5a1-4411-b5db-4efbe0e131d4",
   "metadata": {},
   "outputs": [
    {
     "name": "stdout",
     "output_type": "stream",
     "text": [
      "{3, 4}\n"
     ]
    }
   ],
   "source": [
    "# Solução\n",
    "set_a = {1, 2, 3, 4}\n",
    "set_b = {3, 4, 5, 6}\n",
    "intersecao = set_a.intersection(set_b)\n",
    "print(intersecao) # Saída: {3, 4}"
   ]
  },
  {
   "cell_type": "markdown",
   "id": "e973b983-543d-42f1-893a-b8ff175e79a0",
   "metadata": {},
   "source": [
    "#### Exercício 30\n",
    "\n",
    "Escreva um programa que peça ao usuário para digitar sua altura em metros (ex: 1.75) e seu peso em quilogramas (ex: 68.5). Calcule o Índice de Massa Corporal (IMC) usando a fórmula IMC = peso / (altura * altura) e imprima o resultado formatado com duas casas decimais."
   ]
  },
  {
   "cell_type": "code",
   "execution_count": 30,
   "id": "43318952-de1b-41a5-89e8-2115b726a07b",
   "metadata": {},
   "outputs": [
    {
     "name": "stdin",
     "output_type": "stream",
     "text": [
      "Digite sua altura em metros (ex: 1.75):  1.92\n",
      "Digite seu peso em kg (ex: 68.5):  97\n"
     ]
    },
    {
     "name": "stdout",
     "output_type": "stream",
     "text": [
      "Seu IMC é: 26.31\n"
     ]
    }
   ],
   "source": [
    "# Solução\n",
    "altura_str = input(\"Digite sua altura em metros (ex: 1.75): \")\n",
    "peso_str = input(\"Digite seu peso em kg (ex: 68.5): \")\n",
    "\n",
    "altura = float(altura_str)\n",
    "peso = float(peso_str)\n",
    "\n",
    "imc = peso / (altura * altura)\n",
    "\n",
    "print(f\"Seu IMC é: {imc:.2f}\")"
   ]
  },
  {
   "cell_type": "markdown",
   "id": "800eb189-a900-4307-a31c-910e5bb1e6c9",
   "metadata": {},
   "source": [
    "# Fim"
   ]
  }
 ],
 "metadata": {
  "kernelspec": {
   "display_name": "Python 3 (ipykernel)",
   "language": "python",
   "name": "python3"
  },
  "language_info": {
   "codemirror_mode": {
    "name": "ipython",
    "version": 3
   },
   "file_extension": ".py",
   "mimetype": "text/x-python",
   "name": "python",
   "nbconvert_exporter": "python",
   "pygments_lexer": "ipython3",
   "version": "3.13.5"
  }
 },
 "nbformat": 4,
 "nbformat_minor": 5
}
