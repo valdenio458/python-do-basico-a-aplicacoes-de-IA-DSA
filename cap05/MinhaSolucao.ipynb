{
 "cells": [
  {
   "cell_type": "code",
   "execution_count": 1,
   "id": "4438effd",
   "metadata": {},
   "outputs": [
    {
     "name": "stdout",
     "output_type": "stream",
     "text": [
      "-------------------------------------------\n",
      "Jogo Pedra, Papel e Tesoura (2 Jogadores) \n",
      "-------------------------------------------\n",
      "Escolha entre 'pedra', 'papel' ou 'tesoura'\n",
      "-------------------------------------------\n",
      "Opções válidas: ('pedra', 'papel', 'tesoura')\n",
      "--------------------------------------------\n",
      "Jogador 1 - Digite sua jogada: papel\n",
      "Jogador 2 - Digite sua jogada: tesoura\n",
      "O jogador 1 escolheu: papel\n",
      "O jogador 2 escolheu: tesoura\n",
      "------------------------------\n",
      "Resultado: Jogador 2 venceu! Parabéns!\n",
      "\n",
      "--- Fim de Jogo ---\n"
     ]
    }
   ],
   "source": [
    "#Estudo de Caso 2 - Lógica de Programação - Fundamentos de Linguagem Python Para Construção de Game\n",
    "#Apresentação:\n",
    "print(\"-------------------------------------------\")\n",
    "print(\"Jogo Pedra, Papel e Tesoura (2 Jogadores) \")\n",
    "print(\"-------------------------------------------\")\n",
    "print(\"Escolha entre 'pedra', 'papel' ou 'tesoura'\")\n",
    "print(\"-------------------------------------------\")\n",
    "\n",
    "opcoes_validas = (\"pedra\", \"papel\", \"tesoura\")\n",
    "print(f\"Opções válidas: {opcoes_validas}\")\n",
    "print(\"-\" * 44)\n",
    "\n",
    "#Coleta dos dados\n",
    "jogada_jogador1_inicial = input(\"Jogador 1 - Digite sua jogada: \")\n",
    "jogada_jogador2_inicial = input(\"Jogador 2 - Digite sua jogada: \")\n",
    "\n",
    "#Tratamento dos dados\n",
    "jogada_jogador1 = jogada_jogador1_inicial.lower().strip()\n",
    "jogada_jogador2 = jogada_jogador2_inicial.lower().strip()\n",
    "\n",
    "#Exibição dos dados\n",
    "print(f\"O jogador 1 escolheu: {jogada_jogador1}\")\n",
    "print(f\"O jogador 2 escolheu: {jogada_jogador2}\")\n",
    "print(\"-\" * 30)\n",
    "\n",
    "# Primeiro, verificamos se as jogadas são válidas\n",
    "if jogada_jogador1 not in opcoes_validas or jogada_jogador2 not in opcoes_validas:\n",
    "    print(\"ATENÇÃO: Uma ou ambas as jogadas são inválidas! Por favor, use apenas 'pedra', 'papel' ou 'tesoura'.\")\n",
    "    \n",
    "    # Agora, a lógica principal do jogo, usando operadores de comparação (==) e lógicos (and, or).\n",
    "\n",
    "# Caso 1: Empate\n",
    "elif jogada_jogador1 == jogada_jogador2:\n",
    "    print(\"Resultado: É um empate!\")\n",
    "\n",
    "# Caso 2: Jogador 1 vence\n",
    "# Agrupamos todas as condições de vitória do Jogador 1 com o operador 'or'.\n",
    "elif (jogada_jogador1 == \"pedra\" and jogada_jogador2 == \"tesoura\") or \\\n",
    "     (jogada_jogador1 == \"tesoura\" and jogada_jogador2 == \"papel\") or \\\n",
    "     (jogada_jogador1 == \"papel\" and jogada_jogador2 == \"pedra\"):\n",
    "    print(\"Resultado: Jogador 1 venceu! Parabéns!\")\n",
    "\n",
    "# Caso 3: Se não empatou e o Jogador 1 não venceu, então o Jogador 2 venceu.\n",
    "else:\n",
    "    print(\"Resultado: Jogador 2 venceu! Parabéns!\")\n",
    "\n",
    "print(\"\\n--- Fim de Jogo ---\")"
   ]
  },
  {
   "cell_type": "code",
   "execution_count": null,
   "id": "8b4b1694",
   "metadata": {},
   "outputs": [],
   "source": []
  },
  {
   "cell_type": "code",
   "execution_count": null,
   "id": "d6287309",
   "metadata": {},
   "outputs": [],
   "source": []
  }
 ],
 "metadata": {
  "kernelspec": {
   "display_name": "Python 3 (ipykernel)",
   "language": "python",
   "name": "python3"
  },
  "language_info": {
   "codemirror_mode": {
    "name": "ipython",
    "version": 3
   },
   "file_extension": ".py",
   "mimetype": "text/x-python",
   "name": "python",
   "nbconvert_exporter": "python",
   "pygments_lexer": "ipython3",
   "version": "3.9.13"
  }
 },
 "nbformat": 4,
 "nbformat_minor": 5
}
