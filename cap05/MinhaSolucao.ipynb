{
 "cells": [
  {
   "cell_type": "code",
   "execution_count": null,
   "id": "4438effd",
   "metadata": {},
   "outputs": [],
   "source": [
    "#Estudo de Caso 2 - Lógica de Programação - Fundamentos de Linguagem Python Para Construção de Game\n",
    "#Apresentação:\n",
    "print(\"-------------------------------------------\")\n",
    "print(\"Jogo Pedra, Papel e Tesoura (2 Jogadores) \")\n",
    "print(\"-------------------------------------------\")\n",
    "print(\"Escolha entre 'pedra', 'papel' ou 'tesoura'\")\n",
    "print(\"-------------------------------------------\")\n",
    "\n",
    "opcoes_validas = (\"pedra\", \"papel\", \"tesoura\")\n",
    "print(f\"Opções válidas: {opcoes_validas}\")\n",
    "print(\"-\" * 44)\n",
    "\n",
    "#Coleta dos dados\n",
    "jogada_jogador1_inicial = input(\"Jogador 1 - Digite sua jogada: \")\n",
    "jogada_jogador2_inicial = input(\"Jogador 2 - Digite sua jogada: \")\n",
    "\n",
    "#Tratamento dos dados\n",
    "jogada_jogador1 = jogada_jogador1_inicial.lower().strip()\n",
    "jogada_jogador2 = jogada_jogador2_inicial.lower().strip()\n",
    "\n",
    "#Exibição dos dados\n",
    "print(f\"O jogador 1 escolheu: {jogada_jogador1}\")\n",
    "print(f\"O jogador 2 escolheu: {jogada_jogador2}\")\n",
    "print(\"-\" * 30)\n",
    "\n",
    "# Primeiro, verificamos se as jogadas são válidas\n",
    "if jogada_jogador1 not in opcoes_validas or jogada_jogador2 not in opcoes_validas:\n",
    "    print(\"ATENÇÃO: Uma ou ambas as jogadas são inválidas! Por favor, use apenas 'pedra', 'papel' ou 'tesoura'.\")"
   ]
  },
  {
   "cell_type": "code",
   "execution_count": null,
   "id": "8b4b1694",
   "metadata": {},
   "outputs": [],
   "source": []
  },
  {
   "cell_type": "code",
   "execution_count": null,
   "id": "d6287309",
   "metadata": {},
   "outputs": [],
   "source": []
  }
 ],
 "metadata": {
  "kernelspec": {
   "display_name": "Python 3 (ipykernel)",
   "language": "python",
   "name": "python3"
  },
  "language_info": {
   "codemirror_mode": {
    "name": "ipython",
    "version": 3
   },
   "file_extension": ".py",
   "mimetype": "text/x-python",
   "name": "python",
   "nbconvert_exporter": "python",
   "pygments_lexer": "ipython3",
   "version": "3.9.13"
  }
 },
 "nbformat": 4,
 "nbformat_minor": 5
}
