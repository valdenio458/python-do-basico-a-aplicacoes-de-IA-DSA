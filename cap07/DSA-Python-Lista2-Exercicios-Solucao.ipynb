{
 "cells": [
  {
   "cell_type": "markdown",
   "id": "61d979b2-a85f-4d69-901e-b3bb69419a3e",
   "metadata": {},
   "source": [
    "<!-- Trabalho Desenvolvido na Data Science Academy - www.datascienceacademy.com.br -->\n",
    "# <font color='blue'>Data Science Academy</font>\n",
    "# <font color='blue'>Fundamentos de Linguagem Python - Do Básico a Aplicações de IA</font>\n",
    "# <font color='blue'>Lista 2 de Exercícios</font>"
   ]
  },
  {
   "cell_type": "markdown",
   "id": "3670be14-c985-465c-a68c-34b0e822b07a",
   "metadata": {},
   "source": [
    "#### Exercício 1\n",
    "\n",
    "Escreva uma função que receba os valores de três lados de um triângulo e o classifique como \"Equilátero\" (todos os lados iguais), \"Isósceles\" (dois lados iguais) ou \"Escaleno\" (todos os lados diferentes)."
   ]
  },
  {
   "cell_type": "markdown",
   "id": "9242751a-73df-4105-9a3f-45206cd5f736",
   "metadata": {},
   "source": [
    "FUNÇÃO classifica_triangulo(lado1, lado2, lado3):\n",
    "\n",
    "    SE lado1 == lado2 E lado2 == lado3 ENTÃO:\n",
    "  \n",
    "        RETORNE \"Triângulo Equilátero\"\n",
    "    \n",
    "    SENÃO SE lado1 == lado2 OU lado1 == lado3 OU lado2 == lado3 ENTÃO:\n",
    "  \n",
    "        RETORNE \"Triângulo Isósceles\"\n",
    "    \n",
    "    SENÃO:\n",
    "  \n",
    "        RETORNE \"Triângulo Escaleno\"\n",
    "    \n",
    "FIM FUNÇÃO"
   ]
  },
  {
   "cell_type": "code",
   "execution_count": 1,
   "id": "e05f9264-9103-4c43-9bbf-20334ead2de3",
   "metadata": {},
   "outputs": [
    {
     "name": "stdout",
     "output_type": "stream",
     "text": [
      "Lados 5, 5, 5: Triângulo Equilátero\n",
      "Lados 5, 6, 5: Triângulo Isósceles\n",
      "Lados 5, 6, 7: Triângulo Escaleno\n"
     ]
    }
   ],
   "source": [
    "# Solução\n",
    "def dsa_classifica_triangulo(lado1, lado2, lado3):\n",
    "    \n",
    "    \"\"\"\n",
    "    Classifica um triângulo com base nos comprimentos de seus lados.\n",
    "    \"\"\"\n",
    "    \n",
    "    # 1. Verifica se todos os lados são iguais\n",
    "    if lado1 == lado2 == lado3:\n",
    "        return \"Triângulo Equilátero\"\n",
    "    \n",
    "    # 2. Se não forem todos iguais, verifica se pelo menos dois são iguais\n",
    "    elif lado1 == lado2 or lado1 == lado3 or lado2 == lado3:\n",
    "        return \"Triângulo Isósceles\"\n",
    "        \n",
    "    # 3. Se nenhuma das condições acima for verdade, os lados são todos diferentes\n",
    "    else:\n",
    "        return \"Triângulo Escaleno\"\n",
    "\n",
    "# Testando a função\n",
    "print(f\"Lados 5, 5, 5: {dsa_classifica_triangulo(5, 5, 5)}\")\n",
    "print(f\"Lados 5, 6, 5: {dsa_classifica_triangulo(5, 6, 5)}\")\n",
    "print(f\"Lados 5, 6, 7: {dsa_classifica_triangulo(5, 6, 7)}\")"
   ]
  },
  {
   "cell_type": "markdown",
   "id": "c740abbd-3a0e-4f9f-9a26-a3e382b078f5",
   "metadata": {},
   "source": [
    "#### Exercício 2\n",
    "<!-- Trabalho Desenvolvido na Data Science Academy - www.datascienceacademy.com.br -->\n",
    "Escreva uma função que recebe um número inteiro e exibe a tabuada de multiplicação desse número, do 1 ao 10."
   ]
  },
  {
   "cell_type": "markdown",
   "id": "943fd595-73f3-4026-9fac-092198c6c5e4",
   "metadata": {},
   "source": [
    "FUNÇÃO exibe_tabuada(numero):\n",
    "  \n",
    "    IMPRIMA \"Tabuada do \" + numero\n",
    "  \n",
    "    PARA i DE 1 ATÉ 10 FAÇA:\n",
    "    \n",
    "        resultado = numero * i\n",
    "    \n",
    "        IMPRIMA numero + \" x \" + i + \" = \" + resultado\n",
    "  \n",
    "    FIM PARA\n",
    "\n",
    "FIM FUNÇÃO"
   ]
  },
  {
   "cell_type": "code",
   "execution_count": 2,
   "id": "431acb5d-fcd1-4ce4-9eee-6117b4066383",
   "metadata": {},
   "outputs": [
    {
     "name": "stdout",
     "output_type": "stream",
     "text": [
      "--- Tabuada do 7 ---\n",
      "7 x 1 = 7\n",
      "7 x 2 = 14\n",
      "7 x 3 = 21\n",
      "7 x 4 = 28\n",
      "7 x 5 = 35\n",
      "7 x 6 = 42\n",
      "7 x 7 = 49\n",
      "7 x 8 = 56\n",
      "7 x 9 = 63\n",
      "7 x 10 = 70\n"
     ]
    }
   ],
   "source": [
    "# Solução\n",
    "def dsa_exibe_tabuada(numero):\n",
    "    \n",
    "    \"\"\"\n",
    "    Exibe a tabuada de multiplicação de um número.\n",
    "    \"\"\"\n",
    "    \n",
    "    print(f\"--- Tabuada do {numero} ---\")\n",
    "    \n",
    "    for i in range(1, 11): # O range vai de 1 até 10\n",
    "        resultado = numero * i\n",
    "        print(f\"{numero} x {i} = {resultado}\")\n",
    "\n",
    "# Testando a função\n",
    "dsa_exibe_tabuada(7)"
   ]
  },
  {
   "cell_type": "markdown",
   "id": "3375fbd5-8283-4602-9462-c0c7722e3258",
   "metadata": {},
   "source": [
    "#### Exercício 3 \n",
    "\n",
    "Você recebeu um dicionário com os nomes dos alunos e suas respectivas notas. Escreva uma função que calcula a média da turma e retorna uma lista com os nomes dos alunos que tiveram nota acima da média."
   ]
  },
  {
   "cell_type": "markdown",
   "id": "3158d299-4893-4808-8efa-88bdf49a29b9",
   "metadata": {},
   "source": [
    "FUNÇÃO alunos_acima_da_media(turma):\n",
    "\n",
    "    SE a turma estiver vazia ENTÃO:\n",
    "  \n",
    "        RETORNE \"Dicionário de turma vazio.\"\n",
    "\n",
    "    soma_notas = SOMA de todos os valores no dicionário turma\n",
    "\n",
    "    media = soma_notas / NÚMERO de itens na turma\n",
    "\n",
    "    CRIE uma lista vazia chamada \"aprovados\"\n",
    "\n",
    "    PARA cada aluno, nota EM turma FAÇA:\n",
    "\n",
    "        SE nota > media ENTÃO:\n",
    "\n",
    "          ADICIONE aluno à lista \"aprovados\"\n",
    "\n",
    "        FIM SE\n",
    "\n",
    "      FIM PARA\n",
    "\n",
    "    RETORNE a lista \"aprovados\"\n",
    "\n",
    "FIM FUNÇÃO"
   ]
  },
  {
   "cell_type": "code",
   "execution_count": 3,
   "id": "de7f16bd-c754-456b-a726-28616af68aaa",
   "metadata": {},
   "outputs": [
    {
     "name": "stdout",
     "output_type": "stream",
     "text": [
      "A média da turma é: 7.30\n",
      "Alunos acima da média: ['Ana', 'Carla']\n"
     ]
    }
   ],
   "source": [
    "# Solução\n",
    "def dsa_alunos_acima_da_media(turma):\n",
    "    \n",
    "    \"\"\"\n",
    "    Calcula a média da turma e retorna os alunos com nota superior à média.\n",
    "    \"\"\"\n",
    "    \n",
    "    if not turma:\n",
    "        return \"Dicionário de turma vazio.\"\n",
    "\n",
    "    # Calcula a soma de todas as notas\n",
    "    soma_notas = sum(turma.values())\n",
    "    \n",
    "    # Calcula a média\n",
    "    media = soma_notas / len(turma)\n",
    "\n",
    "    print(f\"A média da turma é: {media:.2f}\")\n",
    "\n",
    "    # Itera sobre o dicionário para encontrar alunos acima da média\n",
    "    aprovados = []\n",
    "    \n",
    "    for aluno, nota in turma.items():\n",
    "        if nota > media:\n",
    "            aprovados.append(aluno)\n",
    "\n",
    "    return aprovados\n",
    "\n",
    "# Dados de exemplo\n",
    "notas_turma = {\"Ana\": 8.5, \"Bruno\": 6.0, \"Carla\": 9.5, \"Marcelo\": 7.0, \"Eliane\": 5.5}\n",
    "\n",
    "# Chama a função\n",
    "print(f\"Alunos acima da média: {dsa_alunos_acima_da_media(notas_turma)}\")"
   ]
  },
  {
   "cell_type": "markdown",
   "id": "7a6f120d-ef3d-4431-a9a1-1f8a99bae626",
   "metadata": {},
   "source": [
    "#### Exercício 4\n",
    "\n",
    "Dada uma lista de números, crie uma nova lista usando list comprehension que contenha o quadrado de cada número par da lista original."
   ]
  },
  {
   "cell_type": "markdown",
   "id": "96214722-6f6d-4368-924f-680da9cd78c9",
   "metadata": {},
   "source": [
    "INÍCIO\n",
    "\n",
    "    CRIE uma lista de números chamada \"numeros\"\n",
    "  \n",
    "    CRIE uma nova lista \"quadrado_dos_pares\" da seguinte forma:\n",
    "  \n",
    "        PARA cada x EM \"numeros\":\n",
    "    \n",
    "            SE x é par (x % 2 == 0):\n",
    "      \n",
    "                INCLUA x ao quadrado (x ** 2) na nova lista\n",
    "        \n",
    "    IMPRIMA \"quadrado_dos_pares\"\n",
    "  \n",
    "FIM"
   ]
  },
  {
   "cell_type": "code",
   "execution_count": 4,
   "id": "d40d066e-42b3-4659-a098-4bb73a3448a2",
   "metadata": {},
   "outputs": [
    {
     "name": "stdout",
     "output_type": "stream",
     "text": [
      "Lista original: [1, 2, 3, 4, 5, 6, 7, 8, 9, 10]\n",
      "Quadrado dos números pares: [4, 16, 36, 64, 100]\n"
     ]
    }
   ],
   "source": [
    "# Solução\n",
    "\n",
    "# Lista\n",
    "numeros = [1, 2, 3, 4, 5, 6, 7, 8, 9, 10]\n",
    "\n",
    "# List comprehension com uma condição if\n",
    "quadrado_dos_pares = [x ** 2 for x in numeros if x % 2 == 0]\n",
    "\n",
    "print(f\"Lista original: {numeros}\")\n",
    "print(f\"Quadrado dos números pares: {quadrado_dos_pares}\")"
   ]
  },
  {
   "cell_type": "markdown",
   "id": "a3182326-e5c7-4b8b-aeae-f30bbc3532b2",
   "metadata": {},
   "source": [
    "#### Exercício 5\n",
    "\n",
    "Crie uma função chamada dsa_calcula_imc que aceite dois argumentos: peso (em kg) e altura (em metros). A função deve calcular o Índice de Massa Corporal (IMC) usando a fórmula IMC=peso/altura^2 e retornar o valor do IMC."
   ]
  },
  {
   "cell_type": "markdown",
   "id": "bac5de97-4c59-4ab6-b66f-6f5c384e916c",
   "metadata": {},
   "source": [
    "FUNÇÃO calcula_imc(peso, altura):\n",
    "\n",
    "    SE altura <= 0 ENTÃO:\n",
    "  \n",
    "        RETORNE \"Altura inválida.\"\n",
    "\n",
    "    imc = peso / (altura * altura)\n",
    "  \n",
    "    RETORNE imc\n",
    "  \n",
    "FIM FUNÇÃO"
   ]
  },
  {
   "cell_type": "code",
   "execution_count": 5,
   "id": "40007f31-7641-4d98-9521-c23f0741c37f",
   "metadata": {},
   "outputs": [
    {
     "name": "stdout",
     "output_type": "stream",
     "text": [
      "Seu IMC é: 23.15\n",
      "O outro IMC é: 22.04\n"
     ]
    }
   ],
   "source": [
    "# Solução\n",
    "\n",
    "# Função\n",
    "def dsa_calcula_imc(peso, altura):\n",
    "    \n",
    "    \"\"\"\n",
    "    Calcula o Índice de Massa Corporal (IMC).\n",
    "\n",
    "    Parâmetros:\n",
    "    peso (float): peso em quilogramas.\n",
    "    altura (float): altura em metros.\n",
    "\n",
    "    Retorna:\n",
    "    float: o valor do IMC calculado.\n",
    "    \"\"\"\n",
    "    \n",
    "    if altura <= 0:\n",
    "        return \"Altura inválida. Deve ser maior que zero.\"\n",
    "\n",
    "    # Calcula o IMC\n",
    "    imc = peso / (altura ** 2)\n",
    "    \n",
    "    return imc\n",
    "\n",
    "# Testando a função com argumentos posicionais\n",
    "meu_imc = dsa_calcula_imc(75, 1.80)\n",
    "print(f\"Seu IMC é: {meu_imc:.2f}\")\n",
    "\n",
    "# Testando com argumentos nomeados (keyword arguments)\n",
    "outro_imc = dsa_calcula_imc(altura=1.65, peso=60)\n",
    "print(f\"O outro IMC é: {outro_imc:.2f}\")"
   ]
  },
  {
   "cell_type": "markdown",
   "id": "b87006e7-5436-4dc0-acfc-fe6e83330191",
   "metadata": {},
   "source": [
    "#### Exercício 6\n",
    "<!-- Trabalho Desenvolvido na Data Science Academy - www.datascienceacademy.com.br -->\n",
    "Você tem uma lista de dicionários, onde cada dicionário representa uma pessoa com nome e idade. Use a função sorted() com uma expressão lambda como chave (key) para ordenar a lista de pessoas da mais nova para a mais velha."
   ]
  },
  {
   "cell_type": "markdown",
   "id": "05caff2c-acdf-47b1-b98c-52ad21bb11ac",
   "metadata": {},
   "source": [
    "INÍCIO\n",
    "\n",
    "    CRIE uma lista de dicionários chamada \"pessoas\", onde cada dicionário tem 'nome' e 'idade'.\n",
    "  \n",
    "    CRIE uma nova lista \"pessoas_ordenadas\" ordenando a lista \"pessoas\".\n",
    "  \n",
    "    USE como critério de ordenação o valor da chave 'idade' de cada dicionário.\n",
    "  \n",
    "    IMPRIMA \"pessoas_ordenadas\"\n",
    "  \n",
    "FIM"
   ]
  },
  {
   "cell_type": "code",
   "execution_count": 6,
   "id": "1f0c0503-1346-47f1-8cb9-ddbcd87641ea",
   "metadata": {},
   "outputs": [
    {
     "name": "stdout",
     "output_type": "stream",
     "text": [
      "Lista original:\n",
      "[{'nome': 'Carla', 'idade': 32}, {'nome': 'Bruno', 'idade': 25}, {'nome': 'Ana', 'idade': 45}, {'nome': 'Daniel', 'idade': 22}]\n",
      "\n",
      "Lista ordenada por idade:\n",
      "[{'nome': 'Daniel', 'idade': 22}, {'nome': 'Bruno', 'idade': 25}, {'nome': 'Carla', 'idade': 32}, {'nome': 'Ana', 'idade': 45}]\n"
     ]
    }
   ],
   "source": [
    "# Solução\n",
    "\n",
    "# Lista de dicionários\n",
    "pessoas = [\n",
    "    {'nome': 'Carla', 'idade': 32},\n",
    "    {'nome': 'Bruno', 'idade': 25},\n",
    "    {'nome': 'Ana', 'idade': 45},\n",
    "    {'nome': 'Daniel', 'idade': 22}\n",
    "]\n",
    "\n",
    "# A função lambda extrai a idade de cada dicionário 'p' para ser usada como critério de ordenação\n",
    "pessoas_ordenadas = sorted(pessoas, key = lambda p: p['idade'])\n",
    "\n",
    "print(\"Lista original:\")\n",
    "print(pessoas)\n",
    "print(\"\\nLista ordenada por idade:\")\n",
    "print(pessoas_ordenadas)"
   ]
  },
  {
   "cell_type": "markdown",
   "id": "268f4ea6-5329-457b-8b1f-8b3fc7956603",
   "metadata": {},
   "source": [
    "#### Exercício 7\n",
    "\n",
    "Crie uma função que receba uma lista de números inteiros e retorne um dicionário contendo a contagem de quantos números são pares e quantos são ímpares."
   ]
  },
  {
   "cell_type": "markdown",
   "id": "fa09bfd2-85ca-4961-b73e-e5b7be079e92",
   "metadata": {},
   "source": [
    "FUNÇÃO conta_pares_impares(lista_numeros):\n",
    "\n",
    "    CRIE um dicionário \"contagem\" com {'pares': 0, 'impares': 0}\n",
    "\n",
    "    PARA cada numero EM lista_numeros FAÇA:\n",
    "  \n",
    "        SE numero é par ENTÃO:\n",
    "    \n",
    "            incremente contagem['pares'] em 1\n",
    "      \n",
    "        SENÃO:\n",
    "    \n",
    "          incremente contagem['impares'] em 1\n",
    "      \n",
    "        FIM SE\n",
    "    \n",
    "      FIM PARA\n",
    "\n",
    "    RETORNE o dicionário \"contagem\"\n",
    "  \n",
    "FIM FUNÇÃO"
   ]
  },
  {
   "cell_type": "code",
   "execution_count": 7,
   "id": "7366a477-10f5-46ec-ba8c-b0ab6067fed0",
   "metadata": {},
   "outputs": [
    {
     "name": "stdout",
     "output_type": "stream",
     "text": [
      "Na lista, há 5 números pares e 6 números ímpares.\n"
     ]
    }
   ],
   "source": [
    "# Solução\n",
    "\n",
    "# Função\n",
    "def dsa_conta_pares_impares(lista_numeros):\n",
    "    \n",
    "    \"\"\"\n",
    "    Conta a quantidade de números pares e ímpares em uma lista.\n",
    "    \"\"\"\n",
    "    \n",
    "    contagem = {'pares': 0, 'impares': 0}\n",
    "\n",
    "    for numero in lista_numeros:\n",
    "        if numero % 2 == 0:\n",
    "            contagem['pares'] += 1\n",
    "        else:\n",
    "            contagem['impares'] += 1\n",
    "\n",
    "    return contagem\n",
    "\n",
    "# Lista de teste\n",
    "numeros = [1, 2, 3, 4, 5, 6, 7, 8, 9, 10, 11]\n",
    "resultado = dsa_conta_pares_impares(numeros)\n",
    "print(f\"Na lista, há {resultado['pares']} números pares e {resultado['impares']} números ímpares.\")"
   ]
  },
  {
   "cell_type": "markdown",
   "id": "bc454f20-7ee6-4402-8319-5e4876e2d309",
   "metadata": {},
   "source": [
    "#### Exercício 8\n",
    "\n",
    "Crie uma função que receba uma lista de strings (potenciais e-mails) e um parâmetro opcional dominio_desejado (com valor padrão \"gmail.com\"). A função deve retornar uma nova lista, usando list comprehension, contendo apenas os e-mails que terminam com o domínio desejado."
   ]
  },
  {
   "cell_type": "markdown",
   "id": "d0015a07-2b0c-4559-8422-e572577775ef",
   "metadata": {},
   "source": [
    "FUNÇÃO filtra_emails_por_dominio(emails, dominio_desejado = \"gmail.com\"):\n",
    "  \n",
    "    CRIE uma nova lista da seguinte forma:\n",
    "    \n",
    "        PARA cada email EM emails:\n",
    "        \n",
    "          SE email termina com \"@\" + dominio_desejado:\n",
    "          \n",
    "            INCLUA o email na nova lista\n",
    "            \n",
    "      RETORNE a nova lista\n",
    "\n",
    "FIM FUNÇÃO"
   ]
  },
  {
   "cell_type": "code",
   "execution_count": 8,
   "id": "11bdc9e8-75be-4448-932d-d876207fd1e4",
   "metadata": {},
   "outputs": [
    {
     "name": "stdout",
     "output_type": "stream",
     "text": [
      "E-mails do Gmail: ['contato@gmail.com', 'suporte@gmail.com']\n",
      "E-mails do Yahoo: ['vendas@yahoo.com']\n"
     ]
    }
   ],
   "source": [
    "# Solução\n",
    "\n",
    "# Função\n",
    "def dsa_filtra_emails_por_dominio(emails, dominio_desejado=\"gmail.com\"):\n",
    "    \n",
    "    \"\"\"\n",
    "    Filtra uma lista de e-mails, retornando apenas aqueles de um domínio específico.\n",
    "    \"\"\"\n",
    "    \n",
    "    return [email for email in emails if email.endswith(f\"@{dominio_desejado}\")]\n",
    "\n",
    "# Dados de exemplo\n",
    "lista_emails = [\n",
    "    \"contato@gmail.com\", \n",
    "    \"vendas@yahoo.com\", \n",
    "    \"suporte@gmail.com\", \n",
    "    \"admin@outlook.com\"\n",
    "]\n",
    "\n",
    "# Usando o domínio padrão (\"gmail.com\")\n",
    "emails_gmail = dsa_filtra_emails_por_dominio(lista_emails)\n",
    "print(f\"E-mails do Gmail: {emails_gmail}\")\n",
    "\n",
    "# Especificando um domínio diferente\n",
    "emails_yahoo = dsa_filtra_emails_por_dominio(lista_emails, dominio_desejado = \"yahoo.com\")\n",
    "print(f\"E-mails do Yahoo: {emails_yahoo}\")"
   ]
  },
  {
   "cell_type": "markdown",
   "id": "40f12391-14a5-4b6d-bcb7-419a373eb0e1",
   "metadata": {},
   "source": [
    "#### Exercício 9\n",
    "\n",
    "Dada uma lista de frases, use a função map() em conjunto com uma expressão lambda para criar uma nova lista onde cada frase é convertida para letras maiúsculas e tem a palavra \"PYTHON\" anexada ao final."
   ]
  },
  {
   "cell_type": "markdown",
   "id": "fa7f24cb-8f4e-4140-aacf-a46cf267b7c4",
   "metadata": {},
   "source": [
    "INÍCIO\n",
    "  \n",
    "    CRIE uma lista de frases.\n",
    "  \n",
    "    USE a função 'map' para aplicar uma transformação a cada frase na lista:\n",
    "    \n",
    "        A transformação deve:\n",
    "        \n",
    "            1. Converter a frase para MAIÚSCULAS.\n",
    "\n",
    "            2. Anexar o texto \" EM PYTHON\" ao final.\n",
    "\n",
    "    CONVERTA o resultado do 'map' para uma lista e armazene em \"frases_modificadas\".\n",
    "    \n",
    "    IMPRIMA cada item de \"frases_modificadas\".\n",
    "\n",
    "FIM"
   ]
  },
  {
   "cell_type": "code",
   "execution_count": 9,
   "id": "98f84688-9bfe-4de8-9f2b-97bf184dbd18",
   "metadata": {},
   "outputs": [
    {
     "name": "stdout",
     "output_type": "stream",
     "text": [
      "APRENDENDO A PROGRAMAR EM PYTHON\n",
      "DOMINANDO ESTRUTURAS DE DADOS EM PYTHON\n",
      "FUNÇÕES ANÔNIMAS SÃO PODEROSAS EM PYTHON\n"
     ]
    }
   ],
   "source": [
    "# Solução\n",
    "\n",
    "# Lista\n",
    "frases = [\n",
    "    \"aprendendo a programar\",\n",
    "    \"dominando estruturas de dados\",\n",
    "    \"funções anônimas são poderosas\"\n",
    "]\n",
    "\n",
    "# map() aplica a função lambda a cada item da lista 'frases'\n",
    "# A lambda transforma a frase em maiúscula e concatena a string\n",
    "frases_modificadas = list(map(lambda f: f.upper() + \" EM PYTHON\", frases))\n",
    "\n",
    "for frase in frases_modificadas:\n",
    "    print(frase)"
   ]
  },
  {
   "cell_type": "markdown",
   "id": "9f07a658-4f72-4e97-a4e1-7c9f973ebca6",
   "metadata": {},
   "source": [
    "#### Exercício 10\n",
    "\n",
    "Crie um jogo onde o computador escolhe um número secreto entre 1 e 20. O jogador tem 5 tentativas para adivinhar. A cada tentativa, o programa informa se o palpite foi muito alto ou muito baixo. Se o jogador acertar, o loop deve ser interrompido com uma mensagem de vitória."
   ]
  },
  {
   "cell_type": "markdown",
   "id": "abd28b02-27bc-4481-bfc1-5dc3077d392d",
   "metadata": {},
   "source": [
    "FUNÇÃO jogo_adivinhacao():\n",
    "\n",
    "    numero_secreto = GERE um número aleatório entre 1 e 20\n",
    "    \n",
    "    tentativas = 5\n",
    "\n",
    "    IMPRIMA mensagem de boas-vindas\n",
    "\n",
    "    ENQUANTO tentativas > 0 FAÇA:\n",
    "    \n",
    "        IMPRIMA o número de tentativas restantes\n",
    "        \n",
    "        PEÇA ao jogador para digitar um palpite\n",
    "        \n",
    "        CONVERTA o palpite para um número inteiro\n",
    "\n",
    "        SE palpite == numero_secreto ENTÃO:\n",
    "        \n",
    "            IMPRIMA \"Parabéns! Você acertou!\"\n",
    "            \n",
    "            INTERROMPA o loop\n",
    "            \n",
    "        SENÃO SE palpite < numero_secreto ENTÃO:\n",
    "        \n",
    "            IMPRIMA \"Muito baixo!\"\n",
    "            \n",
    "        SENÃO:\n",
    "        \n",
    "            IMPRIMA \"Muito alto!\"\n",
    "            \n",
    "        FIM SE\n",
    "\n",
    "        DECREMENTE tentativas em 1\n",
    "        \n",
    "    FIM ENQUANTO\n",
    "\n",
    "    SE o loop terminou sem que o jogador acertasse:\n",
    "    \n",
    "        IMPRIMA \"Fim de jogo! O número era \" + numero_secreto\n",
    "\n",
    "FIM FUNÇÃO"
   ]
  },
  {
   "cell_type": "code",
   "execution_count": 10,
   "id": "aba19b38-a544-4a8d-a162-52a5efe04c9a",
   "metadata": {},
   "outputs": [
    {
     "name": "stdout",
     "output_type": "stream",
     "text": [
      "Adivinhe o número secreto entre 1 e 20. Você tem 5 tentativas!\n",
      "\n",
      "Você tem 5 tentativa(s) restante(s).\n"
     ]
    },
    {
     "name": "stdin",
     "output_type": "stream",
     "text": [
      "Digite seu palpite:  5\n"
     ]
    },
    {
     "name": "stdout",
     "output_type": "stream",
     "text": [
      "Muito baixo!\n",
      "\n",
      "Você tem 4 tentativa(s) restante(s).\n"
     ]
    },
    {
     "name": "stdin",
     "output_type": "stream",
     "text": [
      "Digite seu palpite:  16\n"
     ]
    },
    {
     "name": "stdout",
     "output_type": "stream",
     "text": [
      "Muito alto!\n",
      "\n",
      "Você tem 3 tentativa(s) restante(s).\n"
     ]
    },
    {
     "name": "stdin",
     "output_type": "stream",
     "text": [
      "Digite seu palpite:  12\n"
     ]
    },
    {
     "name": "stdout",
     "output_type": "stream",
     "text": [
      "Muito alto!\n",
      "\n",
      "Você tem 2 tentativa(s) restante(s).\n"
     ]
    },
    {
     "name": "stdin",
     "output_type": "stream",
     "text": [
      "Digite seu palpite:  9\n"
     ]
    },
    {
     "name": "stdout",
     "output_type": "stream",
     "text": [
      "Parabéns! Você acertou!\n"
     ]
    }
   ],
   "source": [
    "# Solução\n",
    "\n",
    "# Importa o pacote random para gerar números aleatórios\n",
    "import random\n",
    "\n",
    "# Define a função do jogo de adivinhação\n",
    "def jogo_adivinhacao():\n",
    "    \n",
    "    # Gera um número secreto aleatório entre 1 e 20\n",
    "    numero_secreto = random.randint(1, 20)\n",
    "\n",
    "    # Define a quantidade de tentativas disponíveis\n",
    "    tentativas = 5\n",
    "\n",
    "    # Mensagem inicial para o jogador\n",
    "    print(\"Adivinhe o número secreto entre 1 e 20. Você tem 5 tentativas!\")\n",
    "\n",
    "    # Loop que continua enquanto ainda houver tentativas\n",
    "    while tentativas > 0:\n",
    "        \n",
    "        # Informa ao jogador quantas tentativas ainda restam\n",
    "        print(f\"\\nVocê tem {tentativas} tentativa(s) restante(s).\")\n",
    "        \n",
    "        # Solicita ao jogador um palpite (entrada de número inteiro)\n",
    "        palpite = int(input(\"Digite seu palpite: \"))\n",
    "\n",
    "        # Verifica se o palpite é igual ao número secreto\n",
    "        if palpite == numero_secreto:\n",
    "            print(\"Parabéns! Você acertou!\")\n",
    "            break  # Interrompe o loop caso o jogador acerte\n",
    "\n",
    "        # Caso o palpite seja menor que o número secreto\n",
    "        elif palpite < numero_secreto:\n",
    "            print(\"Muito baixo!\")\n",
    "\n",
    "        # Caso o palpite seja maior que o número secreto\n",
    "        else:\n",
    "            print(\"Muito alto!\")\n",
    "\n",
    "        # Reduz o número de tentativas em 1\n",
    "        tentativas -= 1\n",
    "\n",
    "    # Este 'else' pertence ao 'while' e só será executado se o loop terminar sem 'break'\n",
    "    else: \n",
    "        print(f\"\\nFim de jogo! O número secreto era {numero_secreto}.\")\n",
    "\n",
    "# Inicia o jogo chamando a função\n",
    "jogo_adivinhacao()"
   ]
  },
  {
   "cell_type": "markdown",
   "id": "800eb189-a900-4307-a31c-910e5bb1e6c9",
   "metadata": {},
   "source": [
    "# Fim"
   ]
  }
 ],
 "metadata": {
  "kernelspec": {
   "display_name": "Python 3 (ipykernel)",
   "language": "python",
   "name": "python3"
  },
  "language_info": {
   "codemirror_mode": {
    "name": "ipython",
    "version": 3
   },
   "file_extension": ".py",
   "mimetype": "text/x-python",
   "name": "python",
   "nbconvert_exporter": "python",
   "pygments_lexer": "ipython3",
   "version": "3.13.5"
  }
 },
 "nbformat": 4,
 "nbformat_minor": 5
}
