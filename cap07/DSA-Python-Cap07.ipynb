{
 "cells": [
  {
   "cell_type": "markdown",
   "id": "3a5b2518-0c35-4a82-b64e-4d8e7a8f6631",
   "metadata": {},
   "source": [
    "<!-- Trabalho Desenvolvido no Curso da Data Science Academy - www.datascienceacademy.com.br -->\n",
    "# <font color='blue'>Data Science Academy</font>\n",
    "# <font color='blue'>Fundamentos de Linguagem Python - Do Básico a Aplicações de IA</font>\n",
    "# <font color='blue'>Programação Orientada a Objetos (POO)</font>"
   ]
  },
  {
   "cell_type": "markdown",
   "id": "c2e1c995-eb42-46f1-9d43-48daed7c4a82",
   "metadata": {},
   "source": [
    "## 1. Introdução à Programação Orientada a Objetos (POO)\n",
    "\n",
    "A POO é um paradigma de programação que organiza o código em torno de \"objetos\", que podem conter tanto dados (atributos) quanto ações (métodos). Pense em um objeto como uma representação de algo do mundo real, como um carro, uma pessoa ou uma conta bancária. Isso ajuda a estruturar programas complexos de forma mais lógica e reutilizável.\n",
    "\n",
    "Praticamente todos os algoritmos de Machine Learning e IA são criados com POO. Quase todas as bibliotecas usadas em tarefas de Ciência de Dados (Análise de Dados, Análise Estatística, Engenharia de Dados) são criadas usando POO."
   ]
  },
  {
   "cell_type": "markdown",
   "id": "028b8eea-30b6-4f7e-8c99-420989bb1b26",
   "metadata": {},
   "source": [
    "## 2. Classes e Objetos - Abstraindo Entidades do Mundo Real\n",
    "\n",
    "Uma Classe é como um \"molde\" para criar objetos. Ela define um conjunto de atributos (características) e métodos (comportamentos) que os objetos desse tipo terão.\n",
    "\n",
    "Um Objeto é uma instância de uma classe. É a entidade real, criada a partir do molde (classe), com a qual você interage em seu programa."
   ]
  },
  {
   "cell_type": "code",
   "execution_count": 1,
   "id": "7ad4d92d-1262-4bc6-9d06-704e2ffff5b3",
   "metadata": {},
   "outputs": [],
   "source": [
    "# Definindo a Classe (o molde)\n",
    "class Carro:\n",
    "    \n",
    "    # O método __init__ é um \"construtor\". Ele é chamado quando um novo objeto é criado.\n",
    "    # 'self' se refere à instância do objeto que está sendo criado.\n",
    "    def __init__(self, marca, modelo, ano):\n",
    "        \n",
    "        # Atributos (dados) do objeto\n",
    "        self.marca = marca\n",
    "        self.modelo = modelo\n",
    "        self.ano = ano\n",
    "        self.ligado = False # Um carro começa desligado por padrão\n",
    "\n",
    "    # Métodos (comportamentos) do objeto\n",
    "    def ligar(self):\n",
    "        \n",
    "        if not self.ligado:\n",
    "            self.ligado = True\n",
    "            print(f\"O {self.modelo} está ligado.\")\n",
    "        else:\n",
    "            print(f\"O {self.modelo} já estava ligado.\")\n",
    "\n",
    "    def desligar(self):\n",
    "        \n",
    "        if self.ligado:\n",
    "            self.ligado = False\n",
    "            print(f\"O {self.modelo} foi desligado.\")\n",
    "        else:\n",
    "            print(f\"O {self.modelo} já estava desligado.\")\n",
    "\n",
    "    def exibir_informacoes(self):\n",
    "        print(f\"Marca: {self.marca}, Modelo: {self.modelo}, Ano: {self.ano}\")"
   ]
  },
  {
   "cell_type": "code",
   "execution_count": 2,
   "id": "2e4825e7-b5dc-4cf0-94a7-a07e029f3a8a",
   "metadata": {},
   "outputs": [],
   "source": [
    "# Criando objeto (instância da classe Carro)\n",
    "carro_1 = Carro(\"Volkswagen\", \"Fusca\", 1967)"
   ]
  },
  {
   "cell_type": "code",
   "execution_count": 3,
   "id": "88e32de9-4e37-42e7-ab2a-e9632dd4cdd0",
   "metadata": {},
   "outputs": [
    {
     "name": "stdout",
     "output_type": "stream",
     "text": [
      "Marca: Volkswagen, Modelo: Fusca, Ano: 1967\n"
     ]
    }
   ],
   "source": [
    "# Usando os objetos\n",
    "carro_1.exibir_informacoes()"
   ]
  },
  {
   "cell_type": "code",
   "execution_count": 4,
   "id": "32a93411-0ee6-429e-ab0a-b03b995fafa5",
   "metadata": {},
   "outputs": [
    {
     "name": "stdout",
     "output_type": "stream",
     "text": [
      "O Fusca está ligado.\n"
     ]
    }
   ],
   "source": [
    "carro_1.ligar()"
   ]
  },
  {
   "cell_type": "code",
   "execution_count": 5,
   "id": "84652c4c-3d69-4590-8efb-2ef3bd80a16b",
   "metadata": {},
   "outputs": [
    {
     "name": "stdout",
     "output_type": "stream",
     "text": [
      "O Fusca foi desligado.\n"
     ]
    }
   ],
   "source": [
    "carro_1.desligar()"
   ]
  },
  {
   "cell_type": "code",
   "execution_count": 6,
   "id": "7cc45cb1-a51c-4dcd-8510-1f8d9e4b4180",
   "metadata": {},
   "outputs": [],
   "source": [
    "# Criando objeto (instância da classe Carro)\n",
    "carro_2 = Carro(\"Tesla\", \"Model S\", 2025)"
   ]
  },
  {
   "cell_type": "code",
   "execution_count": 7,
   "id": "489c1009-3ebe-4efd-a439-849f2db6c25d",
   "metadata": {},
   "outputs": [
    {
     "name": "stdout",
     "output_type": "stream",
     "text": [
      "Marca: Tesla, Modelo: Model S, Ano: 2025\n"
     ]
    }
   ],
   "source": [
    "carro_2.exibir_informacoes()"
   ]
  },
  {
   "cell_type": "code",
   "execution_count": 8,
   "id": "77a2fa7d-173d-4049-a1df-bf9463131bce",
   "metadata": {},
   "outputs": [
    {
     "name": "stdout",
     "output_type": "stream",
     "text": [
      "O Model S está ligado.\n"
     ]
    }
   ],
   "source": [
    "carro_2.ligar()"
   ]
  },
  {
   "cell_type": "markdown",
   "id": "ab25ae42-0821-4344-a4b5-daae447cbb72",
   "metadata": {},
   "source": [
    "## 3. Fundamentos de POO - Encapsulamento\n",
    "\n",
    "O encapsulamento é a ideia de agrupar os dados (atributos) e os métodos que operam nesses dados dentro de uma única unidade (a classe). Ele também envolve restringir o acesso direto aos atributos, geralmente usando um _ (protegido) ou __ (privado) no início do nome do atributo. O acesso é feito através de métodos (getters e setters), o que dá mais controle sobre como os dados são modificados.\n",
    "\n",
    "Vamos modificar a classe Carro para encapsular velocidade e horsepower."
   ]
  },
  {
   "cell_type": "code",
   "execution_count": 9,
   "id": "2424e85e-d39c-4718-9701-623b06abe755",
   "metadata": {},
   "outputs": [],
   "source": [
    "# Define a classe\n",
    "class Carro:\n",
    "\n",
    "    # Método construtor\n",
    "    def __init__(self, marca, modelo, ano):\n",
    "\n",
    "        # Inicializa os atributos\n",
    "        self.marca = marca\n",
    "        self.modelo = modelo\n",
    "        self.ano = ano\n",
    "        self._velocidade = 0      # Atributo protegido, não deve ser acessado diretamente\n",
    "        self.__horsepower = 300   # Atributo privado (name mangling), não deve ser acessado diretamente\n",
    "\n",
    "    # Método \"getter\" para obter o valor da velocidade\n",
    "    def get_velocidade(self):\n",
    "        return self._velocidade\n",
    "\n",
    "    # Método \"setter\" para alterar o valor da velocidade com lógica de controle\n",
    "    def acelerar(self, valor):\n",
    "        if valor > 0:\n",
    "            self._velocidade += valor\n",
    "            print(f\"O {self.modelo} acelerou para {self._velocidade} km/h.\")\n",
    "        else:\n",
    "            print(\"O valor de aceleração deve ser positivo.\")\n",
    "\n",
    "    # Método geral\n",
    "    def frear(self, valor):\n",
    "        if valor > 0:\n",
    "            self._velocidade -= valor\n",
    "            if self._velocidade < 0:\n",
    "                self._velocidade = 0\n",
    "            print(f\"O {self.modelo} freou para {self._velocidade} km/h.\")\n",
    "        else:\n",
    "            print(\"O valor de frenagem deve ser positivo.\")"
   ]
  },
  {
   "cell_type": "code",
   "execution_count": 10,
   "id": "0ee74010-8b0e-4823-ac1e-431c1097e479",
   "metadata": {},
   "outputs": [],
   "source": [
    "# Cria a instância da classe\n",
    "carro_encapsulado = Carro(\"Hyundai\", \"HB20\", 2026)"
   ]
  },
  {
   "cell_type": "code",
   "execution_count": 11,
   "id": "51018dcb-b581-427d-9f64-31840fafdab9",
   "metadata": {},
   "outputs": [
    {
     "data": {
      "text/plain": [
       "2026"
      ]
     },
     "execution_count": 11,
     "metadata": {},
     "output_type": "execute_result"
    }
   ],
   "source": [
    "# Observe que o atributo _velocidade não aparece na lista\n",
    "carro_encapsulado.ano"
   ]
  },
  {
   "cell_type": "code",
   "execution_count": 12,
   "id": "0e6103d6-3277-4658-b828-ea994d8fdfd1",
   "metadata": {},
   "outputs": [
    {
     "name": "stdout",
     "output_type": "stream",
     "text": [
      "O HB20 acelerou para 50 km/h.\n",
      "Velocidade atual: 50 km/h\n",
      "O HB20 freou para 30 km/h.\n",
      "Velocidade atual: 30 km/h\n"
     ]
    }
   ],
   "source": [
    "# Interagindo com o objeto através de métodos\n",
    "carro_encapsulado.acelerar(50)\n",
    "print(f\"Velocidade atual: {carro_encapsulado.get_velocidade()} km/h\")\n",
    "carro_encapsulado.frear(20)\n",
    "print(f\"Velocidade atual: {carro_encapsulado.get_velocidade()} km/h\")"
   ]
  },
  {
   "cell_type": "code",
   "execution_count": 13,
   "id": "994309f7-0c64-4d8c-953a-8ea7d1cbcc5e",
   "metadata": {},
   "outputs": [
    {
     "name": "stdout",
     "output_type": "stream",
     "text": [
      "30\n"
     ]
    }
   ],
   "source": [
    "# Conseguimos acessar diretamente o atributo protegido\n",
    "print(carro_encapsulado._velocidade)"
   ]
  },
  {
   "cell_type": "code",
   "execution_count": 14,
   "id": "b97a9de4-f0dc-4225-b706-9fd3599633c6",
   "metadata": {},
   "outputs": [
    {
     "name": "stdout",
     "output_type": "stream",
     "text": [
      "Velocidade alterada diretamente: 200 km/h\n"
     ]
    }
   ],
   "source": [
    "# Acesso direto (não recomendado)\n",
    "carro_encapsulado._velocidade = 200 # Isso quebra o encapsulamento!\n",
    "print(f\"Velocidade alterada diretamente: {carro_encapsulado._velocidade} km/h\")"
   ]
  },
  {
   "cell_type": "markdown",
   "id": "89985708-b6d8-45bb-bc20-8ba7284c06fb",
   "metadata": {},
   "source": [
    "**ATENÇÃO**: A célula acima funciona porque, em Python, o uso de um único sublinhado no início de um atributo (como _velocidade) é apenas uma convenção de programação, não uma regra imposta pela linguagem. Ou seja, o sublinhado indica para outros desenvolvedores que aquele atributo é considerado \"protegido\" e não deve ser acessado diretamente fora da classe, mas o interpretador Python não impede que você o modifique. Python aceita normalmente, sobrescrevendo o valor interno do atributo, mesmo que isso quebre a lógica de encapsulamento. Diferente de linguagens como Java ou C++, onde o modificador private de fato impede o acesso externo, em Python a proteção é baseada em boas práticas e disciplina do programador.\n",
    "\n",
    "Se a intenção fosse dificultar ainda mais o acesso direto, poderia ser usado duplo sublinhado (__horsepower), que aciona um processo chamado name mangling. Isso não torna o atributo verdadeiramente privado, mas altera o nome interno e dificulta acessá-lo acidentalmente, embora ainda seja possível com alguma insistência."
   ]
  },
  {
   "cell_type": "code",
   "execution_count": 15,
   "id": "ff71455f-3bb8-479b-a553-f109a40416de",
   "metadata": {},
   "outputs": [
    {
     "name": "stdout",
     "output_type": "stream",
     "text": [
      "Erro ao acessar diretamente: 'Carro' object has no attribute '__horsepower'\n"
     ]
    }
   ],
   "source": [
    "# Tentativa de acesso direto falha\n",
    "try:\n",
    "    print(carro_encapsulado.__horsepower)\n",
    "except AttributeError as e:\n",
    "    print(\"Erro ao acessar diretamente:\", e)"
   ]
  },
  {
   "cell_type": "code",
   "execution_count": 16,
   "id": "d92a822c-f0ce-4692-9f3d-dc6d3809383b",
   "metadata": {},
   "outputs": [
    {
     "name": "stdout",
     "output_type": "stream",
     "text": [
      "Acessando pelo nome real interno: 300\n"
     ]
    }
   ],
   "source": [
    "# Mas o atributo existe, só que com nome interno modificado\n",
    "print(\"Acessando pelo nome real interno:\", carro_encapsulado._Carro__horsepower)"
   ]
  },
  {
   "cell_type": "code",
   "execution_count": 17,
   "id": "8e58e628-4988-431b-9608-e0685b98dbc8",
   "metadata": {},
   "outputs": [
    {
     "name": "stdout",
     "output_type": "stream",
     "text": [
      "Horsepower alterado diretamente: 350\n"
     ]
    }
   ],
   "source": [
    "# Acesso direto (não recomendado)\n",
    "carro_encapsulado.__horsepower = 350   # Isso quebra o encapsulamento!\n",
    "print(f\"Horsepower alterado diretamente: {carro_encapsulado.__horsepower}\")"
   ]
  },
  {
   "cell_type": "markdown",
   "id": "9327aab6-78f9-4eb0-9e91-f731cb01023b",
   "metadata": {},
   "source": [
    "Resumindo\n",
    "\n",
    "- _atributo → apenas convenção, acesso é permitido.\n",
    "\n",
    "- __atributo → Python aplica name mangling, mudando o nome interno do atributo para _NomeDaClasse__atributo. Isso dificulta o acesso, mas ainda é possível se você souber o nome interno.\n",
    "\n",
    "Ou seja, em Python o encapsulamento é mais cultural do que técnico."
   ]
  },
  {
   "cell_type": "markdown",
   "id": "544d3d11-6abc-4d71-98d9-9a7ff68a468c",
   "metadata": {},
   "source": [
    "## 4. Fundamentos de POO - Herança\n",
    "<!-- Trabalho Desenvolvido no Curso da Data Science Academy - www.datascienceacademy.com.br -->\n",
    "A herança permite que uma nova classe (chamada de classe filha ou subclasse) herde atributos e métodos de uma classe existente (chamada de classe pai ou superclasse). Isso promove a reutilização de código.\n",
    "\n",
    "Vamos criar uma classe Veiculo genérica e fazer Carro e Moto herdarem dela."
   ]
  },
  {
   "cell_type": "code",
   "execution_count": 18,
   "id": "297b6e04-f3ef-41f2-b550-709a9a98db48",
   "metadata": {},
   "outputs": [],
   "source": [
    "# Classe Pai (Superclasse)\n",
    "class Veiculo:\n",
    "\n",
    "    # Método construtor da classe pai\n",
    "    def __init__(self, marca, modelo):\n",
    "        self.marca = marca\n",
    "        self.modelo = modelo\n",
    "        self.ligado = False\n",
    "\n",
    "    def ligar(self):\n",
    "        self.ligado = True\n",
    "        print(f\"O {self.modelo} foi ligado.\")\n",
    "\n",
    "    def desligar(self):\n",
    "        self.ligado = False\n",
    "        print(f\"O {self.modelo} foi desligado.\")\n",
    "\n",
    "# Classe Filha (Subclasse) que herda de Veiculo\n",
    "class Carro(Veiculo):\n",
    "\n",
    "    # Método construtor da classe filha\n",
    "    def __init__(self, marca, modelo, portas):\n",
    "        # super().__init__() chama o construtor da classe pai\n",
    "        super().__init__(marca, modelo)\n",
    "        self.portas = portas\n",
    "\n",
    "    def exibir_info_carro(self):\n",
    "        print(f\"Carro: {self.marca} {self.modelo}, Portas: {self.portas}\")\n",
    "\n",
    "# Outra Classe Filha\n",
    "class Moto(Veiculo):\n",
    "\n",
    "    # Método construtor da classe filha\n",
    "    def __init__(self, marca, modelo, cilindradas):\n",
    "        super().__init__(marca, modelo)\n",
    "        self.cilindradas = cilindradas\n",
    "\n",
    "    # Este método é específico da classe Moto\n",
    "    def empinar(self):\n",
    "        print(f\"A moto {self.modelo} está empinando! Cuidado!\")"
   ]
  },
  {
   "cell_type": "code",
   "execution_count": 19,
   "id": "bb45f279-fe91-487e-9c6a-8af1fa304549",
   "metadata": {},
   "outputs": [],
   "source": [
    "meu_carro = Carro(\"Volkswagen\", \"Golf\", 4)"
   ]
  },
  {
   "cell_type": "code",
   "execution_count": 20,
   "id": "9091f854-aa4d-42bf-8119-36f8d3c83af2",
   "metadata": {},
   "outputs": [],
   "source": [
    "minha_moto = Moto(\"Honda\", \"CB 500\", 500)"
   ]
  },
  {
   "cell_type": "code",
   "execution_count": 21,
   "id": "97be057e-5792-4959-a893-2ae29e8fb4b6",
   "metadata": {},
   "outputs": [
    {
     "name": "stdout",
     "output_type": "stream",
     "text": [
      "Carro: Volkswagen Golf, Portas: 4\n"
     ]
    }
   ],
   "source": [
    "meu_carro.exibir_info_carro()"
   ]
  },
  {
   "cell_type": "code",
   "execution_count": 22,
   "id": "3169c97c-09de-4c4a-9b87-de8937022527",
   "metadata": {},
   "outputs": [
    {
     "name": "stdout",
     "output_type": "stream",
     "text": [
      "O Golf foi ligado.\n"
     ]
    }
   ],
   "source": [
    "meu_carro.ligar() # Método herdado de Veiculo"
   ]
  },
  {
   "cell_type": "code",
   "execution_count": 23,
   "id": "bf78f7cc-2bf0-49aa-a152-ffde009d3041",
   "metadata": {},
   "outputs": [
    {
     "name": "stdout",
     "output_type": "stream",
     "text": [
      "O CB 500 foi ligado.\n",
      "A moto CB 500 está empinando! Cuidado!\n"
     ]
    }
   ],
   "source": [
    "minha_moto.ligar() # Método herdado de Veiculo\n",
    "minha_moto.empinar() # Método específico de Moto"
   ]
  },
  {
   "cell_type": "markdown",
   "id": "fd0beeb2-1854-425a-8b1d-e938e98e3316",
   "metadata": {},
   "source": [
    "## 5. Fundamentos de POO - Polimorfismo\n",
    "\n",
    "Polimorfismo significa \"muitas formas\". Em POO, refere-se à capacidade de um método se comportar de maneiras diferentes para diferentes objetos. Um exemplo clássico é quando classes filhas sobrescrevem (redefinem) um método da classe pai.\n",
    "<!-- Trabalho Desenvolvido no Curso da Data Science Academy - www.datascienceacademy.com.br -->\n",
    "Vamos criar um método exibir_detalhes na classe Veiculo e sobrescrevê-lo nas classes filhas."
   ]
  },
  {
   "cell_type": "code",
   "execution_count": 24,
   "id": "1a343832-f5cd-40a6-9ec0-bee8b3b5d42d",
   "metadata": {},
   "outputs": [],
   "source": [
    "# Cria a Superclasse\n",
    "class Veiculo:\n",
    "    \n",
    "    def __init__(self, marca, modelo):\n",
    "        self.marca = marca\n",
    "        self.modelo = modelo\n",
    "\n",
    "    def exibir_detalhes(self):\n",
    "        print(f\"Veículo genérico: {self.marca} {self.modelo}\")\n",
    "\n",
    "# Cria a Subclasse\n",
    "class Carro(Veiculo):\n",
    "    \n",
    "    def __init__(self, marca, modelo, portas):\n",
    "        super().__init__(marca, modelo)\n",
    "        self.portas = portas\n",
    "\n",
    "    # Sobrescrevendo o método da classe pai\n",
    "    def exibir_detalhes(self):\n",
    "        print(f\"Carro: {self.marca} {self.modelo} | Portas: {self.portas}\")\n",
    "\n",
    "# Cria a Subclasse\n",
    "class Moto(Veiculo):\n",
    "    \n",
    "    def __init__(self, marca, modelo, cilindradas):\n",
    "        super().__init__(marca, modelo)\n",
    "        self.cilindradas = cilindradas\n",
    "\n",
    "    # Sobrescrevendo o método da classe pai\n",
    "    def exibir_detalhes(self):\n",
    "        print(f\"Moto: {self.marca} {self.modelo} | Cilindradas: {self.cilindradas}cc\")"
   ]
  },
  {
   "cell_type": "code",
   "execution_count": 25,
   "id": "78901841-75b9-4626-bdd7-bb46bff159e2",
   "metadata": {},
   "outputs": [],
   "source": [
    "# Lista de veículos de diferentes tipos\n",
    "veiculos = [\n",
    "    Carro(\"Toyota\", \"Corolla\", 4),\n",
    "    Moto(\"Yamaha\", \"MT-07\", 700),\n",
    "    Veiculo(\"Caloi\", \"Ceci\")        # Usando a classe pai diretamente\n",
    "]"
   ]
  },
  {
   "cell_type": "code",
   "execution_count": 26,
   "id": "34a5a201-787e-437d-93d6-5871896385f6",
   "metadata": {},
   "outputs": [
    {
     "name": "stdout",
     "output_type": "stream",
     "text": [
      "Carro: Toyota Corolla | Portas: 4\n",
      "Moto: Yamaha MT-07 | Cilindradas: 700cc\n",
      "Veículo genérico: Caloi Ceci\n"
     ]
    }
   ],
   "source": [
    "# O mesmo método se comporta de forma diferente para cada objeto\n",
    "for v in veiculos:\n",
    "    v.exibir_detalhes() # Polimorfismo em ação!"
   ]
  },
  {
   "cell_type": "markdown",
   "id": "82b327fc-fa02-4395-8683-baf2b6193981",
   "metadata": {},
   "source": [
    "## 6. Métodos Especiais (ou \"Mágicos\")\n",
    "\n",
    "São métodos com nomes que começam e terminam com duplo sublinhado. Eles permitem que seus objetos se comportem como tipos nativos em Python. Os mais comuns são __init__ (construtor) e __str__ (representação em string do objeto)."
   ]
  },
  {
   "cell_type": "code",
   "execution_count": 27,
   "id": "849a4650-2b64-41cb-8997-3b88c878f7c6",
   "metadata": {},
   "outputs": [],
   "source": [
    "# Cria a classe\n",
    "class Livro:\n",
    "\n",
    "    # Construtor\n",
    "    def __init__(self, titulo, autor, paginas):\n",
    "        self.titulo = titulo\n",
    "        self.autor = autor\n",
    "        self.paginas = paginas\n",
    "\n",
    "    # Chamado quando usamos print() ou str() no objeto\n",
    "    def __str__(self):\n",
    "        return f\"'{self.titulo}' por {self.autor}\"\n",
    "\n",
    "    # Chamado quando usamos len() no objeto\n",
    "    def __len__(self):\n",
    "        return self.paginas"
   ]
  },
  {
   "cell_type": "code",
   "execution_count": 28,
   "id": "a72e3803-ff4a-4a78-92ca-9dbca7784e21",
   "metadata": {},
   "outputs": [],
   "source": [
    "# Cria o objeto\n",
    "livro_dsa = Livro(\"Deep Learning Book\", \"Data Science Academy\", 100)"
   ]
  },
  {
   "cell_type": "code",
   "execution_count": 29,
   "id": "c96c5863-83b9-4b53-b3e7-4ed985063404",
   "metadata": {},
   "outputs": [
    {
     "data": {
      "text/plain": [
       "__main__.Livro"
      ]
     },
     "execution_count": 29,
     "metadata": {},
     "output_type": "execute_result"
    }
   ],
   "source": [
    "type(livro_dsa)"
   ]
  },
  {
   "cell_type": "code",
   "execution_count": 30,
   "id": "e4fd23ea-0b57-42b0-9e7a-46ef713973c6",
   "metadata": {},
   "outputs": [
    {
     "name": "stdout",
     "output_type": "stream",
     "text": [
      "'Deep Learning Book' por Data Science Academy\n"
     ]
    }
   ],
   "source": [
    "# O método __str__ é chamado aqui\n",
    "print(livro_dsa)"
   ]
  },
  {
   "cell_type": "code",
   "execution_count": 31,
   "id": "7ad677f7-bf31-4c52-80ba-0158d384b716",
   "metadata": {},
   "outputs": [
    {
     "name": "stdout",
     "output_type": "stream",
     "text": [
      "O livro tem 100 páginas.\n"
     ]
    }
   ],
   "source": [
    "# O método __len__ é chamado aqui\n",
    "print(f\"O livro tem {len(livro_dsa)} páginas.\")"
   ]
  },
  {
   "cell_type": "markdown",
   "id": "dd3d94e3-1558-46f2-935e-d2b5d01d493f",
   "metadata": {},
   "source": [
    "Aproveite para visitar o Deep Learning Book: https://www.deeplearningbook.com.br"
   ]
  },
  {
   "cell_type": "markdown",
   "id": "b2513428-f58d-4e5b-b1a2-e228019d2932",
   "metadata": {},
   "source": [
    "# Fim"
   ]
  },
  {
   "cell_type": "markdown",
   "id": "b3aadd57-1e35-43ef-b51a-318ae8054601",
   "metadata": {},
   "source": [
    "Este curso é inteiramente gratuito e com certificado de conclusão. Se estiver gostando, ajude o trabalho da Data Science Academy e compartilhe nas suas redes. Conte para as pessoas o que estamos fazendo aqui, oferecendo material de alto nível de forma gratuita. Este é o link da página do curso:\n",
    "\n",
    "https://www.datascienceacademy.com.br/course/fundamentos-de-linguagem-python-do-basico-a-aplicacoes-de-ia"
   ]
  }
 ],
 "metadata": {
  "kernelspec": {
   "display_name": "Python 3 (ipykernel)",
   "language": "python",
   "name": "python3"
  },
  "language_info": {
   "codemirror_mode": {
    "name": "ipython",
    "version": 3
   },
   "file_extension": ".py",
   "mimetype": "text/x-python",
   "name": "python",
   "nbconvert_exporter": "python",
   "pygments_lexer": "ipython3",
   "version": "3.13.5"
  }
 },
 "nbformat": 4,
 "nbformat_minor": 5
}
