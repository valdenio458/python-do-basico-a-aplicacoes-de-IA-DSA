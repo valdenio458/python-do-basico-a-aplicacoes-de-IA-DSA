{
 "cells": [
  {
   "cell_type": "markdown",
   "id": "3a5b2518-0c35-4a82-b64e-4d8e7a8f6631",
   "metadata": {},
   "source": [
    "<!-- Trabalho Desenvolvido no Curso da Data Science Academy - www.datascienceacademy.com.br -->\n",
    "# <font color='blue'>Data Science Academy</font>\n",
    "# <font color='blue'>Fundamentos de Linguagem Python - Do Básico a Aplicações de IA</font>\n",
    "# <font color='blue'>Lógica de Programação, Variáveis, Tipos e Estruturas de Dados</font>"
   ]
  },
  {
   "cell_type": "markdown",
   "id": "c2e1c995-eb42-46f1-9d43-48daed7c4a82",
   "metadata": {},
   "source": [
    "## 1. Lógica de Programação e Pseudocódigo"
   ]
  },
  {
   "cell_type": "markdown",
   "id": "b34d819f-e169-4d19-bedd-e6bcd864c063",
   "metadata": {},
   "source": [
    "### O Que é Lógica de Programação?\n",
    "\n",
    "Antes de escrever código em uma linguagem de programação, é fundamental entender a lógica por trás da solução de um problema. Um algoritmo é uma sequência de passos finitos e bem definidos para resolver um problema. O pseudocódigo é uma forma de representar esses passos de maneira informal e próxima da linguagem humana, antes de traduzi-los para Python.\n",
    "\n",
    "\n",
    "### O Que é Pseudocódigo?\n",
    "\n",
    "**Pseudocódigo** é uma forma de descrever algoritmos usando uma linguagem intermediária entre o português (ou outro idioma natural) e uma linguagem de programação real (como Python, Java, C++).\n",
    "\n",
    "Ele não segue regras rígidas de sintaxe, mas utiliza estruturas comuns da programação (como se, então, senão, enquanto, para cada, função, etc.), escritas de maneira simples e legível para humanos.\n",
    "\n",
    "👉 A ideia é focar na lógica do algoritmo, sem se preocupar com os detalhes técnicos da linguagem que será usada depois.\n",
    "\n",
    "Vejamos um exemplo de Pseudocódigo:"
   ]
  },
  {
   "cell_type": "markdown",
   "id": "a504a2df-512f-47bb-bf15-70002960509d",
   "metadata": {},
   "source": [
    "INÍCIO\n",
    "\n",
    "    LEIA nota1\n",
    "  \n",
    "    LEIA nota2\n",
    "\n",
    "    CALCULE media = (nota1 + nota2) / 2\n",
    "\n",
    "    ESCREVA \"A média do aluno é:\", media\n",
    "\n",
    "    SE media >= 7.0 ENTÃO\n",
    "    \n",
    "        ESCREVA \"Aluno Aprovado!\"\n",
    "  \n",
    "    SENÃO\n",
    "    \n",
    "        ESCREVA \"Aluno Reprovado.\"\n",
    "\n",
    "FIM"
   ]
  },
  {
   "cell_type": "markdown",
   "id": "b188318a-8f28-453f-8f8b-73ca0849d562",
   "metadata": {},
   "source": [
    "Tradução para Python:"
   ]
  },
  {
   "cell_type": "code",
   "execution_count": 1,
   "id": "66a3d8dd-4d7d-471e-a106-8c3f356430bb",
   "metadata": {},
   "outputs": [
    {
     "name": "stdout",
     "output_type": "stream",
     "text": [
      "A média do aluno é: 7.75\n",
      "Aluno Aprovado!\n"
     ]
    }
   ],
   "source": [
    "# Traduzindo o pseudocódigo para Python\n",
    "nota1 = 7.5\n",
    "nota2 = 8.0\n",
    "\n",
    "media = (nota1 + nota2) / 2\n",
    "\n",
    "print(f\"A média do aluno é: {media}\")\n",
    "\n",
    "if media >= 7.0:\n",
    "    print(\"Aluno Aprovado!\")\n",
    "else:\n",
    "    print(\"Aluno Reprovado.\")"
   ]
  },
  {
   "cell_type": "markdown",
   "id": "69576d8a-a0b1-44ca-947f-1f5920f6c849",
   "metadata": {},
   "source": [
    "## 2. Variáveis: Declaração, Atribuição e Regras de Nomenclatura\n",
    "\n",
    "Uma variável é um espaço na memória do computador destinado a armazenar dados. Em Python, a declaração e a atribuição de um valor a uma variável são feitas simultaneamente. Regras de Nomenclatura:\n",
    "\n",
    "- Nomes de variáveis devem começar com uma letra ou um underscore (_).\n",
    "\n",
    "- Não podem começar com um número.\n",
    "\n",
    "- Podem conter apenas caracteres alfanuméricos e underscores (A-z, 0-9 e _).\n",
    "\n",
    "- São \"case-sensitive\" (idade é diferente de Idade)."
   ]
  },
  {
   "cell_type": "code",
   "execution_count": 2,
   "id": "46456b47-cbdf-4ef0-9e78-8b41ca378989",
   "metadata": {},
   "outputs": [],
   "source": [
    "# Declaração e atribuição de variáveis\n",
    "nome_completo = \"Bob da Silva\"   # String (texto)\n",
    "idade = 30                       # Integer (inteiro)\n",
    "altura = 1.76                    # Float (ponto flutuante)\n",
    "eh_estudante = True              # Boolean (booleano)"
   ]
  },
  {
   "cell_type": "code",
   "execution_count": 3,
   "id": "3df5c773-3c4b-488a-b814-142aec36e852",
   "metadata": {},
   "outputs": [
    {
     "name": "stdout",
     "output_type": "stream",
     "text": [
      "Nome: Bob da Silva\n",
      "Idade: 30 anos\n",
      "Altura: 1.76m\n",
      "É estudante? True\n"
     ]
    }
   ],
   "source": [
    "print(f\"Nome: {nome_completo}\")\n",
    "print(f\"Idade: {idade} anos\")\n",
    "print(f\"Altura: {altura}m\")\n",
    "print(f\"É estudante? {eh_estudante}\")"
   ]
  },
  {
   "cell_type": "code",
   "execution_count": 4,
   "id": "59428a36-f235-4f04-a1b3-effa144e4b7c",
   "metadata": {},
   "outputs": [],
   "source": [
    "# Exemplo de nomes de variáveis inválidos (descomente para ver o erro)\n",
    "# 1nome = \"Inválido\"\n",
    "# nome-completo = \"Inválido\""
   ]
  },
  {
   "cell_type": "markdown",
   "id": "3c759041-bc00-4f21-ab25-9ce6d84a0fe4",
   "metadata": {},
   "source": [
    "Python é uma linguagem dinamicamente \"tipada\". Você não precisa declarar o tipo das variáveis ao criá-las, pois Python descobre automaticamente pelo valor atribuído:"
   ]
  },
  {
   "cell_type": "code",
   "execution_count": 5,
   "id": "9190b542-4cdf-4c23-9282-24d8409e91e0",
   "metadata": {},
   "outputs": [],
   "source": [
    "x = 10        # tipo int\n",
    "y1 = 10       # tipo int\n",
    "y2 = \"10\"     # tipo str"
   ]
  },
  {
   "cell_type": "code",
   "execution_count": 6,
   "id": "f4605e58-dd90-4ca6-9a8a-16f1d6d05856",
   "metadata": {},
   "outputs": [
    {
     "data": {
      "text/plain": [
       "int"
      ]
     },
     "execution_count": 6,
     "metadata": {},
     "output_type": "execute_result"
    }
   ],
   "source": [
    "type(x)"
   ]
  },
  {
   "cell_type": "code",
   "execution_count": 7,
   "id": "ebff9917-23f4-4eb3-8c6b-770d5ae3bfbd",
   "metadata": {},
   "outputs": [
    {
     "data": {
      "text/plain": [
       "int"
      ]
     },
     "execution_count": 7,
     "metadata": {},
     "output_type": "execute_result"
    }
   ],
   "source": [
    "type(y1)"
   ]
  },
  {
   "cell_type": "code",
   "execution_count": 8,
   "id": "f0ff711f-f188-4591-81cf-887a3df8c004",
   "metadata": {},
   "outputs": [
    {
     "data": {
      "text/plain": [
       "str"
      ]
     },
     "execution_count": 8,
     "metadata": {},
     "output_type": "execute_result"
    }
   ],
   "source": [
    "type(y2)"
   ]
  },
  {
   "cell_type": "code",
   "execution_count": 9,
   "id": "eeb7cc52-77e1-45ce-b445-f1800663216d",
   "metadata": {},
   "outputs": [
    {
     "name": "stdout",
     "output_type": "stream",
     "text": [
      "20\n"
     ]
    }
   ],
   "source": [
    "# Podemos somar tipos numéricos\n",
    "print(x + y1)"
   ]
  },
  {
   "cell_type": "code",
   "execution_count": 10,
   "id": "7485f336-5237-4b36-89de-a05cecfec130",
   "metadata": {},
   "outputs": [],
   "source": [
    "# Mas não podemos somar número com string\n",
    "# print(x + y2)"
   ]
  },
  {
   "cell_type": "markdown",
   "id": "89db178b-c637-496d-88cb-5629fd14c40e",
   "metadata": {},
   "source": [
    "Ou seja, Python não \"mistura\" tipos incompatíveis automaticamente e isso mostra que a linguagem não é fracamente tipada."
   ]
  },
  {
   "cell_type": "markdown",
   "id": "9526c412-1113-444d-b6b7-49003ca2fbbb",
   "metadata": {},
   "source": [
    "## 3. Escopo de Variáveis\n",
    "\n",
    "O escopo de uma variável define onde ela pode ser acessada no código.\n",
    "\n",
    "- Variáveis Globais: Declaradas fora de qualquer função. Podem ser acessadas de qualquer lugar do código.\n",
    "\n",
    "- Variáveis Locais: Declaradas dentro de uma função. Só podem ser acessadas dentro daquela função."
   ]
  },
  {
   "cell_type": "code",
   "execution_count": 11,
   "id": "0bb2fabb-f279-4736-9c69-7513369559b2",
   "metadata": {},
   "outputs": [
    {
     "name": "stdout",
     "output_type": "stream",
     "text": [
      "\n",
      "Dentro da função: Ana\n",
      "\n",
      "Acessando a variável global de dentro da função: Olá, mundo!\n",
      "\n",
      "Fora da função: Olá, mundo!\n",
      "\n",
      "Fora da função: Aluno DSA\n"
     ]
    }
   ],
   "source": [
    "# Variável Global\n",
    "saudacao = \"Olá, mundo!\"\n",
    "nome = \"Aluno DSA\"\n",
    "\n",
    "# Função\n",
    "def minha_funcao_dsa():\n",
    "    \n",
    "    # Variável Local\n",
    "    nome = \"Ana\"\n",
    "    print(f\"\\nDentro da função: {nome}\")\n",
    "    print(f\"\\nAcessando a variável global de dentro da função: {saudacao}\")\n",
    "\n",
    "minha_funcao_dsa()\n",
    "\n",
    "print(f\"\\nFora da função: {saudacao}\")\n",
    "print(f\"\\nFora da função: {nome}\")"
   ]
  },
  {
   "cell_type": "code",
   "execution_count": 12,
   "id": "11009a43-0597-45d9-be6b-0f602247ff7c",
   "metadata": {},
   "outputs": [
    {
     "name": "stdout",
     "output_type": "stream",
     "text": [
      "\n",
      "Dentro da função: Aluno DSA\n",
      "\n",
      "Acessando a variável global de dentro da função: Olá, mundo!\n"
     ]
    }
   ],
   "source": [
    "# Função\n",
    "def minha_funcao_dsa():\n",
    "    \n",
    "    # Variável Local\n",
    "    nome_local = \"Ana\"\n",
    "    print(f\"\\nDentro da função: {nome}\")\n",
    "    print(f\"\\nAcessando a variável global de dentro da função: {saudacao}\")\n",
    "\n",
    "minha_funcao_dsa()\n",
    "\n",
    "# Tentar acessar a variável local fora da função resultará em um erro (descomente para ver)\n",
    "# print(f\"Tentando acessar 'nome' fora da função: {nome_local}\")"
   ]
  },
  {
   "cell_type": "markdown",
   "id": "34013d7c-bf1f-4900-9735-cd8330a62ef8",
   "metadata": {},
   "source": [
    "## 4. Tipos de Dados Primitivos\n",
    "\n",
    "Estes são os tipos de dados mais básicos em Python."
   ]
  },
  {
   "cell_type": "code",
   "execution_count": 13,
   "id": "d7e6a04d-0c86-4bd7-a0aa-147b43a45cce",
   "metadata": {},
   "outputs": [
    {
     "name": "stdout",
     "output_type": "stream",
     "text": [
      "Valor: 100, Tipo: <class 'int'>\n"
     ]
    }
   ],
   "source": [
    "# Integer (Inteiro)\n",
    "numero_inteiro = 100\n",
    "print(f\"Valor: {numero_inteiro}, Tipo: {type(numero_inteiro)}\")"
   ]
  },
  {
   "cell_type": "code",
   "execution_count": 14,
   "id": "8de08ce1-9dd7-48ac-a441-78943c4fc16d",
   "metadata": {},
   "outputs": [
    {
     "name": "stdout",
     "output_type": "stream",
     "text": [
      "Valor: 19.99, Tipo: <class 'float'>\n"
     ]
    }
   ],
   "source": [
    "# Float (Ponto Flutuante)\n",
    "numero_decimal = 19.99\n",
    "print(f\"Valor: {numero_decimal}, Tipo: {type(numero_decimal)}\")"
   ]
  },
  {
   "cell_type": "code",
   "execution_count": 15,
   "id": "2eb2035f-7617-4d24-bfed-5fbed2adcc6b",
   "metadata": {},
   "outputs": [
    {
     "name": "stdout",
     "output_type": "stream",
     "text": [
      "Valor: 'Python é incrível!', Tipo: <class 'str'>\n"
     ]
    }
   ],
   "source": [
    "# String (Texto)\n",
    "texto = \"Python é incrível!\"\n",
    "print(f\"Valor: '{texto}', Tipo: {type(texto)}\")"
   ]
  },
  {
   "cell_type": "code",
   "execution_count": 16,
   "id": "5134c622-8902-4aab-b51c-4d3fb6d744ad",
   "metadata": {},
   "outputs": [
    {
     "name": "stdout",
     "output_type": "stream",
     "text": [
      "Valor: True, Tipo: <class 'bool'>\n",
      "Valor: False, Tipo: <class 'bool'>\n"
     ]
    }
   ],
   "source": [
    "# Boolean (Booleano)\n",
    "verdadeiro = True\n",
    "falso = False\n",
    "print(f\"Valor: {verdadeiro}, Tipo: {type(verdadeiro)}\")\n",
    "print(f\"Valor: {falso}, Tipo: {type(falso)}\")"
   ]
  },
  {
   "cell_type": "markdown",
   "id": "1e4afa46-6d82-4fae-af02-209484ad83c5",
   "metadata": {},
   "source": [
    "## 5. Operadores Aritméticos, de Comparação e Lógicos\n",
    "\n",
    "### 5.1. Operadores Aritméticos\n",
    "\n",
    "Usados para realizar operações matemáticas."
   ]
  },
  {
   "cell_type": "code",
   "execution_count": 17,
   "id": "4e1746a3-305b-433c-8969-284de0db02c0",
   "metadata": {},
   "outputs": [],
   "source": [
    "# Definição de variáveis\n",
    "a = 10\n",
    "b = 3"
   ]
  },
  {
   "cell_type": "code",
   "execution_count": 18,
   "id": "44c0c43d-e6a5-489c-8cfb-32225d5cd394",
   "metadata": {},
   "outputs": [],
   "source": [
    "# Usando operadores aritméticos\n",
    "soma = a + b              # Adição\n",
    "subtracao = a - b         # Subtração\n",
    "multiplicacao = a * b     # Multiplicação\n",
    "divisao = a / b           # Divisão (resultado é sempre float)\n",
    "divisao_inteira = a // b  # Divisão inteira (descarta a parte decimal)\n",
    "modulo = a % b            # Módulo (resto da divisão)\n",
    "potencia = a ** b         # Potenciação"
   ]
  },
  {
   "cell_type": "code",
   "execution_count": 19,
   "id": "4498e540-0cda-429e-b2ba-6966ccb86216",
   "metadata": {},
   "outputs": [
    {
     "name": "stdout",
     "output_type": "stream",
     "text": [
      "10 + 3 = 13\n",
      "10 - 3 = 7\n",
      "10 * 3 = 30\n",
      "10 / 3 = 3.33\n",
      "10 // 3 = 3\n",
      "10 % 3 = 1\n",
      "10 ** 3 = 1000\n"
     ]
    }
   ],
   "source": [
    "print(f\"{a} + {b} = {soma}\")\n",
    "print(f\"{a} - {b} = {subtracao}\")\n",
    "print(f\"{a} * {b} = {multiplicacao}\")\n",
    "print(f\"{a} / {b} = {divisao:.2f}\")\n",
    "print(f\"{a} // {b} = {divisao_inteira}\")\n",
    "print(f\"{a} % {b} = {modulo}\")\n",
    "print(f\"{a} ** {b} = {potencia}\")"
   ]
  },
  {
   "cell_type": "code",
   "execution_count": 20,
   "id": "320f4f59-68b1-4b6f-ae6a-6d4482be839d",
   "metadata": {},
   "outputs": [],
   "source": [
    "# As regras da matemática de aplicam aqui normalmente\n",
    "\n",
    "# Variáveis\n",
    "a = 10\n",
    "b = 0\n",
    "\n",
    "# Tentativa de divisão por zero\n",
    "# a/b"
   ]
  },
  {
   "cell_type": "markdown",
   "id": "1a12dd97-1676-442c-9ac3-9178d0e3f3f0",
   "metadata": {},
   "source": [
    "Para explorar as bases da Matemática e da Estatística para Para Data Science, Machine Learning e IA, confira o curso: \n",
    "\n",
    "<a href=\"https://www.datascienceacademy.com.br/course/matematica-e-estatistica-aplicada-para-data-science-machine-learning-e-ia\"> Matemática e Estatística Aplicada Para Data Science, Machine Learning e IA</a>"
   ]
  },
  {
   "cell_type": "code",
   "execution_count": 21,
   "id": "7077514c-25ef-4c78-aeb3-ef89a0f45094",
   "metadata": {},
   "outputs": [],
   "source": [
    "# Cuidado. Isso não pode!\n",
    "# 8 + 's'"
   ]
  },
  {
   "cell_type": "code",
   "execution_count": 22,
   "id": "8279e552-2327-429a-ac15-c69845b38edd",
   "metadata": {},
   "outputs": [
    {
     "data": {
      "text/plain": [
       "'8s'"
      ]
     },
     "execution_count": 22,
     "metadata": {},
     "output_type": "execute_result"
    }
   ],
   "source": [
    "# Mas isso pode! (não é soma, é concatenação)\n",
    "'8' + 's' "
   ]
  },
  {
   "cell_type": "markdown",
   "id": "00dd5f64-54ee-4868-abaf-5093abd8e6d9",
   "metadata": {},
   "source": [
    "### 5.2. Operadores de Comparação\n",
    "\n",
    "Usados para comparar valores. O resultado é sempre um Boolean (True ou False)."
   ]
  },
  {
   "cell_type": "code",
   "execution_count": 23,
   "id": "4f0488c2-b28f-4a0a-ab98-f0f3ec24a9fe",
   "metadata": {},
   "outputs": [],
   "source": [
    "# Definição de variáveis\n",
    "x = 5\n",
    "y = 10"
   ]
  },
  {
   "cell_type": "code",
   "execution_count": 24,
   "id": "f1521a02-24f4-42a9-971e-307f768b5c4e",
   "metadata": {},
   "outputs": [
    {
     "data": {
      "text/plain": [
       "False"
      ]
     },
     "execution_count": 24,
     "metadata": {},
     "output_type": "execute_result"
    }
   ],
   "source": [
    "# Operador \"maior que\"\n",
    "x > y"
   ]
  },
  {
   "cell_type": "code",
   "execution_count": 25,
   "id": "e7b83ce4-5309-44cc-b329-d16ebeb0201e",
   "metadata": {},
   "outputs": [
    {
     "data": {
      "text/plain": [
       "True"
      ]
     },
     "execution_count": 25,
     "metadata": {},
     "output_type": "execute_result"
    }
   ],
   "source": [
    "# Operador \"menor que\"\n",
    "x < y"
   ]
  },
  {
   "cell_type": "code",
   "execution_count": 26,
   "id": "05f34ec4-ee61-4c8a-b50b-25d861d03f1f",
   "metadata": {},
   "outputs": [
    {
     "data": {
      "text/plain": [
       "False"
      ]
     },
     "execution_count": 26,
     "metadata": {},
     "output_type": "execute_result"
    }
   ],
   "source": [
    "# Operador \"igual a\"\n",
    "x == y"
   ]
  },
  {
   "cell_type": "code",
   "execution_count": 27,
   "id": "3b204981-e808-404b-a7cf-eb2518cedef9",
   "metadata": {},
   "outputs": [
    {
     "data": {
      "text/plain": [
       "True"
      ]
     },
     "execution_count": 27,
     "metadata": {},
     "output_type": "execute_result"
    }
   ],
   "source": [
    "# Operador \"diferente de\"\n",
    "x != y"
   ]
  },
  {
   "cell_type": "code",
   "execution_count": 28,
   "id": "97b4f4e4-6e13-4f6b-b56e-1443e5063e90",
   "metadata": {},
   "outputs": [
    {
     "data": {
      "text/plain": [
       "True"
      ]
     },
     "execution_count": 28,
     "metadata": {},
     "output_type": "execute_result"
    }
   ],
   "source": [
    "# Operador \"maior ou igual a\"\n",
    "x >= 5"
   ]
  },
  {
   "cell_type": "code",
   "execution_count": 29,
   "id": "e7f788aa-3817-4412-9861-3408dbc86904",
   "metadata": {},
   "outputs": [
    {
     "data": {
      "text/plain": [
       "True"
      ]
     },
     "execution_count": 29,
     "metadata": {},
     "output_type": "execute_result"
    }
   ],
   "source": [
    "# Operador \"menor ou igual a\"\n",
    "x <= y"
   ]
  },
  {
   "cell_type": "code",
   "execution_count": 30,
   "id": "9ec3e689-4fda-43b9-8058-42964ed89243",
   "metadata": {},
   "outputs": [
    {
     "name": "stdout",
     "output_type": "stream",
     "text": [
      "5 > 10 ? False\n",
      "5 < 10 ? True\n",
      "5 == 10 ? False\n",
      "5 != 10 ? True\n",
      "5 >= 5 ? True\n",
      "5 <= 10 ? True\n"
     ]
    }
   ],
   "source": [
    "print(f\"{x} > {y} ? {x > y}\")      # Maior que\n",
    "print(f\"{x} < {y} ? {x < y}\")      # Menor que\n",
    "print(f\"{x} == {y} ? {x == y}\")    # Igual a\n",
    "print(f\"{x} != {y} ? {x != y}\")    # Diferente de\n",
    "print(f\"{x} >= 5 ? {x >= 5}\")      # Maior ou igual a\n",
    "print(f\"{x} <= {y} ? {x <= y}\")    # Menor ou igual a"
   ]
  },
  {
   "cell_type": "markdown",
   "id": "00a5b507-1263-4242-9ec8-ffe76d8a085e",
   "metadata": {},
   "source": [
    "### 5.3. Operadores Lógicos\n",
    "\n",
    "Usados para combinar expressões booleanas."
   ]
  },
  {
   "cell_type": "code",
   "execution_count": 31,
   "id": "a0d167f7-a799-44e5-aded-7801300ba730",
   "metadata": {},
   "outputs": [],
   "source": [
    "# Definição de variáveis\n",
    "tem_dinheiro = True\n",
    "tem_tempo = False"
   ]
  },
  {
   "cell_type": "code",
   "execution_count": 32,
   "id": "68cc83b6-f177-4219-9452-b2fb512f8c02",
   "metadata": {},
   "outputs": [
    {
     "name": "stdout",
     "output_type": "stream",
     "text": [
      "O cliente pode viajar? False\n"
     ]
    }
   ],
   "source": [
    "# Operador AND (e): Ambos precisam ser verdadeiros\n",
    "print(f\"O cliente pode viajar? {tem_dinheiro and tem_tempo}\")"
   ]
  },
  {
   "cell_type": "code",
   "execution_count": 33,
   "id": "bb77985f-9940-4535-86c8-49bb458c17eb",
   "metadata": {},
   "outputs": [
    {
     "name": "stdout",
     "output_type": "stream",
     "text": [
      "O cliente pode viajar? True\n"
     ]
    }
   ],
   "source": [
    "# Operador OR (ou): Pelo menos um precisa ser verdadeiro\n",
    "print(f\"O cliente pode viajar? {tem_dinheiro or tem_tempo}\")"
   ]
  },
  {
   "cell_type": "code",
   "execution_count": 34,
   "id": "3ec160c5-48b4-49db-81db-8a2db924fef9",
   "metadata": {},
   "outputs": [
    {
     "name": "stdout",
     "output_type": "stream",
     "text": [
      "O cliente pode viajar? True\n"
     ]
    }
   ],
   "source": [
    "# Operador NOT (não): Inverte o valor booleano\n",
    "print(f\"O cliente pode viajar? {tem_dinheiro and not tem_tempo}\")"
   ]
  },
  {
   "cell_type": "markdown",
   "id": "e1a60988-1feb-42d7-a889-8bb717981ff1",
   "metadata": {},
   "source": [
    "## 6. Manipulação de Strings\n",
    "<!-- Trabalho Desenvolvido no Curso da Data Science Academy - www.datascienceacademy.com.br -->\n",
    "Strings são sequências de caracteres e possuem muitos métodos úteis."
   ]
  },
  {
   "cell_type": "code",
   "execution_count": 35,
   "id": "0f7ac26c-dfc6-495c-bbb8-6e587a6545b2",
   "metadata": {},
   "outputs": [],
   "source": [
    "# Define uma variável do tipo string\n",
    "frase = \"  Aprender Python é muito divertido!  \""
   ]
  },
  {
   "cell_type": "code",
   "execution_count": 36,
   "id": "c69cd8c8-ed93-4a61-b7da-9b7cc686289f",
   "metadata": {},
   "outputs": [
    {
     "name": "stdout",
     "output_type": "stream",
     "text": [
      "Olá, Maria!\n"
     ]
    }
   ],
   "source": [
    "# Concatenação\n",
    "nome = \"Maria\"\n",
    "saudacao = \"Olá, \" + nome + \"!\"\n",
    "print(saudacao)"
   ]
  },
  {
   "cell_type": "code",
   "execution_count": 37,
   "id": "12376a92-378e-47ba-83f8-fc5195039bfe",
   "metadata": {},
   "outputs": [
    {
     "name": "stdout",
     "output_type": "stream",
     "text": [
      "Tamanho da frase: 38\n"
     ]
    }
   ],
   "source": [
    "# Tamanho da string\n",
    "print(f\"Tamanho da frase: {len(frase)}\")"
   ]
  },
  {
   "cell_type": "code",
   "execution_count": 38,
   "id": "a09b452d-b3d8-4d30-b284-e1c333b0a1e2",
   "metadata": {},
   "outputs": [
    {
     "name": "stdout",
     "output_type": "stream",
     "text": [
      "Maiúsculas:   APRENDER PYTHON É MUITO DIVERTIDO!  \n",
      "Minúsculas:   aprender python é muito divertido!  \n"
     ]
    }
   ],
   "source": [
    "# Maiúsculas e Minúsculas\n",
    "print(f\"Maiúsculas: {frase.upper()}\")\n",
    "print(f\"Minúsculas: {frase.lower()}\")"
   ]
  },
  {
   "cell_type": "code",
   "execution_count": 39,
   "id": "6d9e5d13-bfaf-4851-acbb-db411da9b68c",
   "metadata": {},
   "outputs": [
    {
     "name": "stdout",
     "output_type": "stream",
     "text": [
      "Frase sem espaços: 'Aprender Python é muito divertido!'\n"
     ]
    }
   ],
   "source": [
    "# Remover espaços em branco do início e do fim\n",
    "frase_sem_espacos = frase.strip()\n",
    "print(f\"Frase sem espaços: '{frase_sem_espacos}'\")"
   ]
  },
  {
   "cell_type": "code",
   "execution_count": 40,
   "id": "88fc370e-a184-4542-b030-ab4315a376f7",
   "metadata": {},
   "outputs": [
    {
     "name": "stdout",
     "output_type": "stream",
     "text": [
      "Substituindo 'divertido' por 'legal': Aprender Python é muito legal!\n"
     ]
    }
   ],
   "source": [
    "# Substituir texto\n",
    "print(f\"Substituindo 'divertido' por 'legal': {frase_sem_espacos.replace('divertido', 'legal')}\")"
   ]
  },
  {
   "cell_type": "code",
   "execution_count": 41,
   "id": "3fd583fe-7f83-4219-85da-2fb1610aa53a",
   "metadata": {},
   "outputs": [
    {
     "name": "stdout",
     "output_type": "stream",
     "text": [
      "Frase sem espaços: 'Aprender Python é muito divertido!'\n"
     ]
    }
   ],
   "source": [
    "print(f\"Frase sem espaços: '{frase_sem_espacos}'\")"
   ]
  },
  {
   "cell_type": "code",
   "execution_count": 42,
   "id": "65d5ab70-4346-4946-b6a9-849a231f15ba",
   "metadata": {},
   "outputs": [
    {
     "name": "stdout",
     "output_type": "stream",
     "text": [
      "Aprender Python é muito divertido!\n",
      "O primeiro caractere: A\n",
      "A palavra 'Python': Python\n"
     ]
    }
   ],
   "source": [
    "# Fatiamento (Slicing) - Acessando partes de uma string\n",
    "# O índice em Python começa em 0\n",
    "print(frase_sem_espacos)\n",
    "print(f\"O primeiro caractere: {frase_sem_espacos[0]}\")\n",
    "print(f\"A palavra 'Python': {frase_sem_espacos[9:15]}\") # Do índice 9 ao 14"
   ]
  },
  {
   "cell_type": "markdown",
   "id": "ff1c9937-6c0d-4781-9bd6-4ea7718228e0",
   "metadata": {},
   "source": [
    "**ATENÇÃO MÁXIMA: A INDEXAÇÃO EM PYTHON COMEÇA POR ZERO!**"
   ]
  },
  {
   "cell_type": "markdown",
   "id": "7126c01b-e5ab-4e80-bc89-db9cba0e25ae",
   "metadata": {},
   "source": [
    "## 7. Estruturas de Dados - Listas\n",
    "\n",
    "Listas são coleções ordenadas e **mutáveis** de itens. Podem conter diferentes tipos de dados."
   ]
  },
  {
   "cell_type": "code",
   "execution_count": 43,
   "id": "5f007e68-3d0f-4255-9894-1b92ea5cda0f",
   "metadata": {},
   "outputs": [
    {
     "name": "stdout",
     "output_type": "stream",
     "text": [
      "Lista de frutas: ['maçã', 'banana', 'laranja', 'abacaxi']\n"
     ]
    }
   ],
   "source": [
    "# Criando uma lista\n",
    "frutas = [\"maçã\", \"banana\", \"laranja\", \"abacaxi\"]\n",
    "print(f\"Lista de frutas: {frutas}\")"
   ]
  },
  {
   "cell_type": "code",
   "execution_count": 44,
   "id": "5058e714-637b-48fe-9555-9df4342379db",
   "metadata": {},
   "outputs": [
    {
     "data": {
      "text/plain": [
       "list"
      ]
     },
     "execution_count": 44,
     "metadata": {},
     "output_type": "execute_result"
    }
   ],
   "source": [
    "type(frutas)"
   ]
  },
  {
   "cell_type": "code",
   "execution_count": 45,
   "id": "818c36e9-c7ce-4a45-afca-4c5e03d09192",
   "metadata": {},
   "outputs": [
    {
     "name": "stdout",
     "output_type": "stream",
     "text": [
      "A primeira fruta é: maçã\n",
      "A última fruta é: abacaxi\n"
     ]
    }
   ],
   "source": [
    "# Acessando um item pelo índice\n",
    "print(f\"A primeira fruta é: {frutas[0]}\")\n",
    "print(f\"A última fruta é: {frutas[-1]}\")"
   ]
  },
  {
   "cell_type": "code",
   "execution_count": 46,
   "id": "12ba42d4-2420-4f66-900a-2ea5ea9aea02",
   "metadata": {},
   "outputs": [
    {
     "name": "stdout",
     "output_type": "stream",
     "text": [
      "Lista após adicionar 'uva': ['maçã', 'banana', 'laranja', 'abacaxi', 'uva']\n"
     ]
    }
   ],
   "source": [
    "# Adicionando um item ao final da lista\n",
    "frutas.append(\"uva\")\n",
    "print(f\"Lista após adicionar 'uva': {frutas}\")"
   ]
  },
  {
   "cell_type": "code",
   "execution_count": 47,
   "id": "c445fd5e-8840-4179-b06b-1eb5130d41b1",
   "metadata": {},
   "outputs": [
    {
     "name": "stdout",
     "output_type": "stream",
     "text": [
      "Lista após remover 'laranja': ['maçã', 'banana', 'abacaxi', 'uva']\n"
     ]
    }
   ],
   "source": [
    "# Removendo um item\n",
    "frutas.remove(\"laranja\")\n",
    "print(f\"Lista após remover 'laranja': {frutas}\")"
   ]
  },
  {
   "cell_type": "code",
   "execution_count": 48,
   "id": "a8772110-6067-4011-aa2b-971f0769d345",
   "metadata": {},
   "outputs": [
    {
     "name": "stdout",
     "output_type": "stream",
     "text": [
      "Lista após modificar o primeiro item: ['morango', 'banana', 'abacaxi', 'uva']\n"
     ]
    }
   ],
   "source": [
    "# Modificando um item\n",
    "frutas[0] = \"morango\"\n",
    "print(f\"Lista após modificar o primeiro item: {frutas}\")"
   ]
  },
  {
   "cell_type": "code",
   "execution_count": 49,
   "id": "7c0492f3-1110-49d7-b14c-44b2a818e905",
   "metadata": {},
   "outputs": [
    {
     "name": "stdout",
     "output_type": "stream",
     "text": [
      "['morango', 'banana', 'abacaxi', 'uva']\n"
     ]
    }
   ],
   "source": [
    "# Podemos imprimir diretamente\n",
    "print(frutas)"
   ]
  },
  {
   "cell_type": "code",
   "execution_count": 50,
   "id": "9415a2ec-7b55-4f0c-8b81-bf313d454211",
   "metadata": {},
   "outputs": [
    {
     "name": "stdout",
     "output_type": "stream",
     "text": [
      "A lista tem 4 frutas.\n"
     ]
    }
   ],
   "source": [
    "# Verificando o tamanho da lista\n",
    "print(f\"A lista tem {len(frutas)} frutas.\")"
   ]
  },
  {
   "cell_type": "code",
   "execution_count": 51,
   "id": "ebf5255c-4c21-4f0f-a0f2-a03018b1e821",
   "metadata": {},
   "outputs": [],
   "source": [
    "# Deletando a lista\n",
    "del frutas"
   ]
  },
  {
   "cell_type": "code",
   "execution_count": 52,
   "id": "450bc329-6ae4-4c5b-87e3-917b8f2a102f",
   "metadata": {},
   "outputs": [],
   "source": [
    "# Lista não pode mais ser acessada\n",
    "# print(frutas)"
   ]
  },
  {
   "cell_type": "markdown",
   "id": "e0ec18de-b3f0-4a66-a823-903664a6158b",
   "metadata": {},
   "source": [
    "## 8. Estruturas de Dados - Tuplas\n",
    "\n",
    "Tuplas são coleções ordenadas e imutáveis de itens. Uma vez criadas, não podem ser alteradas."
   ]
  },
  {
   "cell_type": "code",
   "execution_count": 53,
   "id": "3867ec7e-108a-4fb1-a83b-a41013a7342f",
   "metadata": {},
   "outputs": [
    {
     "name": "stdout",
     "output_type": "stream",
     "text": [
      "Tupla de coordenadas: (10.0, 20.5)\n"
     ]
    }
   ],
   "source": [
    "# Criando uma tupla\n",
    "coordenadas = (10.0, 20.5)\n",
    "print(f\"Tupla de coordenadas: {coordenadas}\")"
   ]
  },
  {
   "cell_type": "code",
   "execution_count": 54,
   "id": "27fcbfa1-ed43-444c-80b9-1d8a086d347d",
   "metadata": {},
   "outputs": [
    {
     "data": {
      "text/plain": [
       "tuple"
      ]
     },
     "execution_count": 54,
     "metadata": {},
     "output_type": "execute_result"
    }
   ],
   "source": [
    "type(coordenadas)"
   ]
  },
  {
   "cell_type": "code",
   "execution_count": 55,
   "id": "bc6ff9d3-8685-4b41-92c7-0f395c23ac97",
   "metadata": {},
   "outputs": [
    {
     "name": "stdout",
     "output_type": "stream",
     "text": [
      "Coordenada X: 10.0\n",
      "Coordenada Y: 20.5\n"
     ]
    }
   ],
   "source": [
    "# Acessando um item pelo índice\n",
    "print(f\"Coordenada X: {coordenadas[0]}\")\n",
    "print(f\"Coordenada Y: {coordenadas[1]}\")"
   ]
  },
  {
   "cell_type": "code",
   "execution_count": 56,
   "id": "14dcb77a-a665-4588-be8b-aa565530f837",
   "metadata": {},
   "outputs": [],
   "source": [
    "# Tentativa de modificar uma tupla resultará em erro (descomente para ver)\n",
    "# coordenadas[0] = 15.0"
   ]
  },
  {
   "cell_type": "code",
   "execution_count": 57,
   "id": "150f38ba-d5a3-4c87-a3db-aa1c3188d7ca",
   "metadata": {},
   "outputs": [
    {
     "name": "stdout",
     "output_type": "stream",
     "text": [
      "O primeiro dia da semana é: Segunda\n"
     ]
    }
   ],
   "source": [
    "# Tuplas são úteis para dados que não devem ser alterados, como meses do ano, coordenadas, etc.\n",
    "dias_da_semana = (\"Segunda\", \"Terça\", \"Quarta\", \"Quinta\", \"Sexta\", \"Sábado\", \"Domingo\")\n",
    "print(f\"O primeiro dia da semana é: {dias_da_semana[0]}\")"
   ]
  },
  {
   "cell_type": "markdown",
   "id": "fb00b6aa-97cd-4f1b-afe2-ff71cbd934df",
   "metadata": {},
   "source": [
    "## 9. Estruturas de Dados - Dicionários\n",
    "\n",
    "Dicionários são coleções de pares chave: valor. São mutáveis."
   ]
  },
  {
   "cell_type": "code",
   "execution_count": 58,
   "id": "949e33ac-e487-4d29-9a45-7b0ca077814b",
   "metadata": {},
   "outputs": [],
   "source": [
    "# Criando um dicionário de informações de um aluno\n",
    "aluno = {\n",
    "    \"nome\": \"Bob\",\n",
    "    \"idade\": 22,\n",
    "    \"curso\": \"Data Science Para Análise Multivariada\",\n",
    "    \"aluno_ativo\": True\n",
    "}"
   ]
  },
  {
   "cell_type": "code",
   "execution_count": 59,
   "id": "2a610493-d577-4ca4-9b68-5d7b78bd87e3",
   "metadata": {},
   "outputs": [
    {
     "name": "stdout",
     "output_type": "stream",
     "text": [
      "Dicionário do aluno: {'nome': 'Bob', 'idade': 22, 'curso': 'Data Science Para Análise Multivariada', 'aluno_ativo': True}\n"
     ]
    }
   ],
   "source": [
    "print(f\"Dicionário do aluno: {aluno}\")"
   ]
  },
  {
   "cell_type": "code",
   "execution_count": 60,
   "id": "bc769bf1-e5d9-44c0-9716-76178465df1b",
   "metadata": {},
   "outputs": [
    {
     "data": {
      "text/plain": [
       "dict"
      ]
     },
     "execution_count": 60,
     "metadata": {},
     "output_type": "execute_result"
    }
   ],
   "source": [
    "type(aluno)"
   ]
  },
  {
   "cell_type": "code",
   "execution_count": 61,
   "id": "a55185cc-cb53-451b-8931-a963a41326bb",
   "metadata": {},
   "outputs": [
    {
     "name": "stdout",
     "output_type": "stream",
     "text": [
      "Nome do aluno: Bob\n",
      "Curso: Data Science Para Análise Multivariada\n"
     ]
    }
   ],
   "source": [
    "# Acessando um valor pela sua chave\n",
    "print(f\"Nome do aluno: {aluno['nome']}\")\n",
    "print(f\"Curso: {aluno.get('curso')}\") # .get() é uma forma segura de acessar chaves"
   ]
  },
  {
   "cell_type": "code",
   "execution_count": 62,
   "id": "ed4a4434-d098-4ad9-ab17-cd0cb8fefb3b",
   "metadata": {},
   "outputs": [
    {
     "name": "stdout",
     "output_type": "stream",
     "text": [
      "Dicionário atualizado:\n",
      " {'nome': 'Bob', 'idade': 22, 'curso': 'Data Science Para Análise Multivariada', 'aluno_ativo': True, 'cidade': 'São Paulo'}\n"
     ]
    }
   ],
   "source": [
    "# Adicionando um novo par chave-valor\n",
    "aluno[\"cidade\"] = \"São Paulo\"\n",
    "print(f\"Dicionário atualizado:\\n {aluno}\")"
   ]
  },
  {
   "cell_type": "code",
   "execution_count": 63,
   "id": "f4edff66-ca15-4914-90f2-759ed197864c",
   "metadata": {},
   "outputs": [
    {
     "name": "stdout",
     "output_type": "stream",
     "text": [
      "Idade atualizada: 23\n"
     ]
    }
   ],
   "source": [
    "# Modificando um valor existente\n",
    "aluno[\"idade\"] = 23\n",
    "print(f\"Idade atualizada: {aluno['idade']}\")"
   ]
  },
  {
   "cell_type": "code",
   "execution_count": 64,
   "id": "036d5519-696a-4cf7-bf67-8cc69a7e3faf",
   "metadata": {},
   "outputs": [
    {
     "name": "stdout",
     "output_type": "stream",
     "text": [
      "Dicionário após remover a chave 'ativo':\n",
      " {'nome': 'Bob', 'idade': 23, 'curso': 'Data Science Para Análise Multivariada', 'cidade': 'São Paulo'}\n"
     ]
    }
   ],
   "source": [
    "# Removendo um par chave-valor\n",
    "del aluno[\"aluno_ativo\"]\n",
    "print(f\"Dicionário após remover a chave 'ativo':\\n {aluno}\")"
   ]
  },
  {
   "cell_type": "markdown",
   "id": "ce4eba09-5b88-4b2d-ba25-b7e18a7dbaa9",
   "metadata": {},
   "source": [
    "## 10. Estruturas de Dados - Conjuntos (Sets)\n",
    "<!-- Trabalho Desenvolvido no Curso da Data Science Academy - www.datascienceacademy.com.br -->\n",
    "Conjuntos são coleções não ordenadas de itens únicos e mutáveis. Eles são úteis para remover duplicatas e realizar operações matemáticas de conjuntos (união, interseção)."
   ]
  },
  {
   "cell_type": "code",
   "execution_count": 65,
   "id": "c21a80b7-6461-42b9-b8b6-653b5d5b54af",
   "metadata": {},
   "outputs": [
    {
     "name": "stdout",
     "output_type": "stream",
     "text": [
      "Conjunto de números (sem duplicatas): {1, 2, 3, 4, 5}\n"
     ]
    }
   ],
   "source": [
    "# Criando um conjunto (note que os itens duplicados são removidos)\n",
    "numeros = {1, 2, 3, 4, 2, 3, 5}\n",
    "print(f\"Conjunto de números (sem duplicatas): {numeros}\")"
   ]
  },
  {
   "cell_type": "code",
   "execution_count": 66,
   "id": "50981b3c-651c-4d45-9135-bda5574af1a7",
   "metadata": {},
   "outputs": [
    {
     "data": {
      "text/plain": [
       "set"
      ]
     },
     "execution_count": 66,
     "metadata": {},
     "output_type": "execute_result"
    }
   ],
   "source": [
    "type(numeros)"
   ]
  },
  {
   "cell_type": "code",
   "execution_count": 67,
   "id": "316ec7c1-2e6e-48e9-a7c9-2cf5f7157c63",
   "metadata": {},
   "outputs": [
    {
     "name": "stdout",
     "output_type": "stream",
     "text": [
      "Após adicionar o valor 6: {1, 2, 3, 4, 5, 6}\n"
     ]
    }
   ],
   "source": [
    "# Adicionando um item\n",
    "numeros.add(6)\n",
    "print(f\"Após adicionar o valor 6: {numeros}\")"
   ]
  },
  {
   "cell_type": "code",
   "execution_count": 68,
   "id": "5cf508ef-96ac-42ba-a988-e3d71fa6dfef",
   "metadata": {},
   "outputs": [
    {
     "name": "stdout",
     "output_type": "stream",
     "text": [
      "Após remover o 2: {1, 3, 4, 5, 6}\n"
     ]
    }
   ],
   "source": [
    "# Removendo um item\n",
    "numeros.remove(2)\n",
    "print(f\"Após remover o 2: {numeros}\")"
   ]
  },
  {
   "cell_type": "code",
   "execution_count": 69,
   "id": "5f42062b-fead-4159-8b7f-96d36bef1b18",
   "metadata": {},
   "outputs": [],
   "source": [
    "# Operações de conjunto\n",
    "conjunto_a = {1, 2, 3, 4}\n",
    "conjunto_b = {3, 4, 5, 6}"
   ]
  },
  {
   "cell_type": "code",
   "execution_count": 70,
   "id": "d10f121e-36dd-40f2-8350-b4e56afca0fa",
   "metadata": {},
   "outputs": [
    {
     "name": "stdout",
     "output_type": "stream",
     "text": [
      "União de A e B: {1, 2, 3, 4, 5, 6}\n"
     ]
    }
   ],
   "source": [
    "# União (todos os elementos de ambos os conjuntos)\n",
    "uniao = conjunto_a.union(conjunto_b)\n",
    "print(f\"União de A e B: {uniao}\")"
   ]
  },
  {
   "cell_type": "code",
   "execution_count": 71,
   "id": "81c0caab-f317-4170-ad97-aec63b115d88",
   "metadata": {},
   "outputs": [
    {
     "name": "stdout",
     "output_type": "stream",
     "text": [
      "Interseção de A e B: {3, 4}\n"
     ]
    }
   ],
   "source": [
    "# Interseção (elementos que estão em ambos os conjuntos)\n",
    "intersecao = conjunto_a.intersection(conjunto_b)\n",
    "print(f\"Interseção de A e B: {intersecao}\")"
   ]
  },
  {
   "cell_type": "markdown",
   "id": "da6083f2-dff4-4ac3-a724-ad737f5304bf",
   "metadata": {},
   "source": [
    "## 11. Conversão Entre Tipos de Dados (Type Casting)\n",
    "\n",
    "É a conversão de um tipo de dado para outro."
   ]
  },
  {
   "cell_type": "code",
   "execution_count": 72,
   "id": "180fd4cb-7121-4049-9767-87b87677199b",
   "metadata": {},
   "outputs": [
    {
     "name": "stdout",
     "output_type": "stream",
     "text": [
      "String '123' para Inteiro: 123, Tipo: <class 'int'>\n"
     ]
    }
   ],
   "source": [
    "# Convertendo de string para número integer\n",
    "numero_em_texto = \"123\"\n",
    "numero_inteiro = int(numero_em_texto)\n",
    "print(f\"String '{numero_em_texto}' para Inteiro: {numero_inteiro}, Tipo: {type(numero_inteiro)}\")"
   ]
  },
  {
   "cell_type": "code",
   "execution_count": 73,
   "id": "61c3f74f-0e39-443e-b8b0-4cde1f7686db",
   "metadata": {},
   "outputs": [],
   "source": [
    "# Isso aqui não pode ser feito\n",
    "# teste = \"Esta é uma string de teste\"\n",
    "# teste_int = int(teste)\n",
    "# print(teste_int)"
   ]
  },
  {
   "cell_type": "code",
   "execution_count": 74,
   "id": "c5c7cea0-ab82-4bcd-82c1-736237031c05",
   "metadata": {},
   "outputs": [
    {
     "name": "stdout",
     "output_type": "stream",
     "text": [
      "String '45.67' para Float: 45.67, Tipo: <class 'float'>\n"
     ]
    }
   ],
   "source": [
    "# Convertendo de string para número float\n",
    "numero_decimal_em_texto = \"45.67\"\n",
    "numero_float = float(numero_decimal_em_texto)\n",
    "print(f\"String '{numero_decimal_em_texto}' para Float: {numero_float}, Tipo: {type(numero_float)}\")"
   ]
  },
  {
   "cell_type": "code",
   "execution_count": 75,
   "id": "6e9e1abc-9788-44e0-adf6-916e9503f0f7",
   "metadata": {},
   "outputs": [
    {
     "name": "stdout",
     "output_type": "stream",
     "text": [
      "Inteiro 25 para String: '25', Tipo: <class 'str'>\n"
     ]
    }
   ],
   "source": [
    "# Convertendo de número para string\n",
    "idade = 25\n",
    "idade_texto = str(idade)\n",
    "print(f\"Inteiro {idade} para String: '{idade_texto}', Tipo: {type(idade_texto)}\")"
   ]
  },
  {
   "cell_type": "code",
   "execution_count": 76,
   "id": "89c1a230-45f2-466d-a2c5-75556f0bb5a9",
   "metadata": {},
   "outputs": [],
   "source": [
    "# Convertendo entre estruturas de dados\n",
    "lista_com_duplicatas = [1, 2, 2, 3, 4, 4, 4, 5]\n",
    "conjunto_unico = set(lista_com_duplicatas)\n",
    "lista_sem_duplicatas = list(conjunto_unico)"
   ]
  },
  {
   "cell_type": "code",
   "execution_count": 77,
   "id": "6d120666-39c5-4dc8-9173-54fc454130cb",
   "metadata": {},
   "outputs": [
    {
     "name": "stdout",
     "output_type": "stream",
     "text": [
      "\n",
      "Lista original: [1, 2, 2, 3, 4, 4, 4, 5]\n",
      "\n",
      "Convertida para Conjunto (remove duplicatas): {1, 2, 3, 4, 5}\n",
      "\n",
      "Convertida de volta para Lista: [1, 2, 3, 4, 5]\n",
      "\n"
     ]
    }
   ],
   "source": [
    "print(f\"\\nLista original: {lista_com_duplicatas}\")\n",
    "print(f\"\\nConvertida para Conjunto (remove duplicatas): {conjunto_unico}\")\n",
    "print(f\"\\nConvertida de volta para Lista: {lista_sem_duplicatas}\\n\")"
   ]
  },
  {
   "cell_type": "markdown",
   "id": "7abdada2-a02e-4eb7-acbe-510f47d9be7d",
   "metadata": {},
   "source": [
    "## 12. Entrada e Saída Padrão\n",
    "\n",
    "A forma mais comum de interagir com o usuário é através da entrada (input) de dados pelo teclado e da saída (output) de informações na tela.\n",
    "\n",
    "### 12.1. Saída de Dados com print()\n",
    "\n",
    "Já usamos bastante, mas aqui estão alguns recursos adicionais, como as f-strings."
   ]
  },
  {
   "cell_type": "code",
   "execution_count": 78,
   "id": "6cb89f7e-11b7-40ea-91e4-bee504ffdeb7",
   "metadata": {},
   "outputs": [
    {
     "name": "stdout",
     "output_type": "stream",
     "text": [
      "Olá, meu nome é Juliana, tenho 28 anos e moro no Rio de Janeiro.\n",
      "O preço do produto é R$ 49.96\n"
     ]
    }
   ],
   "source": [
    "# Variáveis\n",
    "nome = \"Juliana\"\n",
    "idade = 28\n",
    "cidade = \"Rio de Janeiro\"\n",
    "\n",
    "# Usando f-string (a forma mais moderna e recomendada)\n",
    "print(f\"Olá, meu nome é {nome}, tenho {idade} anos e moro no {cidade}.\")\n",
    "\n",
    "# Formatando números\n",
    "preco = 49.95678\n",
    "print(f\"O preço do produto é R$ {preco:.2f}\") # Formata para 2 casas decimais"
   ]
  },
  {
   "cell_type": "markdown",
   "id": "42c89bfb-36a7-4da4-89a5-7192ad3c132c",
   "metadata": {},
   "source": [
    "### 12.2. Entrada de Dados com input()\n",
    "\n",
    "A função input() sempre retorna uma string. Por isso, é comum precisar fazer o type casting."
   ]
  },
  {
   "cell_type": "code",
   "execution_count": 79,
   "id": "96feabc3-31ba-44ef-896c-c18da37e8ad4",
   "metadata": {},
   "outputs": [
    {
     "name": "stdin",
     "output_type": "stream",
     "text": [
      "Qual é o seu nome?  Bob\n",
      "Qual é a sua idade?  35\n"
     ]
    },
    {
     "name": "stdout",
     "output_type": "stream",
     "text": [
      "\n",
      "Olá, Bob! Bem-vindo(a).\n",
      "Você tem 35 anos e nasceu aproximadamente em 1990.\n"
     ]
    }
   ],
   "source": [
    "# Pedindo o nome do usuário (string)\n",
    "nome_usuario = input(\"Qual é o seu nome? \")\n",
    "\n",
    "# Pedindo a idade do usuário (precisa converter para int)\n",
    "idade_usuario_str = input(\"Qual é a sua idade? \")\n",
    "idade_usuario_int = int(idade_usuario_str)\n",
    "\n",
    "from datetime import date\n",
    "\n",
    "# Pega o ano corrente na data definida no sistema operacional da sua máquina\n",
    "ano_atual = date.today().year \n",
    "\n",
    "# Processando os dados\n",
    "ano_nascimento = ano_atual - idade_usuario_int\n",
    "\n",
    "# Exibindo o resultado\n",
    "print(f\"\\nOlá, {nome_usuario}! Bem-vindo(a).\")\n",
    "print(f\"Você tem {idade_usuario_int} anos e nasceu aproximadamente em {ano_nascimento}.\")"
   ]
  },
  {
   "cell_type": "markdown",
   "id": "b2513428-f58d-4e5b-b1a2-e228019d2932",
   "metadata": {},
   "source": [
    "# Fim"
   ]
  },
  {
   "cell_type": "markdown",
   "id": "b3aadd57-1e35-43ef-b51a-318ae8054601",
   "metadata": {},
   "source": [
    "Este curso é inteiramente gratuito e com certificado de conclusão. Se estiver gostando, ajude o trabalho da Data Science Academy e compartilhe nas suas redes. Conte para as pessoas o que estamos fazendo aqui, oferecendo material de alto nível de forma gratuita. Este é o link da página do curso:\n",
    "\n",
    "https://www.datascienceacademy.com.br/course/fundamentos-de-linguagem-python-do-basico-a-aplicacoes-de-ia"
   ]
  }
 ],
 "metadata": {
  "kernelspec": {
   "display_name": "Python 3 (ipykernel)",
   "language": "python",
   "name": "python3"
  },
  "language_info": {
   "codemirror_mode": {
    "name": "ipython",
    "version": 3
   },
   "file_extension": ".py",
   "mimetype": "text/x-python",
   "name": "python",
   "nbconvert_exporter": "python",
   "pygments_lexer": "ipython3",
   "version": "3.13.5"
  }
 },
 "nbformat": 4,
 "nbformat_minor": 5
}
