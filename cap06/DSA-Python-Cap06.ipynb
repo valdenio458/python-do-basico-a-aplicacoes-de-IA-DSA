{
 "cells": [
  {
   "cell_type": "markdown",
   "id": "3a5b2518-0c35-4a82-b64e-4d8e7a8f6631",
   "metadata": {},
   "source": [
    "<!-- Trabalho Desenvolvido no Curso da Data Science Academy - www.datascienceacademy.com.br -->\n",
    "# <font color='blue'>Data Science Academy</font>\n",
    "# <font color='blue'>Fundamentos de Linguagem Python - Do Básico a Aplicações de IA</font>\n",
    "# <font color='blue'>Repetição, Tomada de Decisão e Modularização - Loops, Condicionais e Funções</font>"
   ]
  },
  {
   "cell_type": "markdown",
   "id": "c2e1c995-eb42-46f1-9d43-48daed7c4a82",
   "metadata": {},
   "source": [
    "## 1. Tomada de Decisão com Estruturas Condicionais"
   ]
  },
  {
   "cell_type": "markdown",
   "id": "63c95c21-acc9-4823-a095-a5946c67781a",
   "metadata": {},
   "source": [
    "As estruturas condicionais (if, elif, else) permitem que o programa execute diferentes blocos de código com base em certas condições."
   ]
  },
  {
   "cell_type": "code",
   "execution_count": 1,
   "id": "3bb93c0d-c601-4afe-a4b6-395d6b77836b",
   "metadata": {},
   "outputs": [
    {
     "name": "stdout",
     "output_type": "stream",
     "text": [
      "Aprovado!\n"
     ]
    }
   ],
   "source": [
    "# Define a variável\n",
    "nota = 8.5\n",
    "\n",
    "# Agora checamos o valor da variável e tomamos decisões\n",
    "if nota >= 7.0:\n",
    "    print(\"Aprovado!\")\n",
    "else:\n",
    "    print(\"Reprovado.\")"
   ]
  },
  {
   "cell_type": "code",
   "execution_count": 2,
   "id": "e569e207-bae4-46c5-a69c-55e2b76ebdbe",
   "metadata": {},
   "outputs": [
    {
     "name": "stdout",
     "output_type": "stream",
     "text": [
      "Você é um idoso.\n"
     ]
    }
   ],
   "source": [
    "# Define a variável\n",
    "idade = 100\n",
    "\n",
    "# Agora checamos o valor da variável e tomamos decisões\n",
    "if idade < 18:\n",
    "    print(\"Você é menor de idade.\")\n",
    "elif idade >= 18 and idade < 65:\n",
    "    print(\"Você é um adulto.\")\n",
    "else:\n",
    "    print(\"Você é um idoso.\")"
   ]
  },
  {
   "cell_type": "markdown",
   "id": "3b0df31c-d76f-4714-a612-11f115145f68",
   "metadata": {},
   "source": [
    "## 2. Estruturas de Repetição\n",
    "\n",
    "As estruturas de repetição (for e while) são usadas para executar um bloco de código várias vezes.\n",
    "\n",
    "### Loop for\n",
    "\n",
    "O loop for é usado para iterar sobre uma sequência (como uma lista, tupla, dicionário, conjunto ou string)."
   ]
  },
  {
   "cell_type": "code",
   "execution_count": 3,
   "id": "77b85a7b-de71-4733-9c3a-d2edbe2ae1c6",
   "metadata": {},
   "outputs": [
    {
     "name": "stdout",
     "output_type": "stream",
     "text": [
      "Frutas disponíveis:\n",
      "- maçã\n",
      "- banana\n",
      "- cereja\n"
     ]
    }
   ],
   "source": [
    "# Define uma lista\n",
    "frutas = [\"maçã\", \"banana\", \"cereja\"]\n",
    "\n",
    "# Imprime a mensagem\n",
    "print(\"Frutas disponíveis:\")\n",
    "\n",
    "# Loop pela lista\n",
    "for fruta in frutas:\n",
    "    print(f\"- {fruta}\")"
   ]
  },
  {
   "cell_type": "code",
   "execution_count": 4,
   "id": "04919c98-9143-44f5-a94e-20361c74708a",
   "metadata": {},
   "outputs": [
    {
     "name": "stdout",
     "output_type": "stream",
     "text": [
      "vermelho\n",
      "verde\n",
      "azul\n"
     ]
    }
   ],
   "source": [
    "# Criando uma tupla\n",
    "cores = (\"vermelho\", \"verde\", \"azul\")\n",
    "\n",
    "# Loop for percorrendo a tupla\n",
    "for cor in cores:\n",
    "    print(cor)"
   ]
  },
  {
   "cell_type": "code",
   "execution_count": 5,
   "id": "a7bf80b1-8a99-454d-abc3-dc891a435bba",
   "metadata": {},
   "outputs": [
    {
     "name": "stdout",
     "output_type": "stream",
     "text": [
      "Formação Cientista de Dados : 6\n",
      "Formação Analista de Dados : 4\n",
      "Formação Engenheiro de Dados : 5\n"
     ]
    }
   ],
   "source": [
    "# Criando um dicionário com o número de cursos em Formações da DSA\n",
    "formacoes_dsa = {\"Formação Cientista de Dados\": 6, \"Formação Analista de Dados\": 4, \"Formação Engenheiro de Dados\": 5}\n",
    "\n",
    "# Loop for percorrendo chaves e valores\n",
    "for chave, valor in formacoes_dsa.items():\n",
    "    print(chave, \":\", valor)"
   ]
  },
  {
   "cell_type": "code",
   "execution_count": 6,
   "id": "c026b862-53a2-4386-9e73-5c192dfaba69",
   "metadata": {},
   "outputs": [
    {
     "name": "stdout",
     "output_type": "stream",
     "text": [
      "\n",
      "Contagem até 5:\n",
      "0\n",
      "1\n",
      "2\n",
      "3\n",
      "4\n",
      "5\n"
     ]
    }
   ],
   "source": [
    "# Exemplo com a função range()\n",
    "print(\"\\nContagem até 5:\")\n",
    "for numero in range(6):  # Gera números de 0 a 5\n",
    "    print(numero)"
   ]
  },
  {
   "cell_type": "markdown",
   "id": "74b6a3ad-3e93-4459-b763-bcd6d0556530",
   "metadata": {},
   "source": [
    "### Loop while\n",
    "\n",
    "O loop while executa um bloco de código enquanto uma condição for verdadeira."
   ]
  },
  {
   "cell_type": "code",
   "execution_count": 7,
   "id": "8b7fd803-c8f1-4364-a051-59bb436d461c",
   "metadata": {},
   "outputs": [
    {
     "name": "stdout",
     "output_type": "stream",
     "text": [
      "Contagem regressiva:\n",
      "5\n",
      "4\n",
      "3\n",
      "2\n",
      "1\n"
     ]
    }
   ],
   "source": [
    "# Define a variável\n",
    "contador = 5\n",
    "\n",
    "# Imprime a mensagem\n",
    "print(\"Contagem regressiva:\")\n",
    "\n",
    "# Loop\n",
    "while contador > 0:\n",
    "    print(contador)\n",
    "    contador -= 1"
   ]
  },
  {
   "cell_type": "code",
   "execution_count": 8,
   "id": "3de2f6eb-4496-4cb8-b9d6-bb85dc57c5c0",
   "metadata": {},
   "outputs": [
    {
     "name": "stdout",
     "output_type": "stream",
     "text": [
      "Contagem regressiva:\n"
     ]
    }
   ],
   "source": [
    "# Define a variável\n",
    "contador = 0\n",
    "\n",
    "# Imprime a mensagem\n",
    "print(\"Contagem regressiva:\")\n",
    "\n",
    "# Loop\n",
    "while contador > 1:\n",
    "    print(contador)\n",
    "    contador -= 1"
   ]
  },
  {
   "cell_type": "code",
   "execution_count": 9,
   "id": "c07feaad-f6c8-4ff5-9eca-4b1a26701e26",
   "metadata": {},
   "outputs": [],
   "source": [
    "# CUIDADO - LOOP INFINITO - PODE TRAVAR O JUPYTER OU MESMO SUA MÁQUINA\n",
    "# Define a variável\n",
    "#contador = 2\n",
    "\n",
    "# Imprime a mensagem\n",
    "#print(\"\\nContagem regressiva:\")\n",
    "\n",
    "# Loop\n",
    "#while contador > 1:\n",
    "    #print(contador)\n",
    "    #contador -= 1"
   ]
  },
  {
   "cell_type": "markdown",
   "id": "99ec60ac-40da-45c3-b37f-4d2f3df2ff52",
   "metadata": {},
   "source": [
    "O for em Python é usado quando você já sabe sobre o que quer iterar (como uma lista, tupla, dicionário, string, range, etc.). Ele percorre cada elemento de uma sequência ou iterável de forma automática, sem que você precise gerenciar manualmente a condição de parada.\n",
    "<!-- Trabalho Desenvolvido no Curso da Data Science Academy - www.datascienceacademy.com.br -->\n",
    "Já o while é usado quando você não sabe previamente quantas vezes o loop vai rodar e a repetição depende de uma condição booleana que deve continuar verdadeira para que o loop prossiga. Você precisa cuidar manualmente de alterar o estado dessa condição para evitar loops infinitos.\n",
    "\n",
    "Em resumo:\n",
    "\n",
    "- for → ideal quando você já tem uma coleção ou um número definido de repetições.\n",
    "\n",
    "- while → ideal quando a repetição depende de uma condição que pode mudar dinamicamente ao longo da execução."
   ]
  },
  {
   "cell_type": "markdown",
   "id": "5df4e62d-128f-489b-9a49-2ea5afed7cad",
   "metadata": {},
   "source": [
    "## 3. Iteração Sobre Estruturas de Dados com Loops e Condicionais\n",
    "\n",
    "Iterar significa percorrer os elementos de uma coleção de dados."
   ]
  },
  {
   "cell_type": "code",
   "execution_count": 10,
   "id": "5933f914-a591-475a-b2e6-01ea9ab69cb6",
   "metadata": {},
   "outputs": [
    {
     "name": "stdout",
     "output_type": "stream",
     "text": [
      "10 é par\n",
      "20 é par\n"
     ]
    }
   ],
   "source": [
    "# Tupla de números\n",
    "numeros = (3, 7, 10, 15, 20)\n",
    "\n",
    "# Itera pela tupla e mostra apenas os números pares\n",
    "for n in numeros:\n",
    "    if n % 2 == 0:\n",
    "        print(f\"{n} é par\")"
   ]
  },
  {
   "cell_type": "code",
   "execution_count": 11,
   "id": "65bcd93d-2676-4beb-b9af-7570d21872a7",
   "metadata": {},
   "outputs": [
    {
     "name": "stdout",
     "output_type": "stream",
     "text": [
      "Nome encontrado com A: Ana\n",
      "Nome encontrado com A: Amanda\n"
     ]
    }
   ],
   "source": [
    "# Lista de nomes\n",
    "nomes = [\"Ana\", \"Bruno\", \"Carlos\", \"Amanda\", \"Beatriz\"]\n",
    "\n",
    "# Itera pela lista e mostra apenas os nomes que começam com 'A'\n",
    "for nome in nomes:\n",
    "    if nome.startswith(\"A\"):\n",
    "        print(f\"Nome encontrado com A: {nome}\")"
   ]
  },
  {
   "cell_type": "code",
   "execution_count": 12,
   "id": "d1c4ae63-e0c2-42e6-a58b-63682b22ffce",
   "metadata": {},
   "outputs": [
    {
     "name": "stdout",
     "output_type": "stream",
     "text": [
      "arroz custa 25 reais (acima de 20)\n",
      "carne custa 45 reais (acima de 20)\n"
     ]
    }
   ],
   "source": [
    "# Dicionário com produtos e preços\n",
    "produtos = {\"arroz\": 25, \"feijão\": 12, \"carne\": 45, \"macarrão\": 8}\n",
    "\n",
    "# Itera pelo dicionário e mostra apenas produtos acima de 20 reais\n",
    "for item, preco in produtos.items():\n",
    "    if preco > 20:\n",
    "        print(f\"{item} custa {preco} reais (acima de 20)\")"
   ]
  },
  {
   "cell_type": "markdown",
   "id": "3890470a-0994-4694-9dda-7fb5fea79ea1",
   "metadata": {},
   "source": [
    "## 4. Controle de Fluxo em Loops\n",
    "\n",
    "As instruções break e continue alteram o fluxo de execução de um loop.\n",
    "\n",
    "### break\n",
    "\n",
    "A instrução break para a execução do loop imediatamente."
   ]
  },
  {
   "cell_type": "code",
   "execution_count": 13,
   "id": "2631d1b5-0ec3-4b9e-9213-41a6b840c0b6",
   "metadata": {},
   "outputs": [
    {
     "name": "stdout",
     "output_type": "stream",
     "text": [
      "\n",
      "Buscando pelo número 5...\n",
      "Verificando 1...\n",
      "Verificando 2...\n",
      "Verificando 3...\n",
      "Verificando 4...\n",
      "Número 5 encontrado!\n"
     ]
    }
   ],
   "source": [
    "# Lista de números\n",
    "numeros = [1, 2, 3, 4, 5, 6, 7, 8, 9, 10]\n",
    "\n",
    "# Mensagem\n",
    "print(\"\\nBuscando pelo número 5...\")\n",
    "\n",
    "# Loop com break\n",
    "for numero in numeros:\n",
    "    if numero == 5:\n",
    "        print(\"Número 5 encontrado!\")\n",
    "        break  # Sai do loop\n",
    "    print(f\"Verificando {numero}...\")"
   ]
  },
  {
   "cell_type": "markdown",
   "id": "b246db6d-a363-4120-8ff2-a7e967af76b4",
   "metadata": {},
   "source": [
    "### continue\n",
    "\n",
    "A instrução continue pula a iteração atual e continua com a próxima."
   ]
  },
  {
   "cell_type": "code",
   "execution_count": 14,
   "id": "38a946c5-640b-4820-b2f4-bcae14b95037",
   "metadata": {},
   "outputs": [
    {
     "name": "stdout",
     "output_type": "stream",
     "text": [
      "\n",
      "Imprimindo apenas os números ímpares:\n",
      "1\n",
      "3\n",
      "5\n",
      "7\n",
      "9\n"
     ]
    }
   ],
   "source": [
    "# Mensagem\n",
    "print(\"\\nImprimindo apenas os números ímpares:\")\n",
    "\n",
    "# Loop com instrução continue\n",
    "for numero in range(1, 11):\n",
    "    if numero % 2 == 0:\n",
    "        continue  # Pula para a próxima iteração se o número for par\n",
    "    print(numero)"
   ]
  },
  {
   "cell_type": "markdown",
   "id": "779082c1-4b43-47cb-ae04-b3feca07bdf3",
   "metadata": {},
   "source": [
    "## 5. Comprehensions (List, Set, Dict e Generator) em Python\n",
    "\n",
    "Estas estruturas são consideradas construtores sintáticos (syntactic constructs) ou, mais formalmente, expressões de compreensão (comprehension expressions).\n",
    "\n",
    "Na documentação oficial Python, os nomes são:\n",
    "\n",
    "- List comprehension → expressão que gera listas.\n",
    "\n",
    "- Set comprehension → expressão que gera conjuntos.\n",
    "\n",
    "- Dict comprehension → expressão que gera dicionários.\n",
    "\n",
    "- Generator expression → expressão que gera iteradores (e pode ser convertido em tupla, lista, etc.).\n",
    "\n",
    "Ou seja, o termo técnico mais amplo é comprehension: uma forma mais curta e expressiva de construir coleções (ou geradores) a partir de iteráveis com filtros e transformações aplicadas inline."
   ]
  },
  {
   "cell_type": "code",
   "execution_count": 15,
   "id": "491115f2-8bad-49aa-9779-7e4584a409e2",
   "metadata": {},
   "outputs": [
    {
     "name": "stdout",
     "output_type": "stream",
     "text": [
      "\n",
      "Quadrados de 0 a 9: [0, 1, 4, 9, 16, 25, 36, 49, 64, 81]\n"
     ]
    }
   ],
   "source": [
    "# Criando uma lista de quadrados dos números de 0 a 9\n",
    "quadrados = [x ** 2 for x in range(10)]\n",
    "\n",
    "# Print\n",
    "print(f\"\\nQuadrados de 0 a 9: {quadrados}\")"
   ]
  },
  {
   "cell_type": "code",
   "execution_count": 16,
   "id": "18c1b086-d05a-4b7e-9361-b945933e714c",
   "metadata": {},
   "outputs": [
    {
     "data": {
      "text/plain": [
       "list"
      ]
     },
     "execution_count": 16,
     "metadata": {},
     "output_type": "execute_result"
    }
   ],
   "source": [
    "type(quadrados)"
   ]
  },
  {
   "cell_type": "code",
   "execution_count": 17,
   "id": "bacb01f3-39c8-4b3b-901f-7f0d35708e60",
   "metadata": {},
   "outputs": [
    {
     "name": "stdout",
     "output_type": "stream",
     "text": [
      "Números pares de 0 a 20: [0, 2, 4, 6, 8, 10, 12, 14, 16, 18, 20]\n"
     ]
    }
   ],
   "source": [
    "# Criando uma lista de números pares de 0 a 20\n",
    "pares = [x for x in range(21) if x % 2 == 0]\n",
    "\n",
    "# Print\n",
    "print(f\"Números pares de 0 a 20: {pares}\")"
   ]
  },
  {
   "cell_type": "code",
   "execution_count": 18,
   "id": "222bf132-6eeb-449d-b034-e6d188af5ffe",
   "metadata": {},
   "outputs": [
    {
     "data": {
      "text/plain": [
       "list"
      ]
     },
     "execution_count": 18,
     "metadata": {},
     "output_type": "execute_result"
    }
   ],
   "source": [
    "type(pares)"
   ]
  },
  {
   "cell_type": "code",
   "execution_count": 19,
   "id": "643126c2-986a-49ce-8907-d65d7e9ad448",
   "metadata": {},
   "outputs": [
    {
     "name": "stdout",
     "output_type": "stream",
     "text": [
      "{0: 0, 1: 1, 2: 4, 3: 9, 4: 16, 5: 25}\n"
     ]
    }
   ],
   "source": [
    "# Cria um dicionário com números e seus quadrados\n",
    "quadrados_dict = {x: x ** 2 for x in range(6)}\n",
    "print(quadrados_dict)  "
   ]
  },
  {
   "cell_type": "code",
   "execution_count": 20,
   "id": "6d85c1ba-f328-4bd2-825d-e062ef2ac522",
   "metadata": {},
   "outputs": [
    {
     "data": {
      "text/plain": [
       "dict"
      ]
     },
     "execution_count": 20,
     "metadata": {},
     "output_type": "execute_result"
    }
   ],
   "source": [
    "type(quadrados_dict)"
   ]
  },
  {
   "cell_type": "code",
   "execution_count": 21,
   "id": "11ee2809-a7fa-4691-a30d-49b49f18f7d6",
   "metadata": {},
   "outputs": [
    {
     "name": "stdout",
     "output_type": "stream",
     "text": [
      "{16, 1, 4, 9}\n"
     ]
    }
   ],
   "source": [
    "# Conjunto de quadrados (sem valores repetidos)\n",
    "quadrados_set = {x ** 2 for x in [1, 2, 2, 3, 3, 4]}\n",
    "print(quadrados_set)  "
   ]
  },
  {
   "cell_type": "code",
   "execution_count": 22,
   "id": "49e2b333-43d2-4ab8-90b9-9b5d6d3487d1",
   "metadata": {},
   "outputs": [
    {
     "data": {
      "text/plain": [
       "set"
      ]
     },
     "execution_count": 22,
     "metadata": {},
     "output_type": "execute_result"
    }
   ],
   "source": [
    "type(quadrados_set)"
   ]
  },
  {
   "cell_type": "code",
   "execution_count": 23,
   "id": "7e4b208b-6dda-41ce-bd62-b5b67943924a",
   "metadata": {},
   "outputs": [
    {
     "name": "stdout",
     "output_type": "stream",
     "text": [
      "<generator object <genexpr> at 0x111d6c1e0>\n",
      "(0, 1, 4, 9, 16, 25)\n"
     ]
    }
   ],
   "source": [
    "# Generator expression (não é tupla ainda)\n",
    "gen = (x ** 2 for x in range(6))\n",
    "print(gen) \n",
    "\n",
    "# Convertendo em tupla\n",
    "quadrados_tuple = tuple(x ** 2 for x in range(6))\n",
    "print(quadrados_tuple)  "
   ]
  },
  {
   "cell_type": "code",
   "execution_count": 24,
   "id": "a7e4225e-0bae-45f2-b492-72244e7a3763",
   "metadata": {},
   "outputs": [
    {
     "data": {
      "text/plain": [
       "tuple"
      ]
     },
     "execution_count": 24,
     "metadata": {},
     "output_type": "execute_result"
    }
   ],
   "source": [
    "type(quadrados_tuple)"
   ]
  },
  {
   "cell_type": "markdown",
   "id": "491528d2-375f-4cd8-90e1-6d67c7c7eab0",
   "metadata": {},
   "source": [
    "Um generator em Python é um iterador especial que não armazena todos os valores na memória de uma vez, mas sim gera cada valor sob demanda. No caso, gen não é uma lista de quadrados de 0 a 5, mas um objeto que sabe como calcular esses valores quando você pedir. A grande vantagem é que o generator economiza memória. "
   ]
  },
  {
   "cell_type": "markdown",
   "id": "bb1865a7-8279-4615-a4e1-dbba85f4fb8f",
   "metadata": {},
   "source": [
    "## 6. Trabalhando com Funções\n",
    "<!-- Trabalho Desenvolvido no Curso da Data Science Academy - www.datascienceacademy.com.br -->\n",
    "Funções são blocos de código reutilizáveis que realizam uma tarefa específica."
   ]
  },
  {
   "cell_type": "code",
   "execution_count": 25,
   "id": "1226e02b-8792-42e8-ad48-62a18236652c",
   "metadata": {},
   "outputs": [],
   "source": [
    "# Definindo uma função simples\n",
    "def dsa_saudacao():\n",
    "    \"\"\"Esta \n",
    "    função \n",
    "    exibe \n",
    "    uma \n",
    "    saudação \n",
    "    simples.\"\"\"\n",
    "    print(\"\\nOlá! Bem-vindo ao Python.\")"
   ]
  },
  {
   "cell_type": "code",
   "execution_count": 26,
   "id": "b4cf9492-7339-4ef3-9e16-67046f9033db",
   "metadata": {},
   "outputs": [
    {
     "name": "stdout",
     "output_type": "stream",
     "text": [
      "\n",
      "Olá! Bem-vindo ao Python.\n"
     ]
    }
   ],
   "source": [
    "# Chamando a função\n",
    "dsa_saudacao()"
   ]
  },
  {
   "cell_type": "code",
   "execution_count": 27,
   "id": "0647657c-3c46-45d5-a710-c05d9d31604e",
   "metadata": {},
   "outputs": [
    {
     "name": "stdout",
     "output_type": "stream",
     "text": [
      "\n",
      "Olá! Bem-vindo ao Python.\n"
     ]
    }
   ],
   "source": [
    "# Chamando a função mais uma vez\n",
    "dsa_saudacao()"
   ]
  },
  {
   "cell_type": "code",
   "execution_count": 28,
   "id": "ff346653-2c26-4321-8b68-8729a2ba099a",
   "metadata": {},
   "outputs": [],
   "source": [
    "# Definindo uma função que retorna um valor\n",
    "def dsa_soma_numeros(a, b):\n",
    "    \"\"\"Esta função retorna a soma de dois números.\"\"\"\n",
    "    return a + b"
   ]
  },
  {
   "cell_type": "code",
   "execution_count": 29,
   "id": "bd7c6f5e-ac21-494a-b7b3-62893ab666f4",
   "metadata": {},
   "outputs": [
    {
     "name": "stdout",
     "output_type": "stream",
     "text": [
      "O resultado da soma é: 8\n"
     ]
    }
   ],
   "source": [
    "# Chamando a função e armazenando o resultado em uma variável\n",
    "resultado = dsa_soma_numeros(5, 3)\n",
    "\n",
    "# Print\n",
    "print(f\"O resultado da soma é: {resultado}\")"
   ]
  },
  {
   "cell_type": "markdown",
   "id": "ec30a6d7-587d-4e33-80b5-128591027af3",
   "metadata": {},
   "source": [
    "## 7. Parâmetros e Argumentos de Funções\n",
    "\n",
    "Diferentes formas de passar informações para as funções."
   ]
  },
  {
   "cell_type": "code",
   "execution_count": 30,
   "id": "7c32cd5d-e3be-4c9f-8189-89accabad710",
   "metadata": {},
   "outputs": [],
   "source": [
    "# Argumentos posicionais\n",
    "def dsa_apresentacao(nome, idade):\n",
    "    print(f\"Nome: {nome}, Idade: {idade}\")"
   ]
  },
  {
   "cell_type": "code",
   "execution_count": 31,
   "id": "efc4f740-0cef-405f-8307-a029255e6f04",
   "metadata": {},
   "outputs": [
    {
     "name": "stdout",
     "output_type": "stream",
     "text": [
      "Nome: Ana, Idade: 25\n"
     ]
    }
   ],
   "source": [
    "# Chamando a função\n",
    "dsa_apresentacao(\"Ana\", 25)"
   ]
  },
  {
   "cell_type": "code",
   "execution_count": 32,
   "id": "eba35cb0-0091-4ac9-87a4-f90228eaecc0",
   "metadata": {},
   "outputs": [
    {
     "name": "stdout",
     "output_type": "stream",
     "text": [
      "Nome: 25, Idade: Ana\n"
     ]
    }
   ],
   "source": [
    "# Chamando a função - CUIDADO!!!\n",
    "dsa_apresentacao(25, \"Ana\")"
   ]
  },
  {
   "cell_type": "code",
   "execution_count": 33,
   "id": "63a870f2-2bd4-4adf-807c-8e11e57b8435",
   "metadata": {},
   "outputs": [
    {
     "name": "stdout",
     "output_type": "stream",
     "text": [
      "Nome: Bob, Idade: 30\n"
     ]
    }
   ],
   "source": [
    "# Argumentos nomeados\n",
    "dsa_apresentacao(idade = 30, nome = \"Bob\")"
   ]
  },
  {
   "cell_type": "code",
   "execution_count": 34,
   "id": "6250cebd-585d-4360-b547-b292c72740a9",
   "metadata": {},
   "outputs": [],
   "source": [
    "# Parâmetros com valores padrão (default)\n",
    "def dsa_saudacao_completa(nome, saudacao = \"Olá\"):\n",
    "    print(f\"{saudacao}, {nome}!\")"
   ]
  },
  {
   "cell_type": "code",
   "execution_count": 35,
   "id": "23943a4a-f0b6-4ad9-9668-34469562629a",
   "metadata": {},
   "outputs": [],
   "source": [
    "# Chamando a função\n",
    "#dsa_saudacao_completa()"
   ]
  },
  {
   "cell_type": "code",
   "execution_count": 36,
   "id": "c434716d-3cc6-49bd-a947-7fc7abe1f6c7",
   "metadata": {},
   "outputs": [
    {
     "name": "stdout",
     "output_type": "stream",
     "text": [
      "Olá, Maria!\n"
     ]
    }
   ],
   "source": [
    "# Chamando a função\n",
    "dsa_saudacao_completa(\"Maria\")"
   ]
  },
  {
   "cell_type": "code",
   "execution_count": 37,
   "id": "aea8476d-377a-4f81-b489-52e4948bc717",
   "metadata": {},
   "outputs": [
    {
     "name": "stdout",
     "output_type": "stream",
     "text": [
      "Bom dia, Bob!\n"
     ]
    }
   ],
   "source": [
    "# Chamando a função\n",
    "dsa_saudacao_completa(\"Bob\", \"Bom dia\")"
   ]
  },
  {
   "cell_type": "markdown",
   "id": "8fae5c8f-1cc6-4efb-a400-1fa1a94e1736",
   "metadata": {},
   "source": [
    "----"
   ]
  },
  {
   "cell_type": "markdown",
   "id": "0dafc6a8-e8c3-4c73-9515-d8e61ea3d193",
   "metadata": {},
   "source": [
    "### 7.1. Trabalhando com Número Variado de Argumentos em Funções Python\n",
    "\n",
    "Em Python, *args e **kwargs são formas de tornar funções mais flexíveis, permitindo receber um número variável de argumentos sem precisar definí-los todos na assinatura da função.\n",
    "\n",
    "*args – argumentos posicionais variáveis\n",
    "\n",
    "O asterisco (*) antes do nome indica que a função pode receber qualquer quantidade de argumentos posicionais. Esses valores chegam dentro da função como uma tupla.\n",
    "<!-- Trabalho Desenvolvido no Curso da Data Science Academy - www.datascienceacademy.com.br -->\n",
    "**kwargs – argumentos nomeados variáveis\n",
    "\n",
    "Os dois asteriscos (**) indicam que a função pode receber qualquer quantidade de argumentos nomeados (chave e valor). Esses valores chegam dentro da função como um dicionário."
   ]
  },
  {
   "cell_type": "code",
   "execution_count": 38,
   "id": "fb644f0d-0733-4798-a328-548a8e6abc52",
   "metadata": {},
   "outputs": [],
   "source": [
    "# Argumentos de tamanho variável (*args)\n",
    "def dsa_soma_numeros(*args):\n",
    "    \n",
    "    \"\"\"Soma um número variável de argumentos.\"\"\"\n",
    "    \n",
    "    total = 0\n",
    "    \n",
    "    for numero in args:\n",
    "        total += numero\n",
    "    \n",
    "    return total"
   ]
  },
  {
   "cell_type": "code",
   "execution_count": 39,
   "id": "824d1550-387f-4ea8-9335-d30b4b6701c5",
   "metadata": {},
   "outputs": [
    {
     "name": "stdout",
     "output_type": "stream",
     "text": [
      "Soma dos Números: 15\n"
     ]
    }
   ],
   "source": [
    "print(f\"Soma dos Números: {dsa_soma_numeros(1, 2, 3, 4, 5)}\")"
   ]
  },
  {
   "cell_type": "code",
   "execution_count": 40,
   "id": "3a0cc51a-67c4-4004-93b2-27dd1d2c4b7e",
   "metadata": {},
   "outputs": [
    {
     "name": "stdout",
     "output_type": "stream",
     "text": [
      "Soma dos Números: 6\n"
     ]
    }
   ],
   "source": [
    "print(f\"Soma dos Números: {dsa_soma_numeros(1, 2, 3)}\")"
   ]
  },
  {
   "cell_type": "code",
   "execution_count": 41,
   "id": "941691d9-017f-4ef0-815d-ae3a09dce6fd",
   "metadata": {},
   "outputs": [
    {
     "name": "stdout",
     "output_type": "stream",
     "text": [
      "Soma dos Números: 530.3\n"
     ]
    }
   ],
   "source": [
    "print(f\"Soma dos Números: {dsa_soma_numeros(10, 400, 0.3, 120)}\")"
   ]
  },
  {
   "cell_type": "code",
   "execution_count": 42,
   "id": "b1e67580-c15e-4037-a22c-8299df9f831e",
   "metadata": {},
   "outputs": [],
   "source": [
    "# Argumentos de tamanho variável (**kwargs)\n",
    "def dsa_exibe_info_pessoa(**kwargs):\n",
    "    \n",
    "    \"\"\"Exibe informações passadas como pares chave-valor.\"\"\"\n",
    "    \n",
    "    print(\"\\nInformações da Pessoa:\\n\")\n",
    "    \n",
    "    for chave, valor in kwargs.items():\n",
    "        print(f\"- {chave}: {valor}\")"
   ]
  },
  {
   "cell_type": "code",
   "execution_count": 43,
   "id": "dc78c5c2-8491-43b0-b43d-3c486b98b5c7",
   "metadata": {},
   "outputs": [
    {
     "name": "stdout",
     "output_type": "stream",
     "text": [
      "\n",
      "Informações da Pessoa:\n",
      "\n",
      "- nome: Carla\n",
      "- profissao: Engenheira de Dados\n",
      "- hobby: Leitura\n"
     ]
    }
   ],
   "source": [
    "# Chamando a função\n",
    "dsa_exibe_info_pessoa(nome = \"Carla\", \n",
    "                      profissao = \"Engenheira de Dados\", \n",
    "                      hobby = \"Leitura\")"
   ]
  },
  {
   "cell_type": "code",
   "execution_count": 44,
   "id": "5177b456-a712-4363-a481-76e93b5dd3fb",
   "metadata": {},
   "outputs": [
    {
     "name": "stdout",
     "output_type": "stream",
     "text": [
      "\n",
      "Informações da Pessoa:\n",
      "\n",
      "- nome: Bob\n",
      "- profissao: Cientista de Dados\n"
     ]
    }
   ],
   "source": [
    "# Chamando a função\n",
    "dsa_exibe_info_pessoa(nome = \"Bob\", profissao = \"Cientista de Dados\")"
   ]
  },
  {
   "cell_type": "markdown",
   "id": "68b47e90-8308-4c89-a00d-f64076e8feef",
   "metadata": {},
   "source": [
    "## 8. Funções Anônimas (Expressão Lambda)\n",
    "\n",
    "São pequenas funções anônimas definidas com a palavra-chave lambda."
   ]
  },
  {
   "cell_type": "code",
   "execution_count": 45,
   "id": "86f797c5-5c98-4036-9232-15ceaa87c0de",
   "metadata": {},
   "outputs": [
    {
     "name": "stdout",
     "output_type": "stream",
     "text": [
      "O dobro de 7 é: 14\n"
     ]
    }
   ],
   "source": [
    "# Uma função lambda que dobra um número\n",
    "dobro = lambda x: x * 2\n",
    "\n",
    "# Print\n",
    "print(f\"O dobro de 7 é: {dobro(7)}\")"
   ]
  },
  {
   "cell_type": "markdown",
   "id": "0b843d1c-30a7-4e48-9223-24a730554efb",
   "metadata": {},
   "source": [
    "A grande vantagem de usar expressões lambda em Python é a simplicidade e concisão para criar funções pequenas, temporárias e sem nome (anônimas).\n",
    "\n",
    "Normalmente, quando você precisa de uma função, define com def. Mas às vezes a função é muito simples e usada apenas uma vez, dentro de outra operação (como um map, filter ou sorted). Nesses casos, a lambda evita código extra e deixa o fluxo mais direto.\n",
    "\n",
    "Você pode combinar uma expressão lambda com a função map() para aplicar uma operação a cada elemento da lista, por exemplo."
   ]
  },
  {
   "cell_type": "code",
   "execution_count": 46,
   "id": "df7ec369-ebf3-4259-9736-8544ad0c9f76",
   "metadata": {},
   "outputs": [
    {
     "name": "stdout",
     "output_type": "stream",
     "text": [
      "[1, 4, 9, 16, 25]\n"
     ]
    }
   ],
   "source": [
    "# Lista de números\n",
    "numeros = [1, 2, 3, 4, 5]\n",
    "\n",
    "# Lambda que retorna o quadrado de cada elemento\n",
    "quadrados = list(map(lambda x: x ** 2, numeros))\n",
    "\n",
    "print(quadrados)  # [1, 4, 9, 16, 25]"
   ]
  },
  {
   "cell_type": "markdown",
   "id": "e494b139-ceab-43b9-84bb-7b79d27eaa55",
   "metadata": {},
   "source": [
    "Aqui:\n",
    "\n",
    "- lambda x: x**2 define uma função anônima que calcula o quadrado.\n",
    "\n",
    "- map() aplica essa função a cada elemento da lista.\n",
    "\n",
    "- list() converte o resultado do map (um iterador) de volta para lista.\n",
    "\n",
    "👉 Também daria para fazer com list comprehension, mas aí não seria lambda."
   ]
  },
  {
   "cell_type": "code",
   "execution_count": 47,
   "id": "5c358769-77e4-428d-8c74-d079f3a92d23",
   "metadata": {},
   "outputs": [
    {
     "name": "stdout",
     "output_type": "stream",
     "text": [
      "Quadrados: [1, 4, 9, 16, 25, 36]\n",
      "Quadrados pares: [4, 16, 36]\n"
     ]
    }
   ],
   "source": [
    "# Lista de números\n",
    "numeros = [1, 2, 3, 4, 5, 6]\n",
    "\n",
    "# Primeiro calculamos os quadrados com map + lambda\n",
    "quadrados = list(map(lambda x: x ** 2, numeros))\n",
    "\n",
    "# Agora filtramos apenas os pares com filter + lambda\n",
    "quadrados_pares = list(filter(lambda x: x % 2 == 0, quadrados))\n",
    "\n",
    "print(\"Quadrados:\", quadrados)              # [1, 4, 9, 16, 25, 36]\n",
    "print(\"Quadrados pares:\", quadrados_pares)  # [4, 16, 36]"
   ]
  },
  {
   "cell_type": "markdown",
   "id": "198e512f-53a9-48ba-8fef-ffee51368319",
   "metadata": {},
   "source": [
    "## 9. Módulos da Biblioteca Padrão Python\n",
    "\n",
    "Python vem com uma vasta biblioteca de módulos para todo tipo de tarefa. E se precisar de mais, visite o repositório oficial de pacotes da linguagem:\n",
    "\n",
    "https://pypi.org"
   ]
  },
  {
   "cell_type": "code",
   "execution_count": 48,
   "id": "d7efdae4-74a0-4a81-b141-a726931aa8d6",
   "metadata": {},
   "outputs": [],
   "source": [
    "# Usando o módulo 'math' para funções matemáticas\n",
    "import math"
   ]
  },
  {
   "cell_type": "code",
   "execution_count": 49,
   "id": "68ef905f-f1f6-482a-84c8-e912c09bf443",
   "metadata": {},
   "outputs": [
    {
     "name": "stdout",
     "output_type": "stream",
     "text": [
      "A raiz quadrada de 25 é: 5.0\n"
     ]
    }
   ],
   "source": [
    "# Calcula a raiz quadrada\n",
    "raiz_quadrada = math.sqrt(25)\n",
    "print(f\"A raiz quadrada de 25 é: {raiz_quadrada}\")"
   ]
  },
  {
   "cell_type": "code",
   "execution_count": 50,
   "id": "0b8f5d0e-5cec-4d58-bfb1-44bbbe3aef94",
   "metadata": {},
   "outputs": [],
   "source": [
    "# Usando o módulo 'random' para gerar números aleatórios\n",
    "import random"
   ]
  },
  {
   "cell_type": "code",
   "execution_count": 51,
   "id": "ac52bdbd-61f4-452f-ab25-c332851d6e28",
   "metadata": {},
   "outputs": [
    {
     "name": "stdout",
     "output_type": "stream",
     "text": [
      "Um número aleatório entre 1 e 100: 95\n"
     ]
    }
   ],
   "source": [
    "# Gera um inteiro entre 1 e 100\n",
    "numero_aleatorio = random.randint(1, 100) \n",
    "print(f\"Um número aleatório entre 1 e 100: {numero_aleatorio}\")"
   ]
  },
  {
   "cell_type": "code",
   "execution_count": 52,
   "id": "79210986-617c-4e64-899c-3c80cac2a54f",
   "metadata": {},
   "outputs": [
    {
     "name": "stdout",
     "output_type": "stream",
     "text": [
      "Cidade escolhida aleatoriamente: Curitiba\n"
     ]
    }
   ],
   "source": [
    "# Seleciona aleatoriamente uma cidade da lista\n",
    "cidade_aleatoria = random.choice([\"Rio de Janeiro\", \"Salvador\", \"Curitiba\"])\n",
    "print(f\"Cidade escolhida aleatoriamente: {cidade_aleatoria}\")"
   ]
  },
  {
   "cell_type": "markdown",
   "id": "81aaabd5-bb72-4230-9e91-b09fd5fc17f2",
   "metadata": {},
   "source": [
    "## 10. Criando e Importando Seus Próprios Módulos\n",
    "\n",
    "Você pode organizar seu código em arquivos (módulos) e importá-los em outros scripts.\n",
    "\n",
    "### Passo 1: Crie o arquivo do módulo."
   ]
  },
  {
   "cell_type": "code",
   "execution_count": 53,
   "id": "3f746693-275e-489f-be0d-a31b8712566f",
   "metadata": {},
   "outputs": [
    {
     "name": "stdout",
     "output_type": "stream",
     "text": [
      "Writing modulodsa.py\n"
     ]
    }
   ],
   "source": [
    "%%writefile modulodsa.py\n",
    "\n",
    "def dsa_saudacao(nome):\n",
    "    \"\"\"Retorna uma saudação personalizada.\"\"\"\n",
    "    return f\"Olá, {nome}! Tudo bem?\"\n",
    "\n",
    "PI = 3.14159"
   ]
  },
  {
   "cell_type": "markdown",
   "id": "ff5c88d3-8ae6-4492-b245-2b8824d9cf35",
   "metadata": {},
   "source": [
    "### Passo 2: Crie o script principal para importar o módulo."
   ]
  },
  {
   "cell_type": "code",
   "execution_count": 54,
   "id": "4950a973-324d-4c5b-8944-2db9c4139b58",
   "metadata": {},
   "outputs": [
    {
     "name": "stdout",
     "output_type": "stream",
     "text": [
      "Writing dsaprincipal.py\n"
     ]
    }
   ],
   "source": [
    "%%writefile dsaprincipal.py\n",
    "\n",
    "# Conteúdo do arquivo dsaprincipal.py\n",
    "\n",
    "# Importa o módulo inteiro\n",
    "import modulodsa\n",
    "\n",
    "# Usa a função e a variável do módulo\n",
    "mensagem = modulodsa.dsa_saudacao(\"Mundo\")\n",
    "print(mensagem)\n",
    "print(f\"O valor de PI do nosso módulo é: {modulodsa.PI}\")\n",
    "\n",
    "# Outra forma: importando itens específicos\n",
    "from modulodsa import dsa_saudacao, PI\n",
    "\n",
    "mensagem_direta = dsa_saudacao(\"Aluno DSA\")\n",
    "print(mensagem_direta)\n",
    "print(f\"Valor de PI importado diretamente: {PI}\")"
   ]
  },
  {
   "cell_type": "markdown",
   "id": "909eaebe-a077-41b2-8b87-77fcd256b724",
   "metadata": {},
   "source": [
    "Para executar, você rodaria o arquivo principal.py. O Python automaticamente encontraria e usaria o conteúdo de meu_modulo.py."
   ]
  },
  {
   "cell_type": "code",
   "execution_count": 55,
   "id": "e2fc2c88-c46d-4106-ba83-b734f6675b3f",
   "metadata": {},
   "outputs": [
    {
     "name": "stdout",
     "output_type": "stream",
     "text": [
      "Olá, Mundo! Tudo bem?\n",
      "O valor de PI do nosso módulo é: 3.14159\n",
      "Olá, Aluno DSA! Tudo bem?\n",
      "Valor de PI importado diretamente: 3.14159\n"
     ]
    }
   ],
   "source": [
    "import dsaprincipal"
   ]
  },
  {
   "cell_type": "markdown",
   "id": "b2513428-f58d-4e5b-b1a2-e228019d2932",
   "metadata": {},
   "source": [
    "# Fim"
   ]
  },
  {
   "cell_type": "markdown",
   "id": "b3aadd57-1e35-43ef-b51a-318ae8054601",
   "metadata": {},
   "source": [
    "Este curso é inteiramente gratuito e com certificado de conclusão. Se estiver gostando, ajude o trabalho da Data Science Academy e compartilhe nas suas redes. Conte para as pessoas o que estamos fazendo aqui, oferecendo material de alto nível de forma gratuita. Este é o link da página do curso:\n",
    "\n",
    "https://www.datascienceacademy.com.br/course/fundamentos-de-linguagem-python-do-basico-a-aplicacoes-de-ia"
   ]
  }
 ],
 "metadata": {
  "kernelspec": {
   "display_name": "Python [conda env:base] *",
   "language": "python",
   "name": "conda-base-py"
  },
  "language_info": {
   "codemirror_mode": {
    "name": "ipython",
    "version": 3
   },
   "file_extension": ".py",
   "mimetype": "text/x-python",
   "name": "python",
   "nbconvert_exporter": "python",
   "pygments_lexer": "ipython3",
   "version": "3.13.5"
  }
 },
 "nbformat": 4,
 "nbformat_minor": 5
}
