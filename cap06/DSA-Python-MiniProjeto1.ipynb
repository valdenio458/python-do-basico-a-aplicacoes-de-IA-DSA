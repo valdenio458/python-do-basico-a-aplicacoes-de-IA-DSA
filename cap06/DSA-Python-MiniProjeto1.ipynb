{
 "cells": [
  {
   "cell_type": "markdown",
   "id": "72ac70f6-5840-4649-94a9-0b589eede30c",
   "metadata": {},
   "source": [
    "<!-- Trabalho Desenvolvido no Curso da Data Science Academy - www.datascienceacademy.com.br -->\n",
    "# <font color='blue'>Data Science Academy</font>\n",
    "# <font color='blue'>Fundamentos de Linguagem Python - Do Básico a Aplicações de IA</font>\n",
    "# <font color='blue'>Mini-Projeto 1</font>\n",
    "# <font color='blue'>Análise de Vendas Para Loja de E-commerce com NumPy, Pandas e Matplotlib</font>"
   ]
  },
  {
   "cell_type": "markdown",
   "id": "5b4d422e-b7aa-43af-a208-9ebf01c60e9f",
   "metadata": {},
   "source": [
    "## 1. Definição do Problema de Negócio"
   ]
  },
  {
   "cell_type": "markdown",
   "id": "48ece6a5-d10f-4ce3-a7e1-9d920762762f",
   "metadata": {},
   "source": [
    "**1.1. O Problema de Negócio**\n",
    "\n",
    "Nossa loja de e-commerce está em fase de crescimento, registrando um volume cada vez maior de transações diárias. No entanto, essa grande quantidade de dados de vendas, em seu estado bruto, é como um baú de tesouro trancado: sabemos que há valor ali, mas não conseguimos acessá-lo.\n",
    "\n",
    "Atualmente, muitas de nossas decisões estratégicas são baseadas em intuição e observações parciais, o que nos leva a enfrentar os seguintes desafios:\n",
    "\n",
    "- Gestão de Estoque Ineficiente: Não temos clareza sobre quais produtos são nossos \"campeões de venda\" e quais estão parados nas prateleiras. Isso resulta em excesso de estoque de itens de baixa procura e falta de produtos de alta demanda.\n",
    "\n",
    "- Marketing com Baixo Retorno: Nossas campanhas de marketing são genéricas, pois não sabemos quais categorias de produtos atraem mais os clientes ou em quais regiões geográficas nosso público está mais concentrado.\n",
    "\n",
    "- Perda de Oportunidades Sazonais: Não conseguimos identificar padrões ou tendências de vendas ao longo dos meses. Isso nos impede de planejar promoções estratégicas para períodos de alta ou de criar ações para impulsionar as vendas em meses de baixa.\n",
    "\n",
    "- Expansão sem Direção: Temos o desejo de expandir, mas não sabemos quais mercados regionais são mais promissores ou onde nossos esforços logísticos deveriam ser focados.\n",
    "\n",
    "O problema central é a falta de visibilidade clara sobre a performance do negócio, o que nos impede de tomar decisões rápidas, inteligentes e baseadas em evidências.\n",
    "\n",
    "**1.2. Objetivos do Projeto**\n",
    "\n",
    "Este projeto de análise de dados visa transformar nossos dados brutos de vendas em insights acionáveis. O objetivo é responder a quatro perguntas de negócio fundamentais:\n",
    "\n",
    "- O que vender? Identificar os produtos de maior sucesso para otimizar nosso portfólio e estoque.\n",
    "<!-- Trabalho Desenvolvido no Curso da Data Science Academy - www.datascienceacademy.com.br -->\n",
    "- Onde focar? Compreender quais categorias de produtos geram a maior parte da nossa receita.\n",
    "\n",
    "- Quando agir? Analisar a performance de vendas ao longo do tempo para identificar tendências, picos e sazonalidades.\n",
    "\n",
    "- Para onde expandir? Mapear a distribuição geográfica de nossas vendas para descobrir nossos mercados mais fortes.\n",
    "\n",
    "**1.3. Solução Proposta**\n",
    "\n",
    "A solução consiste em consolidar, limpar e analisar o histórico de dados de vendas da nossa plataforma. Utilizando ferramentas de análise de dados (como Python com Pandas, NumPy e Matplotlib), vamos processar essas informações e criar um relatório visual que apresente as descobertas de forma clara e intuitiva para as equipes de gestão, marketing e operações.\n",
    "\n",
    "**1.4. Resultados Esperados e Benefícios de Negócio**\n",
    "\n",
    "Ao final deste projeto, esperamos alcançar os seguintes resultados:\n",
    "\n",
    "- Otimização de Estoque: Com a lista dos produtos mais e menos vendidos, poderemos ajustar nossas compras, reduzir custos com armazenamento e evitar a perda de vendas por falta de produto.\n",
    "\n",
    "- Marketing Direcionado e Eficaz: Sabendo quais categorias e regiões são mais lucrativas, a equipe de marketing poderá criar campanhas segmentadas, aumentando o retorno sobre o investimento (ROI).\n",
    "\n",
    "- Planejamento Estratégico: A visualização das tendências mensais permitirá um melhor planejamento financeiro, promocional e de recursos, antecipando períodos de alta e baixa demanda.\n",
    "\n",
    "- Decisões Baseadas em Dados: Substituiremos a intuição por dados concretos, criando uma cultura orientada a dados que impulsionará o crescimento sustentável do negócio."
   ]
  },
  {
   "cell_type": "markdown",
   "id": "40bea8d1-2067-481a-8544-b61f47524e6b",
   "metadata": {},
   "source": [
    "## 2. Importação das Bibliotecas"
   ]
  },
  {
   "cell_type": "code",
   "execution_count": 5,
   "id": "e23e9095-119c-47ae-8ed8-1c093b0e85de",
   "metadata": {},
   "outputs": [],
   "source": [
    "# Instala o pacote watermark\n",
    "!pip install -q -U watermark"
   ]
  },
  {
   "cell_type": "code",
   "execution_count": null,
   "id": "3de10ab9",
   "metadata": {},
   "outputs": [],
   "source": [
    "# Para instalar uma versão específica de um pacote para compatibilidade, podemos fazer assim (por exemplo):\n",
    "!pip install -q numpy==1.21.6"
   ]
  },
  {
   "cell_type": "code",
   "execution_count": 10,
   "id": "405d1ef6-6c37-4943-9898-b366d817f7c0",
   "metadata": {
    "scrolled": true
   },
   "outputs": [],
   "source": [
    "# Importação das bibliotecas\n",
    "import pandas as pd\n",
    "import numpy as np\n",
    "\n",
    "# Importação das classes datetime e timedelta para manipulação de datas e intervalos de tempo\n",
    "from datetime import datetime, timedelta\n",
    "\n",
    "# Importação da biblioteca Matplotlib para geração de gráficos\n",
    "import matplotlib.pyplot as plt\n",
    "\n",
    "# Importação da biblioteca Seaborn para visualização estatística de dados\n",
    "import seaborn as sns\n",
    "\n",
    "# Importação da biblioteca random para geração de números aleatórios\n",
    "import random\n",
    "\n",
    "# Comando mágico do Jupyter Notebook que permite exibir gráficos diretamente no notebook\n",
    "%matplotlib inline\n",
    "\n",
    "# Para instalar uma versão específica de um pacote para compatibilidade, podemos fazer assim (por exemplo):\n",
    "# !pip install -q -U numpy==1.26.4"
   ]
  },
  {
   "cell_type": "code",
   "execution_count": 11,
   "id": "ed3d1810-38f4-4b6e-913c-90e2eca5630b",
   "metadata": {},
   "outputs": [
    {
     "name": "stdout",
     "output_type": "stream",
     "text": [
      "Author: Data Science Academy\n",
      "\n"
     ]
    }
   ],
   "source": [
    "%reload_ext watermark\n",
    "%watermark -a \"Data Science Academy\""
   ]
  },
  {
   "cell_type": "code",
   "execution_count": 12,
   "id": "f458e56b-85eb-4f01-983e-6e823503cc31",
   "metadata": {},
   "outputs": [
    {
     "name": "stdout",
     "output_type": "stream",
     "text": [
      "pandas    : 2.0.3\n",
      "seaborn   : 0.11.2\n",
      "numpy     : 1.24.4\n",
      "matplotlib: 3.5.2\n",
      "\n"
     ]
    }
   ],
   "source": [
    "%watermark --iversions"
   ]
  },
  {
   "cell_type": "code",
   "execution_count": null,
   "id": "c9ef1f4d-f32b-4ade-b4b1-250c77b028df",
   "metadata": {},
   "outputs": [],
   "source": [
    "# Para instalar uma versão específica de um pacote, podemos fazer assim (por exemplo):\n",
    "!pip install -q pandas==2.3.1"
   ]
  },
  {
   "cell_type": "code",
   "execution_count": 13,
   "id": "1b173da7",
   "metadata": {},
   "outputs": [],
   "source": [
    "!pip install -q numpy==1.24.4 pandas==2.0.3 numexpr==2.8.7 bottleneck==1.3.7 scipy==1.10.1 numba==0.57.1"
   ]
  },
  {
   "cell_type": "code",
   "execution_count": 2,
   "id": "92cf4712",
   "metadata": {},
   "outputs": [],
   "source": [
    "from datetime import datetime, timedelta"
   ]
  },
  {
   "cell_type": "markdown",
   "id": "65827109-f8e5-4e68-9239-ccea42a48a7c",
   "metadata": {},
   "source": [
    "## 3. Função Para Geração de Dados Fictícios\n",
    "\n",
    "Excelente forma de praticar muito do que vimos até aqui neste capítulo."
   ]
  },
  {
   "cell_type": "code",
   "execution_count": 14,
   "id": "5b7f8f03-d55a-44b5-a1d4-d19b36410a3c",
   "metadata": {},
   "outputs": [],
   "source": [
    "# Definição da função para gerar dados fictícios de vendas\n",
    "def dsa_gera_dados_ficticios(num_registros = 600):\n",
    "    \n",
    "    \"\"\"\n",
    "    Gera um DataFrame do Pandas com dados de vendas fictícios.\n",
    "    \"\"\"\n",
    "\n",
    "    # Mensagem inicial indicando a quantidade de registros a serem gerados\n",
    "    print(f\"\\nIniciando a geração de {num_registros} registros de vendas...\")\n",
    "\n",
    "    # Dicionário com produtos, suas categorias e preços\n",
    "    produtos = {\n",
    "        'Laptop Gamer': {'categoria': 'Eletrônicos', 'preco': 7500.00},\n",
    "        'Mouse Vertical': {'categoria': 'Acessórios', 'preco': 250.00},\n",
    "        'Teclado Mecânico': {'categoria': 'Acessórios', 'preco': 550.00},\n",
    "        'Monitor Ultrawide': {'categoria': 'Eletrônicos', 'preco': 2800.00},\n",
    "        'Cadeira Gamer': {'categoria': 'Móveis', 'preco': 1200.00},\n",
    "        'Headset 7.1': {'categoria': 'Acessórios', 'preco': 800.00},\n",
    "        'Placa de Vídeo': {'categoria': 'Hardware', 'preco': 4500.00},\n",
    "        'SSD 1TB': {'categoria': 'Hardware', 'preco': 600.00}\n",
    "    }\n",
    "\n",
    "    # Cria uma lista apenas com os nomes dos produtos\n",
    "    lista_produtos = list(produtos.keys())\n",
    "\n",
    "    # Dicionário com cidades e seus respectivos estados\n",
    "    cidades_estados = {\n",
    "        'São Paulo': 'SP', 'Rio de Janeiro': 'RJ', 'Belo Horizonte': 'MG',\n",
    "        'Porto Alegre': 'RS', 'Salvador': 'BA', 'Curitiba': 'PR', 'Fortaleza': 'CE'\n",
    "    }\n",
    "\n",
    "    # Cria uma lista apenas com os nomes das cidades\n",
    "    lista_cidades = list(cidades_estados.keys())\n",
    "\n",
    "    # Lista que armazenará os registros de vendas\n",
    "    dados_vendas = []\n",
    "\n",
    "    # Define a data inicial dos pedidos\n",
    "    data_inicial = datetime(2026, 1, 1)\n",
    "\n",
    "    # Loop para gerar os registros de vendas\n",
    "    for i in range(num_registros):\n",
    "        \n",
    "        # Seleciona aleatoriamente um produto\n",
    "        produto_nome = random.choice(lista_produtos)\n",
    "\n",
    "        # Seleciona aleatoriamente uma cidade\n",
    "        cidade = random.choice(lista_cidades)\n",
    "\n",
    "        # Gera uma quantidade de produtos vendida entre 1 e 7\n",
    "        quantidade = np.random.randint(1, 8)\n",
    "\n",
    "        # Calcula a data do pedido a partir da data inicial\n",
    "        data_pedido = data_inicial + timedelta(days = int(i/5), hours = random.randint(0, 23))\n",
    "\n",
    "        # Se o produto for Mouse ou Teclado, aplica desconto aleatório de até 10%\n",
    "        if produto_nome in ['Mouse Vertical', 'Teclado Mecânico']:\n",
    "            preco_unitario = produtos[produto_nome]['preco'] * np.random.uniform(0.9, 1.0)\n",
    "        else:\n",
    "            preco_unitario = produtos[produto_nome]['preco']\n",
    "\n",
    "        # Adiciona um registro de venda à lista\n",
    "        dados_vendas.append({\n",
    "            'ID_Pedido': 1000 + i,\n",
    "            'Data_Pedido': data_pedido,\n",
    "            'Nome_Produto': produto_nome,\n",
    "            'Categoria': produtos[produto_nome]['categoria'],\n",
    "            'Preco_Unitario': round(preco_unitario, 2),\n",
    "            'Quantidade': quantidade,\n",
    "            'ID_Cliente': np.random.randint(100, 150),\n",
    "            'Cidade': cidade,\n",
    "            'Estado': cidades_estados[cidade]\n",
    "        })\n",
    "    \n",
    "    # Mensagem final indicando que a geração terminou\n",
    "    print(\"Geração de dados concluída.\\n\")\n",
    "\n",
    "    # Retorna os dados no formato de DataFrame\n",
    "    return pd.DataFrame(dados_vendas)"
   ]
  },
  {
   "cell_type": "markdown",
   "id": "626cd1be-7c6b-4c00-9485-797d4a446457",
   "metadata": {},
   "source": [
    "## 4. Gerar, Carregar e Explorar os Dados"
   ]
  },
  {
   "cell_type": "code",
   "execution_count": 15,
   "id": "f6b95ab6-c5b3-4216-aaab-1580ae296f11",
   "metadata": {},
   "outputs": [
    {
     "name": "stdout",
     "output_type": "stream",
     "text": [
      "\n",
      "Iniciando a geração de 500 registros de vendas...\n",
      "Geração de dados concluída.\n",
      "\n"
     ]
    }
   ],
   "source": [
    "# Gera os dados chamando a função da célula anterior\n",
    "df_vendas = dsa_gera_dados_ficticios(500)"
   ]
  },
  {
   "cell_type": "code",
   "execution_count": 16,
   "id": "48a78375-dc3c-496c-9ec6-ffe4558a3fe1",
   "metadata": {},
   "outputs": [
    {
     "data": {
      "text/plain": [
       "pandas.core.frame.DataFrame"
      ]
     },
     "execution_count": 16,
     "metadata": {},
     "output_type": "execute_result"
    }
   ],
   "source": [
    "type(df_vendas)"
   ]
  },
  {
   "cell_type": "code",
   "execution_count": 17,
   "id": "b4b789d1-6cac-43e7-8d05-155f8de2dcf7",
   "metadata": {},
   "outputs": [
    {
     "data": {
      "text/plain": [
       "(500, 9)"
      ]
     },
     "execution_count": 17,
     "metadata": {},
     "output_type": "execute_result"
    }
   ],
   "source": [
    "# Shape\n",
    "df_vendas.shape"
   ]
  },
  {
   "cell_type": "code",
   "execution_count": 18,
   "id": "9e3c8ec8-511b-4400-a405-9e17266d41fb",
   "metadata": {},
   "outputs": [
    {
     "data": {
      "text/html": [
       "<div>\n",
       "<style scoped>\n",
       "    .dataframe tbody tr th:only-of-type {\n",
       "        vertical-align: middle;\n",
       "    }\n",
       "\n",
       "    .dataframe tbody tr th {\n",
       "        vertical-align: top;\n",
       "    }\n",
       "\n",
       "    .dataframe thead th {\n",
       "        text-align: right;\n",
       "    }\n",
       "</style>\n",
       "<table border=\"1\" class=\"dataframe\">\n",
       "  <thead>\n",
       "    <tr style=\"text-align: right;\">\n",
       "      <th></th>\n",
       "      <th>ID_Pedido</th>\n",
       "      <th>Data_Pedido</th>\n",
       "      <th>Nome_Produto</th>\n",
       "      <th>Categoria</th>\n",
       "      <th>Preco_Unitario</th>\n",
       "      <th>Quantidade</th>\n",
       "      <th>ID_Cliente</th>\n",
       "      <th>Cidade</th>\n",
       "      <th>Estado</th>\n",
       "    </tr>\n",
       "  </thead>\n",
       "  <tbody>\n",
       "    <tr>\n",
       "      <th>0</th>\n",
       "      <td>1000</td>\n",
       "      <td>2026-01-01 08:00:00</td>\n",
       "      <td>Laptop Gamer</td>\n",
       "      <td>Eletrônicos</td>\n",
       "      <td>7500.00</td>\n",
       "      <td>7</td>\n",
       "      <td>118</td>\n",
       "      <td>Belo Horizonte</td>\n",
       "      <td>MG</td>\n",
       "    </tr>\n",
       "    <tr>\n",
       "      <th>1</th>\n",
       "      <td>1001</td>\n",
       "      <td>2026-01-01 11:00:00</td>\n",
       "      <td>SSD 1TB</td>\n",
       "      <td>Hardware</td>\n",
       "      <td>600.00</td>\n",
       "      <td>3</td>\n",
       "      <td>148</td>\n",
       "      <td>Salvador</td>\n",
       "      <td>BA</td>\n",
       "    </tr>\n",
       "    <tr>\n",
       "      <th>2</th>\n",
       "      <td>1002</td>\n",
       "      <td>2026-01-01 16:00:00</td>\n",
       "      <td>Placa de Vídeo</td>\n",
       "      <td>Hardware</td>\n",
       "      <td>4500.00</td>\n",
       "      <td>2</td>\n",
       "      <td>140</td>\n",
       "      <td>Belo Horizonte</td>\n",
       "      <td>MG</td>\n",
       "    </tr>\n",
       "    <tr>\n",
       "      <th>3</th>\n",
       "      <td>1003</td>\n",
       "      <td>2026-01-01 01:00:00</td>\n",
       "      <td>Placa de Vídeo</td>\n",
       "      <td>Hardware</td>\n",
       "      <td>4500.00</td>\n",
       "      <td>1</td>\n",
       "      <td>125</td>\n",
       "      <td>Porto Alegre</td>\n",
       "      <td>RS</td>\n",
       "    </tr>\n",
       "    <tr>\n",
       "      <th>4</th>\n",
       "      <td>1004</td>\n",
       "      <td>2026-01-01 12:00:00</td>\n",
       "      <td>Teclado Mecânico</td>\n",
       "      <td>Acessórios</td>\n",
       "      <td>543.73</td>\n",
       "      <td>4</td>\n",
       "      <td>126</td>\n",
       "      <td>Rio de Janeiro</td>\n",
       "      <td>RJ</td>\n",
       "    </tr>\n",
       "  </tbody>\n",
       "</table>\n",
       "</div>"
      ],
      "text/plain": [
       "   ID_Pedido         Data_Pedido      Nome_Produto    Categoria  \\\n",
       "0       1000 2026-01-01 08:00:00      Laptop Gamer  Eletrônicos   \n",
       "1       1001 2026-01-01 11:00:00           SSD 1TB     Hardware   \n",
       "2       1002 2026-01-01 16:00:00    Placa de Vídeo     Hardware   \n",
       "3       1003 2026-01-01 01:00:00    Placa de Vídeo     Hardware   \n",
       "4       1004 2026-01-01 12:00:00  Teclado Mecânico   Acessórios   \n",
       "\n",
       "   Preco_Unitario  Quantidade  ID_Cliente          Cidade Estado  \n",
       "0         7500.00           7         118  Belo Horizonte     MG  \n",
       "1          600.00           3         148        Salvador     BA  \n",
       "2         4500.00           2         140  Belo Horizonte     MG  \n",
       "3         4500.00           1         125    Porto Alegre     RS  \n",
       "4          543.73           4         126  Rio de Janeiro     RJ  "
      ]
     },
     "execution_count": 18,
     "metadata": {},
     "output_type": "execute_result"
    }
   ],
   "source": [
    "# Exibe as 5 primeiras linhas do DataFrame\n",
    "df_vendas.head()"
   ]
  },
  {
   "cell_type": "code",
   "execution_count": 19,
   "id": "b02a274e-e36a-487d-99f6-feef168e30a4",
   "metadata": {},
   "outputs": [
    {
     "data": {
      "text/html": [
       "<div>\n",
       "<style scoped>\n",
       "    .dataframe tbody tr th:only-of-type {\n",
       "        vertical-align: middle;\n",
       "    }\n",
       "\n",
       "    .dataframe tbody tr th {\n",
       "        vertical-align: top;\n",
       "    }\n",
       "\n",
       "    .dataframe thead th {\n",
       "        text-align: right;\n",
       "    }\n",
       "</style>\n",
       "<table border=\"1\" class=\"dataframe\">\n",
       "  <thead>\n",
       "    <tr style=\"text-align: right;\">\n",
       "      <th></th>\n",
       "      <th>ID_Pedido</th>\n",
       "      <th>Data_Pedido</th>\n",
       "      <th>Nome_Produto</th>\n",
       "      <th>Categoria</th>\n",
       "      <th>Preco_Unitario</th>\n",
       "      <th>Quantidade</th>\n",
       "      <th>ID_Cliente</th>\n",
       "      <th>Cidade</th>\n",
       "      <th>Estado</th>\n",
       "    </tr>\n",
       "  </thead>\n",
       "  <tbody>\n",
       "    <tr>\n",
       "      <th>495</th>\n",
       "      <td>1495</td>\n",
       "      <td>2026-04-10 05:00:00</td>\n",
       "      <td>Laptop Gamer</td>\n",
       "      <td>Eletrônicos</td>\n",
       "      <td>7500.00</td>\n",
       "      <td>6</td>\n",
       "      <td>108</td>\n",
       "      <td>Salvador</td>\n",
       "      <td>BA</td>\n",
       "    </tr>\n",
       "    <tr>\n",
       "      <th>496</th>\n",
       "      <td>1496</td>\n",
       "      <td>2026-04-10 10:00:00</td>\n",
       "      <td>Cadeira Gamer</td>\n",
       "      <td>Móveis</td>\n",
       "      <td>1200.00</td>\n",
       "      <td>3</td>\n",
       "      <td>131</td>\n",
       "      <td>Curitiba</td>\n",
       "      <td>PR</td>\n",
       "    </tr>\n",
       "    <tr>\n",
       "      <th>497</th>\n",
       "      <td>1497</td>\n",
       "      <td>2026-04-10 12:00:00</td>\n",
       "      <td>Teclado Mecânico</td>\n",
       "      <td>Acessórios</td>\n",
       "      <td>516.56</td>\n",
       "      <td>4</td>\n",
       "      <td>148</td>\n",
       "      <td>Porto Alegre</td>\n",
       "      <td>RS</td>\n",
       "    </tr>\n",
       "    <tr>\n",
       "      <th>498</th>\n",
       "      <td>1498</td>\n",
       "      <td>2026-04-10 16:00:00</td>\n",
       "      <td>Teclado Mecânico</td>\n",
       "      <td>Acessórios</td>\n",
       "      <td>530.98</td>\n",
       "      <td>4</td>\n",
       "      <td>147</td>\n",
       "      <td>Belo Horizonte</td>\n",
       "      <td>MG</td>\n",
       "    </tr>\n",
       "    <tr>\n",
       "      <th>499</th>\n",
       "      <td>1499</td>\n",
       "      <td>2026-04-10 10:00:00</td>\n",
       "      <td>Laptop Gamer</td>\n",
       "      <td>Eletrônicos</td>\n",
       "      <td>7500.00</td>\n",
       "      <td>2</td>\n",
       "      <td>149</td>\n",
       "      <td>Salvador</td>\n",
       "      <td>BA</td>\n",
       "    </tr>\n",
       "  </tbody>\n",
       "</table>\n",
       "</div>"
      ],
      "text/plain": [
       "     ID_Pedido         Data_Pedido      Nome_Produto    Categoria  \\\n",
       "495       1495 2026-04-10 05:00:00      Laptop Gamer  Eletrônicos   \n",
       "496       1496 2026-04-10 10:00:00     Cadeira Gamer       Móveis   \n",
       "497       1497 2026-04-10 12:00:00  Teclado Mecânico   Acessórios   \n",
       "498       1498 2026-04-10 16:00:00  Teclado Mecânico   Acessórios   \n",
       "499       1499 2026-04-10 10:00:00      Laptop Gamer  Eletrônicos   \n",
       "\n",
       "     Preco_Unitario  Quantidade  ID_Cliente          Cidade Estado  \n",
       "495         7500.00           6         108        Salvador     BA  \n",
       "496         1200.00           3         131        Curitiba     PR  \n",
       "497          516.56           4         148    Porto Alegre     RS  \n",
       "498          530.98           4         147  Belo Horizonte     MG  \n",
       "499         7500.00           2         149        Salvador     BA  "
      ]
     },
     "execution_count": 19,
     "metadata": {},
     "output_type": "execute_result"
    }
   ],
   "source": [
    "# Exibe as 5 últimas linhas do DataFrame\n",
    "df_vendas.tail()"
   ]
  },
  {
   "cell_type": "code",
   "execution_count": 20,
   "id": "2f507f33-0293-4616-bea5-42e2340ab0e0",
   "metadata": {},
   "outputs": [
    {
     "name": "stdout",
     "output_type": "stream",
     "text": [
      "<class 'pandas.core.frame.DataFrame'>\n",
      "RangeIndex: 500 entries, 0 to 499\n",
      "Data columns (total 9 columns):\n",
      " #   Column          Non-Null Count  Dtype         \n",
      "---  ------          --------------  -----         \n",
      " 0   ID_Pedido       500 non-null    int64         \n",
      " 1   Data_Pedido     500 non-null    datetime64[ns]\n",
      " 2   Nome_Produto    500 non-null    object        \n",
      " 3   Categoria       500 non-null    object        \n",
      " 4   Preco_Unitario  500 non-null    float64       \n",
      " 5   Quantidade      500 non-null    int64         \n",
      " 6   ID_Cliente      500 non-null    int64         \n",
      " 7   Cidade          500 non-null    object        \n",
      " 8   Estado          500 non-null    object        \n",
      "dtypes: datetime64[ns](1), float64(1), int64(3), object(4)\n",
      "memory usage: 35.3+ KB\n"
     ]
    }
   ],
   "source": [
    "# Exibe informações gerais sobre o DataFrame (tipos de dados, valores não nulos)\n",
    "df_vendas.info()"
   ]
  },
  {
   "cell_type": "code",
   "execution_count": 21,
   "id": "c0d33c2b-dba4-4122-851b-e99b0ba6e1bc",
   "metadata": {},
   "outputs": [
    {
     "data": {
      "text/html": [
       "<div>\n",
       "<style scoped>\n",
       "    .dataframe tbody tr th:only-of-type {\n",
       "        vertical-align: middle;\n",
       "    }\n",
       "\n",
       "    .dataframe tbody tr th {\n",
       "        vertical-align: top;\n",
       "    }\n",
       "\n",
       "    .dataframe thead th {\n",
       "        text-align: right;\n",
       "    }\n",
       "</style>\n",
       "<table border=\"1\" class=\"dataframe\">\n",
       "  <thead>\n",
       "    <tr style=\"text-align: right;\">\n",
       "      <th></th>\n",
       "      <th>ID_Pedido</th>\n",
       "      <th>Data_Pedido</th>\n",
       "      <th>Preco_Unitario</th>\n",
       "      <th>Quantidade</th>\n",
       "      <th>ID_Cliente</th>\n",
       "    </tr>\n",
       "  </thead>\n",
       "  <tbody>\n",
       "    <tr>\n",
       "      <th>count</th>\n",
       "      <td>500.000000</td>\n",
       "      <td>500</td>\n",
       "      <td>500.000000</td>\n",
       "      <td>500.000000</td>\n",
       "      <td>500.000000</td>\n",
       "    </tr>\n",
       "    <tr>\n",
       "      <th>mean</th>\n",
       "      <td>1249.500000</td>\n",
       "      <td>2026-02-19 23:11:02.399999744</td>\n",
       "      <td>2258.485600</td>\n",
       "      <td>3.998000</td>\n",
       "      <td>123.666000</td>\n",
       "    </tr>\n",
       "    <tr>\n",
       "      <th>min</th>\n",
       "      <td>1000.000000</td>\n",
       "      <td>2026-01-01 01:00:00</td>\n",
       "      <td>225.150000</td>\n",
       "      <td>1.000000</td>\n",
       "      <td>100.000000</td>\n",
       "    </tr>\n",
       "    <tr>\n",
       "      <th>25%</th>\n",
       "      <td>1124.750000</td>\n",
       "      <td>2026-01-26 01:45:00</td>\n",
       "      <td>600.000000</td>\n",
       "      <td>2.000000</td>\n",
       "      <td>111.000000</td>\n",
       "    </tr>\n",
       "    <tr>\n",
       "      <th>50%</th>\n",
       "      <td>1249.500000</td>\n",
       "      <td>2026-02-19 22:00:00</td>\n",
       "      <td>1200.000000</td>\n",
       "      <td>4.000000</td>\n",
       "      <td>123.000000</td>\n",
       "    </tr>\n",
       "    <tr>\n",
       "      <th>75%</th>\n",
       "      <td>1374.250000</td>\n",
       "      <td>2026-03-16 19:30:00</td>\n",
       "      <td>2800.000000</td>\n",
       "      <td>6.000000</td>\n",
       "      <td>137.000000</td>\n",
       "    </tr>\n",
       "    <tr>\n",
       "      <th>max</th>\n",
       "      <td>1499.000000</td>\n",
       "      <td>2026-04-10 16:00:00</td>\n",
       "      <td>7500.000000</td>\n",
       "      <td>7.000000</td>\n",
       "      <td>149.000000</td>\n",
       "    </tr>\n",
       "    <tr>\n",
       "      <th>std</th>\n",
       "      <td>144.481833</td>\n",
       "      <td>NaN</td>\n",
       "      <td>2399.454166</td>\n",
       "      <td>1.982386</td>\n",
       "      <td>14.828426</td>\n",
       "    </tr>\n",
       "  </tbody>\n",
       "</table>\n",
       "</div>"
      ],
      "text/plain": [
       "         ID_Pedido                    Data_Pedido  Preco_Unitario  Quantidade  \\\n",
       "count   500.000000                            500      500.000000  500.000000   \n",
       "mean   1249.500000  2026-02-19 23:11:02.399999744     2258.485600    3.998000   \n",
       "min    1000.000000            2026-01-01 01:00:00      225.150000    1.000000   \n",
       "25%    1124.750000            2026-01-26 01:45:00      600.000000    2.000000   \n",
       "50%    1249.500000            2026-02-19 22:00:00     1200.000000    4.000000   \n",
       "75%    1374.250000            2026-03-16 19:30:00     2800.000000    6.000000   \n",
       "max    1499.000000            2026-04-10 16:00:00     7500.000000    7.000000   \n",
       "std     144.481833                            NaN     2399.454166    1.982386   \n",
       "\n",
       "       ID_Cliente  \n",
       "count  500.000000  \n",
       "mean   123.666000  \n",
       "min    100.000000  \n",
       "25%    111.000000  \n",
       "50%    123.000000  \n",
       "75%    137.000000  \n",
       "max    149.000000  \n",
       "std     14.828426  "
      ]
     },
     "execution_count": 21,
     "metadata": {},
     "output_type": "execute_result"
    }
   ],
   "source": [
    "# Resumo estatístico\n",
    "df_vendas.describe()"
   ]
  },
  {
   "cell_type": "code",
   "execution_count": 22,
   "id": "e8a05c95-b0a8-4d90-a370-1fe1cf28d0f2",
   "metadata": {},
   "outputs": [
    {
     "data": {
      "text/plain": [
       "ID_Pedido                  int64\n",
       "Data_Pedido       datetime64[ns]\n",
       "Nome_Produto              object\n",
       "Categoria                 object\n",
       "Preco_Unitario           float64\n",
       "Quantidade                 int64\n",
       "ID_Cliente                 int64\n",
       "Cidade                    object\n",
       "Estado                    object\n",
       "dtype: object"
      ]
     },
     "execution_count": 22,
     "metadata": {},
     "output_type": "execute_result"
    }
   ],
   "source": [
    "# Tipos de dados\n",
    "df_vendas.dtypes"
   ]
  },
  {
   "cell_type": "markdown",
   "id": "a24de5df-2182-4d28-be9d-92cfc7b83c3e",
   "metadata": {},
   "source": [
    "## 5. Limpeza, Pré-Processamento e Engenharia de Atributos"
   ]
  },
  {
   "cell_type": "code",
   "execution_count": null,
   "id": "e4a4d4ef-511f-46b1-8c80-b1cb63cdd0d7",
   "metadata": {},
   "outputs": [],
   "source": [
    "# Se a coluna 'Data_Pedido' não estiver como tipo datetime, precisamos fazer a conversão explícita\n",
    "# A coluna pode ser usada para análise temporal\n",
    "df_vendas['Data_Pedido'] = pd.to_datetime(df_vendas['Data_Pedido'])"
   ]
  },
  {
   "cell_type": "code",
   "execution_count": null,
   "id": "e7ac1ea7-b268-4f9c-902a-cd10c8011773",
   "metadata": {},
   "outputs": [],
   "source": [
    "# Engenharia de atributos\n",
    "# Criando a coluna 'Faturamento' (preço x quantidade)\n",
    "df_vendas['Faturamento'] = df_vendas['Preco_Unitario'] * df_vendas['Quantidade']"
   ]
  },
  {
   "cell_type": "code",
   "execution_count": null,
   "id": "d9580ec6-da2c-4029-adeb-d3155dd7626b",
   "metadata": {},
   "outputs": [],
   "source": [
    "# Engenharia de atributos\n",
    "# Usando uma função lambda para criar uma coluna de status de entrega\n",
    "df_vendas['Status_Entrega'] = df_vendas['Estado'].apply(lambda estado: 'Rápida' if estado in ['SP', 'RJ', 'MG'] else 'Normal')"
   ]
  },
  {
   "cell_type": "code",
   "execution_count": null,
   "id": "23391be3-2c9f-469a-b3ec-4ff51fd9fe00",
   "metadata": {},
   "outputs": [],
   "source": [
    "# Exibe informações gerais sobre o DataFrame (tipos de dados, valores não nulos)\n",
    "df_vendas.info()"
   ]
  },
  {
   "cell_type": "code",
   "execution_count": null,
   "id": "d4ef82c0-a2fe-4fb4-b26d-190ef13d16bb",
   "metadata": {},
   "outputs": [],
   "source": [
    "# Exibe as 5 primeiras linhas novamente para ver as novas colunas\n",
    "df_vendas.head()"
   ]
  },
  {
   "cell_type": "markdown",
   "id": "aa3492c5-d78b-4603-9b88-f574aad3dcc3",
   "metadata": {},
   "source": [
    "## 6. Análise 1 - Top 10 Produtos Mais Vendidos\n",
    "<!-- Trabalho Desenvolvido no Curso da Data Science Academy - www.datascienceacademy.com.br -->\n",
    "Quais os top 10 produtos mais vendidos?"
   ]
  },
  {
   "cell_type": "code",
   "execution_count": null,
   "id": "90cfe3d9-33ef-4a22-94ed-f9af80c7dab0",
   "metadata": {},
   "outputs": [],
   "source": [
    "# Agrupa por nome do produto, soma a quantidade e ordena para encontrar os mais vendidos\n",
    "top_10_produtos = df_vendas.groupby('Nome_Produto')['Quantidade'].sum().sort_values(ascending = False).head(10)"
   ]
  },
  {
   "cell_type": "code",
   "execution_count": null,
   "id": "a717b3e8-f70a-43a3-827e-48628d50b84a",
   "metadata": {},
   "outputs": [],
   "source": [
    "# Exibe o resultado\n",
    "top_10_produtos"
   ]
  },
  {
   "cell_type": "code",
   "execution_count": null,
   "id": "beac7ab1-1acd-462b-9d80-816e3fec0e16",
   "metadata": {},
   "outputs": [],
   "source": [
    "# Define um estilo para os gráficos\n",
    "sns.set_style(\"whitegrid\")\n",
    "\n",
    "# Cria a figura e os eixos\n",
    "plt.figure(figsize = (12, 7))\n",
    "\n",
    "# Cria o gráfico de barras horizontais\n",
    "top_10_produtos.sort_values(ascending = True).plot(kind = 'barh', color = 'skyblue')\n",
    "\n",
    "# Adiciona títulos e labels\n",
    "plt.title('Top 10 Produtos Mais Vendidos', fontsize = 16)\n",
    "plt.xlabel('Quantidade Vendida', fontsize = 12)\n",
    "plt.ylabel('Produto', fontsize = 12)\n",
    "\n",
    "# Exibe o gráfico\n",
    "plt.tight_layout()\n",
    "plt.show()"
   ]
  },
  {
   "cell_type": "markdown",
   "id": "d65fae0c-5ee8-459f-9b72-8641cf8f93e0",
   "metadata": {},
   "source": [
    "## 7. Análise 2 - Faturamento Mensal\n",
    "\n",
    "Qual foi o faturamento mensal?"
   ]
  },
  {
   "cell_type": "code",
   "execution_count": null,
   "id": "085a34e5-3a48-4752-95b9-467a82bae24b",
   "metadata": {},
   "outputs": [],
   "source": [
    "df_vendas.head()"
   ]
  },
  {
   "cell_type": "code",
   "execution_count": null,
   "id": "b174013d-d657-4420-bed9-d148ecc4290a",
   "metadata": {},
   "outputs": [],
   "source": [
    "# Cria uma coluna 'Mes' para facilitar o agrupamento mensal\n",
    "df_vendas['Mes'] = df_vendas['Data_Pedido'].dt.to_period('M')"
   ]
  },
  {
   "cell_type": "code",
   "execution_count": null,
   "id": "28d27039-c4a4-4c0f-95cb-1bb02bdd3665",
   "metadata": {},
   "outputs": [],
   "source": [
    "df_vendas.head()"
   ]
  },
  {
   "cell_type": "code",
   "execution_count": null,
   "id": "e322126c-1c29-42a5-b53b-4c2304009c42",
   "metadata": {},
   "outputs": [],
   "source": [
    "# Agrupa por mês e soma o faturamento\n",
    "faturamento_mensal = df_vendas.groupby('Mes')['Faturamento'].sum()"
   ]
  },
  {
   "cell_type": "code",
   "execution_count": null,
   "id": "55bf8ca1-f1f0-4004-8bf4-d75eb8a4c648",
   "metadata": {},
   "outputs": [],
   "source": [
    "# Converte o índice para string para facilitar a plotagem no gráfico\n",
    "faturamento_mensal.index = faturamento_mensal.index.strftime('%Y-%m')"
   ]
  },
  {
   "cell_type": "code",
   "execution_count": null,
   "id": "dc60448b-08b8-4b3f-8536-fbb2dcd6b750",
   "metadata": {},
   "outputs": [],
   "source": [
    "# Formata para duas casas decimais\n",
    "faturamento_mensal.map('R$ {:,.2f}'.format)"
   ]
  },
  {
   "cell_type": "code",
   "execution_count": null,
   "id": "c510921c-553d-4292-8b28-20080d9bb279",
   "metadata": {},
   "outputs": [],
   "source": [
    "# Cria uma nova figura com tamanho de 12 por 6 polegadas\n",
    "plt.figure(figsize = (12, 6))\n",
    "\n",
    "# Plota os dados de faturamento mensal em formato de linha\n",
    "faturamento_mensal.plot(kind = 'line', marker = 'o', linestyle = '-', color = 'green')\n",
    "\n",
    "# Define o título do gráfico com fonte de tamanho 16\n",
    "plt.title('Evolução do Faturamento Mensal', fontsize = 16)\n",
    "\n",
    "# Define o rótulo do eixo X\n",
    "plt.xlabel('Mês', fontsize = 12)\n",
    "\n",
    "# Define o rótulo do eixo Y\n",
    "plt.ylabel('Faturamento (R$)', fontsize = 12)\n",
    "\n",
    "# Rotaciona os valores do eixo X em 45 graus para melhor visualização\n",
    "plt.xticks(rotation = 45)\n",
    "\n",
    "# Adiciona uma grade com estilo tracejado e linhas finas\n",
    "plt.grid(True, which = 'both', linestyle = '--', linewidth = 0.5)\n",
    "\n",
    "# Ajusta automaticamente os elementos para evitar sobreposição\n",
    "plt.tight_layout()\n",
    "\n",
    "# Exibe o gráfico\n",
    "plt.show()"
   ]
  },
  {
   "cell_type": "markdown",
   "id": "a885cb29-a72e-4233-90ee-ec48de529c65",
   "metadata": {},
   "source": [
    "## 8. Análise 3 - Vendas Por Estado\n",
    "\n",
    "Qual o total de vendas por estado?"
   ]
  },
  {
   "cell_type": "code",
   "execution_count": null,
   "id": "cb3e3f86-b4ea-4c81-bf66-47660e4dfaeb",
   "metadata": {},
   "outputs": [],
   "source": [
    "# Agrupa por estado e soma o faturamento\n",
    "vendas_estado = df_vendas.groupby('Estado')['Faturamento'].sum().sort_values(ascending = False)"
   ]
  },
  {
   "cell_type": "code",
   "execution_count": null,
   "id": "5162f8c1-652b-49f8-b44d-1d789f41c288",
   "metadata": {},
   "outputs": [],
   "source": [
    "# Formata para duas casas decimais\n",
    "vendas_estado.map('R$ {:,.2f}'.format)"
   ]
  },
  {
   "cell_type": "markdown",
   "id": "3bda015f-1e0c-4826-ba0a-887d8c2697d2",
   "metadata": {},
   "source": [
    "https://seaborn.pydata.org/generated/seaborn.color_palette.html"
   ]
  },
  {
   "cell_type": "code",
   "execution_count": null,
   "id": "5862bc0d-9214-4a31-b278-8c461cbf3f58",
   "metadata": {},
   "outputs": [],
   "source": [
    "# Cria uma nova figura com tamanho de 12 por 7 polegadas\n",
    "plt.figure(figsize = (12, 7))\n",
    "\n",
    "# Plota os dados de faturamento por estado em formato de gráfico de barras\n",
    "# Usando a paleta de cores \"rocket\" do Seaborn\n",
    "vendas_estado.plot(kind = 'bar', color = sns.color_palette(\"husl\", 7))\n",
    "\n",
    "# Define o título do gráfico com fonte de tamanho 16\n",
    "plt.title('Faturamento Por Estado', fontsize = 16)\n",
    "\n",
    "# Define o rótulo do eixo X\n",
    "plt.xlabel('Estado', fontsize = 12)\n",
    "\n",
    "# Define o rótulo do eixo Y\n",
    "plt.ylabel('Faturamento (R$)', fontsize = 12)\n",
    "\n",
    "# Mantém os rótulos do eixo X na horizontal (sem rotação)\n",
    "plt.xticks(rotation = 0)\n",
    "\n",
    "# Ajusta automaticamente os elementos do gráfico para evitar sobreposição\n",
    "plt.tight_layout()\n",
    "\n",
    "# Exibe o gráfico\n",
    "plt.show()"
   ]
  },
  {
   "cell_type": "markdown",
   "id": "553aba5b-a566-4ce0-958e-b12215e89dc3",
   "metadata": {},
   "source": [
    "## 9. Análise 4 - Faturamento Por Categoria\n",
    "\n",
    "Qual o faturamento total por categoria?"
   ]
  },
  {
   "cell_type": "code",
   "execution_count": null,
   "id": "e963e87f-298b-43b1-ae62-ef4bdbd70311",
   "metadata": {},
   "outputs": [],
   "source": [
    "# Agrupa por categoria, soma o faturamento e formata como moeda para melhor leitura\n",
    "faturamento_categoria = df_vendas.groupby('Categoria')['Faturamento'].sum().sort_values(ascending = False)"
   ]
  },
  {
   "cell_type": "code",
   "execution_count": null,
   "id": "4cf006c6-05b0-4af3-a7bf-d4dfdb7f2300",
   "metadata": {},
   "outputs": [],
   "source": [
    "# O .map('{:,.2f}'.format) é opcional, mas deixa a visualização do número mais clara\n",
    "faturamento_categoria.map('R$ {:,.2f}'.format)"
   ]
  },
  {
   "cell_type": "code",
   "execution_count": null,
   "id": "7e198029-36f5-4c28-b7ef-9cc58474dfae",
   "metadata": {},
   "outputs": [],
   "source": [
    "# Importa a função FuncFormatter para formatar os eixos\n",
    "from matplotlib.ticker import FuncFormatter\n",
    "\n",
    "# Ordena os dados para o gráfico ficar mais fácil de ler\n",
    "faturamento_ordenado = faturamento_categoria.sort_values(ascending = False)\n",
    "\n",
    "# Cria a Figura e os Eixos (ax) com plt.subplots()\n",
    "# Isso nos dá mais controle sobre os elementos do gráfico.\n",
    "fig, ax = plt.subplots(figsize = (12, 7))\n",
    "\n",
    "# Cria uma função para formatar os números\n",
    "# Esta função recebe um valor 'y' e o transforma em uma string no formato 'R$ XX K'\n",
    "def formatador_milhares(y, pos):\n",
    "    \"\"\"Formata o valor em milhares (K) com o cifrão R$.\"\"\"\n",
    "    return f'R$ {y/1000:,.0f}K'\n",
    "\n",
    "# Cria o objeto formatador\n",
    "formatter = FuncFormatter(formatador_milhares)\n",
    "\n",
    "# Aplica o formatador ao eixo Y (ax.yaxis)\n",
    "ax.yaxis.set_major_formatter(formatter)\n",
    "\n",
    "# Plota os dados usando o objeto 'ax'\n",
    "faturamento_ordenado.plot(kind = 'bar', ax = ax, color = sns.color_palette(\"viridis\", len(faturamento_ordenado)))\n",
    "\n",
    "# Adiciona títulos e labels usando 'ax.set_...'\n",
    "ax.set_title('Faturamento Por Categoria', fontsize = 16)\n",
    "ax.set_xlabel('Categoria', fontsize = 12)\n",
    "ax.set_ylabel('Faturamento', fontsize = 12)\n",
    "\n",
    "# Ajusta a rotação dos rótulos do eixo X\n",
    "plt.xticks(rotation = 45, ha = 'right')\n",
    "\n",
    "# Garante que tudo fique bem ajustado na imagem final\n",
    "plt.tight_layout()\n",
    "\n",
    "# Exibe o gráfico\n",
    "plt.show()"
   ]
  },
  {
   "cell_type": "markdown",
   "id": "2ee710d1-b7fe-4eb4-be15-54dd65f79224",
   "metadata": {},
   "source": [
    "## 10. Conclusão e Entrega do Resultado\n",
    "\n",
    "Existem várias formas de entregar um projeto de análise de dados e a escolha depende do público, do contexto e dos objetivos. Três formas bastante utilizadas são:\n",
    "\n",
    "**10.1. Relatório técnico ou executivo (PDF, DOCX, etc.)**\n",
    "\n",
    "Essa forma é clássica e muito útil quando o público precisa de um documento formal para consulta. O relatório pode conter descrição da metodologia, exploração dos dados, gráficos, tabelas e conclusões. É comum separar a linguagem: uma versão mais técnica (com código, estatísticas detalhadas e testes) e outra mais executiva (com foco em insights, recomendações e storytelling de dados).\n",
    "\n",
    "**10.2. Dashboard interativo (Power BI, Tableau, Looker, Streamlit, Dash, etc.)**\n",
    "\n",
    "Um dashboard permite que os usuários explorem os dados por conta própria, filtrando informações, ajustando períodos de tempo ou focando em variáveis específicas. Essa forma de entrega é muito valorizada em ambientes corporativos, pois facilita a tomada de decisão contínua e não exige conhecimentos técnicos avançados dos usuários finais.\n",
    "\n",
    "**10.3. Apresentação (slides em PowerPoint, Google Slides, etc.)**\n",
    "\n",
    "Ideal para reuniões de stakeholders, a entrega em formato de apresentação resume os principais pontos do projeto. Ela foca nas descobertas mais relevantes, nas implicações para o negócio e nas recomendações práticas, usando gráficos e visualizações impactantes. A ideia é contar a história dos dados de forma clara e direta, evitando sobrecarregar o público com detalhes técnicos.\n",
    "\n",
    "Confira exemplos práticos em <a href=\"https://www.datascienceacademy.com.br/course/storytelling-dashboards-e-tecnicas-de-apresentacao-para-cientistas-de-dados\">Storytelling, Dashboards e Técnicas de Apresentação Para Cientistas de Dados</a>"
   ]
  },
  {
   "cell_type": "markdown",
   "id": "728d079f-01bd-4643-91de-af3b239d86aa",
   "metadata": {},
   "source": [
    "Se isto aqui é um Mini-Projeto, então o que é um projeto inteiro na DSA? Nas Formações e Programas de Pós-Graduação você vai descobrir. ;-)"
   ]
  },
  {
   "cell_type": "markdown",
   "id": "0e70e92c-24ab-4d41-8362-89841f80232f",
   "metadata": {},
   "source": [
    "# Fim"
   ]
  }
 ],
 "metadata": {
  "kernelspec": {
   "display_name": "Python 3 (ipykernel)",
   "language": "python",
   "name": "python3"
  },
  "language_info": {
   "codemirror_mode": {
    "name": "ipython",
    "version": 3
   },
   "file_extension": ".py",
   "mimetype": "text/x-python",
   "name": "python",
   "nbconvert_exporter": "python",
   "pygments_lexer": "ipython3",
   "version": "3.9.13"
  }
 },
 "nbformat": 4,
 "nbformat_minor": 5
}
