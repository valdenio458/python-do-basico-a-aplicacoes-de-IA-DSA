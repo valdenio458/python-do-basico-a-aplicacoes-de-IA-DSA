{
 "cells": [
  {
   "cell_type": "markdown",
   "id": "61d979b2-a85f-4d69-901e-b3bb69419a3e",
   "metadata": {},
   "source": [
    "<!-- Trabalho Desenvolvido na Data Science Academy - www.datascienceacademy.com.br -->\n",
    "# <font color='blue'>Data Science Academy</font>\n",
    "# <font color='blue'>Fundamentos de Linguagem Python - Do Básico a Aplicações de IA</font>\n",
    "# <font color='blue'>Lista 3 de Exercícios</font>"
   ]
  },
  {
   "cell_type": "markdown",
   "id": "86a423ef-e381-46a4-b776-2fee3c105e9a",
   "metadata": {},
   "source": [
    "Classificamos os 10 exercícios nas seguintes categorias:\n",
    "\n",
    "- (Nível Baby)\n",
    "- (Nível Aprendiz)\n",
    "- (Nível Iniciante)\n",
    "- (Nível Iniciante Plus)\n",
    "- (Nível Pro)\n",
    "- (Nível Master)\n",
    "- (Nível Ninja)\n",
    "- (Nível Ninja Pro Master)\n",
    "- (Nível Ninja Pro Master das Galáxias)\n",
    "- (Nível Ninja Pro Master das Galáxias Plus)\n",
    "\n",
    "Divirta-se. :-)"
   ]
  },
  {
   "cell_type": "code",
   "execution_count": null,
   "id": "8341d2d2-0282-4977-bdf7-9ec419466e79",
   "metadata": {},
   "outputs": [],
   "source": [
    "# Importa o NumPy\n",
    "import numpy as np"
   ]
  },
  {
   "cell_type": "markdown",
   "id": "54c9bece-4f86-49d3-8124-bd6708151629",
   "metadata": {},
   "source": [
    "#### Exercício 1: Selecionando uma Coluna Específica (Nível Baby)\n",
    "\n",
    "Dado a matriz 4x4 abaixo, crie um novo array contendo apenas os elementos da terceira coluna."
   ]
  },
  {
   "cell_type": "code",
   "execution_count": null,
   "id": "8cecadc0-c625-443d-ac88-2e03784dd911",
   "metadata": {},
   "outputs": [],
   "source": [
    "# Cria a matriz\n",
    "matriz = np.array([\n",
    "    [1, 2, 3, 4],\n",
    "    [5, 6, 7, 8],\n",
    "    [9, 10, 11, 12],\n",
    "    [13, 14, 15, 16]\n",
    "])"
   ]
  },
  {
   "cell_type": "code",
   "execution_count": null,
   "id": "3d133f46-c9d2-4059-b9aa-da86488da38d",
   "metadata": {},
   "outputs": [],
   "source": [
    "# Solução\n",
    "\n",
    "\n",
    "\n",
    "# Saída esperada: [ 3  7 11 15]"
   ]
  },
  {
   "cell_type": "markdown",
   "id": "34b2e086-ce07-4ad4-b93d-f50713ab1e2e",
   "metadata": {},
   "source": [
    "#### Exercício 2: Extraindo um Bloco (Submatriz) (Nível Aprendiz)\n",
    "\n",
    "A partir da mesma matriz do exercício 1, extraia o bloco central 2x2, que contém os números 6, 7, 10 e 11."
   ]
  },
  {
   "cell_type": "code",
   "execution_count": null,
   "id": "d9f8cb5b-202f-4f48-b819-0a1493d12c45",
   "metadata": {},
   "outputs": [],
   "source": [
    "# Solução\n",
    "\n",
    "\n",
    "\n",
    "# Saída esperada:\n",
    "# [[ 6  7]\n",
    "#  [10 11]]"
   ]
  },
  {
   "cell_type": "markdown",
   "id": "a37e769d-aee9-4827-b06a-4f0fe19f70a8",
   "metadata": {},
   "source": [
    "#### Exercício 3: Produto de Matrizes (Nível Iniciante)\n",
    "\n",
    "Dadas as duas matrizes A e B abaixo, calcule o produto matricial entre A e B."
   ]
  },
  {
   "cell_type": "code",
   "execution_count": null,
   "id": "b2016785-33e9-4fc7-8760-62a827fe50f1",
   "metadata": {},
   "outputs": [],
   "source": [
    "# Cria as matrizes\n",
    "A = np.array([[1, 2, 3], [4, 5, 6]])       # Matriz 2x3\n",
    "B = np.array([[7, 8], [9, 10], [11, 12]])  # Matriz 3x2"
   ]
  },
  {
   "cell_type": "code",
   "execution_count": null,
   "id": "c54c1074-56b8-4fce-9098-03783b14b803",
   "metadata": {},
   "outputs": [],
   "source": [
    "# Solução\n",
    "\n",
    "\n",
    "\n",
    "# Saída esperada:\n",
    "# [[ 58  64]\n",
    "#  [139 154]]"
   ]
  },
  {
   "cell_type": "markdown",
   "id": "7cb7e23e-60ca-4e1f-8f96-003c2d83dacb",
   "metadata": {},
   "source": [
    "#### Exercício 4: Selecionando Linhas Pares e Colunas Ímpares (Nível Iniciante Plus)\n",
    "\n",
    "Dada a matriz 9x9 abaixo, crie um novo array que contenha apenas os valores das linhas de índice par e as colunas de índice ímpar."
   ]
  },
  {
   "cell_type": "code",
   "execution_count": null,
   "id": "056ca49e-3cd2-40b8-a68b-b31cf8ee3a96",
   "metadata": {},
   "outputs": [],
   "source": [
    "# Cria a matriz\n",
    "matriz = np.arange(81).reshape(9, 9)"
   ]
  },
  {
   "cell_type": "code",
   "execution_count": null,
   "id": "ffabc808-267f-4cc8-99c5-0900b85042f4",
   "metadata": {},
   "outputs": [],
   "source": [
    "# Solução\n",
    "\n",
    "\n",
    "\n",
    "# Saída esperada:\n",
    "# [[ 1  3]\n",
    "#  [11 13]\n",
    "#  [21 23]]"
   ]
  },
  {
   "cell_type": "markdown",
   "id": "a9672d26-bd96-4dee-a4b7-5ca1ff2dabb1",
   "metadata": {},
   "source": [
    "#### Exercício 5: Somando Valor a Uma Submatriz (Nível Pro)\n",
    "\n",
    "Dada a matriz abaixo (preenchida com zeros) adicione o valor 5 apenas ao bloco central 2x2."
   ]
  },
  {
   "cell_type": "code",
   "execution_count": null,
   "id": "0958aefb-9df8-49ac-9f4f-603c1a7e72dd",
   "metadata": {},
   "outputs": [],
   "source": [
    "# Cria a matriz\n",
    "matriz = np.zeros((4, 4), dtype = int)"
   ]
  },
  {
   "cell_type": "code",
   "execution_count": null,
   "id": "85c55211-b149-4973-9db8-738c692031c3",
   "metadata": {},
   "outputs": [],
   "source": [
    "# Solução\n",
    "\n",
    "\n",
    "\n",
    "# Saída esperada:\n",
    "# [[0 0 0 0]\n",
    "#  [0 5 5 0]\n",
    "#  [0 5 5 0]\n",
    "#  [0 0 0 0]]"
   ]
  },
  {
   "cell_type": "markdown",
   "id": "348e50cf-723b-469c-82f5-b90f55958c81",
   "metadata": {},
   "source": [
    "#### Exercício 6: Normalização de Uma Matriz (Nível Master)\n",
    "\n",
    "Normalize a matriz abaixo. \n",
    "\n",
    "A normalização (Z-score) é feita subtraindo a média de todos os elementos de cada elemento e, em seguida, dividindo pelo desvio padrão. \n",
    "\n",
    "Fórmula: (X - media) / desvio_padrao."
   ]
  },
  {
   "cell_type": "code",
   "execution_count": null,
   "id": "4ad45955-b0e1-43e9-bec3-ef2481906d0d",
   "metadata": {},
   "outputs": [],
   "source": [
    "# Cria a matriz\n",
    "matriz = np.array([[10, 20, 30], [40, 50, 60], [70, 80, 90]])"
   ]
  },
  {
   "cell_type": "code",
   "execution_count": null,
   "id": "8a7529f2-98b7-465f-8e1c-b890bdc96be0",
   "metadata": {},
   "outputs": [],
   "source": [
    "# Solução\n",
    "\n"
   ]
  },
  {
   "cell_type": "markdown",
   "id": "d23718eb-52ff-46c4-b2b0-f3551e6255d7",
   "metadata": {},
   "source": [
    "#### Exercício 7: Substituindo Valores com Base em Uma Condição (Nível Ninja)\n",
    "\n",
    "Dada a matriz abaixo, crie uma nova matriz onde todos os números maiores que 8 sejam substituídos pelo valor -1. Crie uma cópia da matriz antes de fazer a operação."
   ]
  },
  {
   "cell_type": "code",
   "execution_count": null,
   "id": "eacc6dda-fd85-4a78-8b85-00bfb1a43ea9",
   "metadata": {},
   "outputs": [],
   "source": [
    "# Cria a matriz\n",
    "dados = np.arange(16).reshape(4, 4)"
   ]
  },
  {
   "cell_type": "code",
   "execution_count": null,
   "id": "232ca993-1489-4672-9ee7-af32d782e533",
   "metadata": {},
   "outputs": [],
   "source": [
    "# Solução\n",
    "\n",
    "\n",
    "\n",
    "# Saída esperada:\n",
    "# [[ 0  1  2  3]\n",
    "#  [ 4  5  6  7]\n",
    "#  [ 8 -1 -1 -1]\n",
    "#  [-1 -1 -1 -1]]"
   ]
  },
  {
   "cell_type": "markdown",
   "id": "2e5f2d67-c1c7-4f4c-938f-c64acb34e3d9",
   "metadata": {},
   "source": [
    "#### Exercício 8: Inversa de Uma Matriz (Nível Ninja Pro Master)\n",
    "\n",
    "Calcule a matriz inversa da matriz A. Depois, verifique seu trabalho calculando o produto de A pela sua inversa (o resultado deve ser a matriz identidade).\n",
    "\n",
    "A matriz inversa de uma matriz quadrada A é outra matriz, chamada A⁻¹, que quando multiplicada por A resulta na matriz identidade (uma matriz que tem 1 na diagonal principal e 0 nos outros elementos). Em outras palavras, A × A⁻¹ = I. A inversa só existe para matrizes quadradas que não sejam singulares, ou seja, que tenham determinante diferente de zero. Ela é usada para resolver sistemas lineares, desfazer transformações e em várias aplicações de álgebra linear."
   ]
  },
  {
   "cell_type": "code",
   "execution_count": null,
   "id": "c2e59fcd-f418-430b-9298-0a8bd7ec9e7c",
   "metadata": {},
   "outputs": [],
   "source": [
    "# Cria a matriz\n",
    "A = np.array([[4, 7], [2, 6]])"
   ]
  },
  {
   "cell_type": "code",
   "execution_count": null,
   "id": "da69715c-eaee-4f58-947f-1a86bcde93c3",
   "metadata": {},
   "outputs": [],
   "source": [
    "# Solução\n",
    "\n"
   ]
  },
  {
   "cell_type": "markdown",
   "id": "1d18c6eb-6025-4ea9-a971-0d73b496efbd",
   "metadata": {},
   "source": [
    "#### Exercício 9: Resolvendo Um Sistema de Equações Lineares (Nível Ninja Pro Master das Galáxias)\n",
    "<!-- Trabalho Desenvolvido na Data Science Academy - www.datascienceacademy.com.br -->\n",
    "Resolva o seguinte sistema de equações lineares:\n",
    "\n",
    "2x + y = 8\n",
    "\n",
    "x + 3y = 7\n",
    "\n",
    "Represente o sistema na forma matricial Ax = b e encontre o vetor x (que contém os valores de x e y)."
   ]
  },
  {
   "cell_type": "code",
   "execution_count": null,
   "id": "69ce8080-9d78-40e9-be3b-d6ed21c44c40",
   "metadata": {},
   "outputs": [],
   "source": [
    "# Solução\n",
    "\n",
    "\n",
    "\n",
    "# Saída esperada: [3.4 1.2]"
   ]
  },
  {
   "cell_type": "markdown",
   "id": "d0b05e07-1b99-4f71-b0fa-39d28fc79337",
   "metadata": {},
   "source": [
    "#### Exercício 10: Extraindo a Borda de Uma Matriz (Nível Ninja Pro Master das Galáxias Plus)\n",
    "\n",
    "Dada uma matriz 5x5, crie um novo array 1D contendo todos os elementos da borda da matriz, em sentido horário, começando pelo canto superior esquerdo."
   ]
  },
  {
   "cell_type": "code",
   "execution_count": null,
   "id": "b184a3ef-ddcd-400c-91e8-5456569dd72b",
   "metadata": {},
   "outputs": [],
   "source": [
    "# Cria a matriz\n",
    "matriz = np.arange(25).reshape(5, 5)"
   ]
  },
  {
   "cell_type": "code",
   "execution_count": null,
   "id": "684b4f01-3036-4acf-9e20-b67822107120",
   "metadata": {},
   "outputs": [],
   "source": [
    "# Solução\n",
    "\n",
    "\n",
    "\n",
    "# Saída esperada: [ 0  1  2  3  4  9 14 19 24 23 22 21 20 15 10  5]"
   ]
  },
  {
   "cell_type": "markdown",
   "id": "800eb189-a900-4307-a31c-910e5bb1e6c9",
   "metadata": {},
   "source": [
    "# Fim"
   ]
  }
 ],
 "metadata": {
  "kernelspec": {
   "display_name": "Python [conda env:base] *",
   "language": "python",
   "name": "conda-base-py"
  },
  "language_info": {
   "codemirror_mode": {
    "name": "ipython",
    "version": 3
   },
   "file_extension": ".py",
   "mimetype": "text/x-python",
   "name": "python",
   "nbconvert_exporter": "python",
   "pygments_lexer": "ipython3",
   "version": "3.13.5"
  }
 },
 "nbformat": 4,
 "nbformat_minor": 5
}
