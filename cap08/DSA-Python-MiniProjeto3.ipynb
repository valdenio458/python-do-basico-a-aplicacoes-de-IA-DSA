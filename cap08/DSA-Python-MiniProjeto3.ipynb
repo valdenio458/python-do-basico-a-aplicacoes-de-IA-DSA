{
 "cells": [
  {
   "cell_type": "markdown",
   "id": "72ac70f6-5840-4649-94a9-0b589eede30c",
   "metadata": {},
   "source": [
    "<!-- Trabalho Desenvolvido no Curso da Data Science Academy - www.datascienceacademy.com.br -->\n",
    "# <font color='blue'>Data Science Academy</font>\n",
    "# <font color='blue'>Fundamentos de Linguagem Python - Do Básico a Aplicações de IA</font>\n",
    "# <font color='blue'>Mini-Projeto 3</font>\n",
    "# <font color='blue'>Análise Estatística de Dados com NumPy Para a Área de Marketing</font>"
   ]
  },
  {
   "cell_type": "markdown",
   "id": "5b4d422e-b7aa-43af-a208-9ebf01c60e9f",
   "metadata": {},
   "source": [
    "## 1. Definição do Problema de Negócio"
   ]
  },
  {
   "cell_type": "markdown",
   "id": "48ece6a5-d10f-4ce3-a7e1-9d920762762f",
   "metadata": {},
   "source": [
    "### 1.1. Contexto\n",
    "\n",
    "Uma plataforma de e-commerce coleta um volume significativo de dados sobre a interação dos usuários com o site, incluindo o número de visitas, a duração da sessão, a atividade de adição de produtos ao carrinho e os valores de compra finalizados. No entanto, esses dados estão sendo subutilizados. Atualmente, as decisões sobre campanhas de marketing, promoções e melhorias na experiência do usuário (UX) são tomadas com base em intuição e métricas de alto nível, sem uma compreensão aprofundada dos padrões de comportamento que impulsionam os resultados.\n",
    "\n",
    "### 1.2. Problema de Negócio\n",
    "\n",
    "A empresa enfrenta o desafio de compreender profundamente os padrões de comportamento que diferenciam os clientes de alto valor dos visitantes que abandonam o site sem comprar. Essa falta de clareza resulta em:\n",
    "\n",
    "- Marketing Genérico: Nossas campanhas de marketing são de \"tamanho único\", resultando em baixo engajamento e desperdício de orçamento, pois não conseguimos personalizar as ofertas para os segmentos de clientes corretos.\n",
    "\n",
    "- Perda de Oportunidades: Não conseguimos identificar e engajar proativamente os clientes com maior potencial de compra ou criar estratégias para converter os visitantes que demonstram interesse, mas não finalizam a compra.\n",
    "\n",
    "- Decisões Não Embasadas: As estratégias de produto e de experiência do usuário carecem de uma base quantitativa sólida sobre quais comportamentos (ex: tempo no site, frequência de visitas) estão mais fortemente correlacionados com o sucesso das vendas.\n",
    "\n",
    "### 1.3. Objetivo Principal\n",
    "\n",
    "Utilizar a análise estatística dos dados de navegação e compra para segmentar clientes, identificar os principais indicadores de comportamento que levam à conversão e fornecer insights acionáveis para as equipes de marketing e produto, a fim de aumentar o ticket médio e a taxa de conversão geral da plataforma.\n",
    "\n",
    "### 1.4. Perguntas-Chave a Serem Respondidas\n",
    "\n",
    "A análise de dados deve responder às seguintes perguntas críticas de negócio:\n",
    "\n",
    "- 1- Qual é o perfil médio do nosso usuário em termos de visitas, tempo de navegação e valor de compra (ticket médio)?\n",
    "\n",
    "- 2- Quais são as características e comportamentos distintos dos nossos clientes de \"Alto Valor\"? Eles visitam mais o site? Passam mais tempo navegando?\n",
    "\n",
    "- 3- Qual é o comportamento dos usuários que visitam o site, mas não realizam nenhuma compra? Onde está a oportunidade de conversão com este grupo?\n",
    "\n",
    "- 4- Existe uma correlação estatisticamente relevante entre o tempo gasto no site, o número de itens no carrinho e o valor final da compra?\n",
    "\n",
    "### 1.5. Resultado Esperado e Impacto no Negócio\n",
    "\n",
    "O resultado deste projeto será um relatório de análise estatística que permitirá:\n",
    "\n",
    "- Segmentação Aprimorada: Criação de pelo menos dois segmentos de clientes (ex: \"Clientes de Alto Valor\" e \"Visitantes Engajados sem Compra\") para direcionamento de campanhas de marketing personalizadas.\n",
    "\n",
    "- Otimização de Marketing: Direcionar o orçamento de marketing para ações focadas nos comportamentos que mais se correlacionam com compras de alto valor, aumentando o Retorno Sobre o Investimento (ROI).\n",
    "\n",
    "- Melhoria da Experiência do Usuário (UX): Fornecer à equipe de produto dados que possam justificar testes A/B ou melhorias em áreas do site frequentadas por usuários que não convertem."
   ]
  },
  {
   "cell_type": "markdown",
   "id": "40bea8d1-2067-481a-8544-b61f47524e6b",
   "metadata": {},
   "source": [
    "## 2. Importação das Bibliotecas"
   ]
  },
  {
   "cell_type": "code",
   "execution_count": 1,
   "id": "e23e9095-119c-47ae-8ed8-1c093b0e85de",
   "metadata": {},
   "outputs": [],
   "source": [
    "# Instala o pacote watermark\n",
    "!pip install -q -U watermark"
   ]
  },
  {
   "cell_type": "code",
   "execution_count": 2,
   "id": "1e09345b-865f-4ebb-85a8-d923f05ecaf4",
   "metadata": {},
   "outputs": [],
   "source": [
    "# Instalando o NumPy\n",
    "!pip install -q numpy==2.3.2"
   ]
  },
  {
   "cell_type": "code",
   "execution_count": 3,
   "id": "405d1ef6-6c37-4943-9898-b366d817f7c0",
   "metadata": {},
   "outputs": [],
   "source": [
    "# Importando a biblioteca NumPy\n",
    "import numpy as np"
   ]
  },
  {
   "cell_type": "code",
   "execution_count": 4,
   "id": "ea114251-86f1-4615-b5c1-b7d6841bf3d4",
   "metadata": {},
   "outputs": [],
   "source": [
    "# Outros Imports\n",
    "import pandas as pd\n",
    "import seaborn as sns\n",
    "import matplotlib.pyplot as plt"
   ]
  },
  {
   "cell_type": "code",
   "execution_count": 5,
   "id": "cc6e12d0-41a4-4f43-8ebe-6b7cf91e374a",
   "metadata": {},
   "outputs": [],
   "source": [
    "# Definir uma semente para reprodutibilidade dos resultados\n",
    "np.random.seed(42)"
   ]
  },
  {
   "cell_type": "code",
   "execution_count": 6,
   "id": "ed3d1810-38f4-4b6e-913c-90e2eca5630b",
   "metadata": {},
   "outputs": [
    {
     "name": "stdout",
     "output_type": "stream",
     "text": [
      "Author: Data Science Academy\n",
      "\n"
     ]
    }
   ],
   "source": [
    "%reload_ext watermark\n",
    "%watermark -a \"Data Science Academy\""
   ]
  },
  {
   "cell_type": "code",
   "execution_count": 7,
   "id": "62932c7b-c0f7-4ddb-b856-e599e9484b5b",
   "metadata": {},
   "outputs": [
    {
     "name": "stdout",
     "output_type": "stream",
     "text": [
      "pandas    : 2.3.1\n",
      "matplotlib: 3.10.0\n",
      "numpy     : 2.3.2\n",
      "seaborn   : 0.13.2\n",
      "\n"
     ]
    }
   ],
   "source": [
    "%watermark --iversions"
   ]
  },
  {
   "cell_type": "markdown",
   "id": "65827109-f8e5-4e68-9239-ccea42a48a7c",
   "metadata": {},
   "source": [
    "## 3. Função Para Geração de Dados Fictícios\n",
    "\n",
    "Vamos criar um conjunto de dados para 500 usuários. Cada usuário terá 4 métricas associadas descritas abaixo.\n",
    "\n",
    "- visitas: Número de vezes que o usuário visitou o site no mês.\n",
    "\n",
    "- tempo_no_site: Tempo total em minutos que o usuário passou no site.\n",
    "\n",
    "- itens_no_carrinho: Número de itens que o usuário adicionou ao carrinho.\n",
    "\n",
    "- valor_compra: O valor total em R$ da compra realizada pelo usuário no mês."
   ]
  },
  {
   "cell_type": "code",
   "execution_count": 8,
   "id": "5dbb6167-e4f1-42c4-9f55-1433ff6e5fda",
   "metadata": {},
   "outputs": [],
   "source": [
    "# Definir o número de usuários\n",
    "num_usuarios = 500"
   ]
  },
  {
   "cell_type": "code",
   "execution_count": 9,
   "id": "50441800-17dc-45fd-ae90-bcc3693b8a31",
   "metadata": {},
   "outputs": [],
   "source": [
    "# 1. Gerar o número de visitas (entre 1 e 50)\n",
    "visitas = np.random.randint(1, 51, size = num_usuarios)"
   ]
  },
  {
   "cell_type": "markdown",
   "id": "0b629735-be2a-4f1c-b271-6a62f86f9b04",
   "metadata": {},
   "source": [
    "A distribuição normal é um tipo de distribuição de probabilidade contínua, simétrica em torno da média, com formato característico de sino. Nesse tipo de distribuição os valores próximos da média são mais frequentes e a probabilidade de observar valores extremos diminui gradualmente conforme se afastam do centro. É definida por dois parâmetros: a média (que indica o centro da distribuição) e o desvio padrão (que indica a dispersão dos dados). É muito usada em Estatística e Ciência de Dados porque muitos fenômenos naturais e sociais tendem a seguir esse padrão."
   ]
  },
  {
   "cell_type": "code",
   "execution_count": 10,
   "id": "2572a616-bb95-4716-bddb-0e7583b1adef",
   "metadata": {},
   "outputs": [],
   "source": [
    "# 2. Gerar o tempo no site (distribuição normal, correlacionado com as visitas)\n",
    "# Média de 20 min, desvio padrão de 5, com um bônus por visita\n",
    "tempo_no_site = np.random.normal(loc = 20, scale = 5, size = num_usuarios) + (visitas * 0.5)\n",
    "tempo_no_site = np.round(tempo_no_site, 2) # Arredondar para 2 casas decimais"
   ]
  },
  {
   "cell_type": "code",
   "execution_count": 11,
   "id": "c8aa2c2c-4317-4424-ad83-68a3dfdc92c9",
   "metadata": {},
   "outputs": [],
   "source": [
    "# 3. Gerar o número de itens no carrinho (dependente das visitas e do tempo)\n",
    "# Usuários que visitam mais e passam mais tempo, tendem a adicionar mais itens\n",
    "itens_no_carrinho = np.random.randint(0, 8, size = num_usuarios) + (visitas // 10)"
   ]
  },
  {
   "cell_type": "code",
   "execution_count": 12,
   "id": "c823261f-819c-4d96-ab36-a94177e22f4d",
   "metadata": {},
   "outputs": [],
   "source": [
    "# Garante que o tempo no site também influencie positivamente\n",
    "itens_no_carrinho = (itens_no_carrinho + (tempo_no_site // 15)).astype(int)"
   ]
  },
  {
   "cell_type": "code",
   "execution_count": 13,
   "id": "589debc5-d03e-470f-84d6-c795176b7c14",
   "metadata": {},
   "outputs": [],
   "source": [
    "# 4. Gerar o valor da compra (correlacionado com os itens no carrinho)\n",
    "# Preço médio por item de R$ 35, com alguma variação aleatória\n",
    "valor_compra = (itens_no_carrinho * 35) + np.random.normal(loc = 0, scale = 10, size = num_usuarios)"
   ]
  },
  {
   "cell_type": "code",
   "execution_count": 14,
   "id": "9e22633a-33e0-491a-a46a-85ca53529986",
   "metadata": {},
   "outputs": [
    {
     "data": {
      "text/plain": [
       "numpy.ndarray"
      ]
     },
     "execution_count": 14,
     "metadata": {},
     "output_type": "execute_result"
    }
   ],
   "source": [
    "type(valor_compra)"
   ]
  },
  {
   "cell_type": "code",
   "execution_count": 15,
   "id": "884b8b76-8c48-4e49-a63a-31e386bb9419",
   "metadata": {},
   "outputs": [
    {
     "data": {
      "text/plain": [
       "numpy.ndarray"
      ]
     },
     "execution_count": 15,
     "metadata": {},
     "output_type": "execute_result"
    }
   ],
   "source": [
    "type(itens_no_carrinho)"
   ]
  },
  {
   "cell_type": "code",
   "execution_count": 16,
   "id": "fa0cfbc4-2fac-4371-80ac-c567f046d272",
   "metadata": {},
   "outputs": [],
   "source": [
    "# Se não houver itens no carrinho, o valor da compra deve ser 0\n",
    "valor_compra[itens_no_carrinho == 0] = 0\n",
    "valor_compra[valor_compra < 0] = 0 # Corrigir valores negativos que possam surgir\n",
    "valor_compra = np.round(valor_compra, 2)"
   ]
  },
  {
   "cell_type": "code",
   "execution_count": 17,
   "id": "c5de723a-bfee-4d85-91ac-19a0e5f042f6",
   "metadata": {},
   "outputs": [],
   "source": [
    "# Unindo tudo em uma única matriz (ndarray)\n",
    "# Cada linha representa um usuário, cada coluna uma métrica\n",
    "dados_ecommerce = np.column_stack((visitas, tempo_no_site, itens_no_carrinho, valor_compra))"
   ]
  },
  {
   "cell_type": "code",
   "execution_count": 18,
   "id": "5b7f8f03-d55a-44b5-a1d4-d19b36410a3c",
   "metadata": {},
   "outputs": [
    {
     "name": "stdout",
     "output_type": "stream",
     "text": [
      "\n",
      "Shape da nossa massa de dados: (500, 4)\n",
      "\n",
      "Exemplo dos 5 primeiros usuários (linhas):\n",
      "\n",
      "Colunas: [Visitas, Tempo no Site (min), Itens no Carrinho, Valor da Compra (R$)]\n",
      "\n",
      "[[ 39.    23.29   9.   314.54]\n",
      " [ 29.    29.38   5.   177.43]\n",
      " [ 15.    26.24   6.   207.59]\n",
      " [ 43.    35.26   8.   283.52]\n",
      " [  8.    32.16   3.    92.48]]\n"
     ]
    }
   ],
   "source": [
    "print(\"\\nShape da nossa massa de dados:\", dados_ecommerce.shape)\n",
    "print(\"\\nExemplo dos 5 primeiros usuários (linhas):\")\n",
    "print(\"\\nColunas: [Visitas, Tempo no Site (min), Itens no Carrinho, Valor da Compra (R$)]\\n\")\n",
    "print(dados_ecommerce[:5])"
   ]
  },
  {
   "cell_type": "markdown",
   "id": "19d94d63-5ec6-482b-8e0d-1ff2ab2332c3",
   "metadata": {},
   "source": [
    "## 4. Análise Estatística Descritiva\n",
    "\n",
    "Agora que temos os dados, vamos calcular as principais métricas estatísticas para cada coluna para ter uma visão geral do comportamento dos nossos usuários.\n",
    "\n",
    "- A média é a soma de todos os valores dividida pela quantidade de elementos. Ela indica o valor “central” ou típico de um conjunto de dados.\n",
    "\n",
    "- A mediana é o valor que fica exatamente no meio quando os dados estão ordenados. Se houver um número par de valores, é a média dos dois valores centrais. Ela é menos sensível a valores muito extremos do que a média.\n",
    "\n",
    "- O desvio padrão mede o quanto os valores se afastam, em média, da média do conjunto. Um desvio padrão alto significa que os dados são mais espalhados; um baixo indica que estão mais próximos da média.\n",
    "\n",
    "### Pergunta 1\n",
    "\n",
    "Qual é o perfil médio do nosso usuário em termos de visitas, tempo de navegação e valor de compra (ticket médio)?"
   ]
  },
  {
   "cell_type": "code",
   "execution_count": 19,
   "id": "db7773a7-6474-466d-8178-4328530901a9",
   "metadata": {},
   "outputs": [
    {
     "name": "stdout",
     "output_type": "stream",
     "text": [
      "--- ANÁLISE ESTATÍSTICA GERAL ---\n",
      "\n",
      "Média de Visitas: 25.86\n",
      "Média de Tempo no Site: 32.78 min\n",
      "Média de Itens no Carrinho: 7.20\n",
      "Média de Valor de Compra (Ticket Médio): R$ 252.70\n",
      "\n",
      "Mediana do Valor de Compra: R$ 248.13\n",
      "Desvio Padrão do Valor de Compra: R$ 106.94\n",
      "Maior Valor de Compra: R$ 530.37\n",
      "Menor Valor de Compra (de quem comprou): R$ 23.42\n"
     ]
    }
   ],
   "source": [
    "# Separando as colunas para facilitar a leitura do código\n",
    "visitas_col = dados_ecommerce[:, 0]\n",
    "tempo_col   = dados_ecommerce[:, 1]\n",
    "itens_col   = dados_ecommerce[:, 2]\n",
    "valor_col   = dados_ecommerce[:, 3]\n",
    "\n",
    "print(\"--- ANÁLISE ESTATÍSTICA GERAL ---\")\n",
    "\n",
    "# Média\n",
    "media_visitas = np.mean(visitas_col)\n",
    "media_tempo   = np.mean(tempo_col)\n",
    "media_itens   = np.mean(itens_col)\n",
    "media_valor   = np.mean(valor_col)\n",
    "\n",
    "print(f\"\\nMédia de Visitas: {media_visitas:.2f}\")\n",
    "print(f\"Média de Tempo no Site: {media_tempo:.2f} min\")\n",
    "print(f\"Média de Itens no Carrinho: {media_itens:.2f}\")\n",
    "print(f\"Média de Valor de Compra (Ticket Médio): R$ {media_valor:.2f}\")\n",
    "\n",
    "# Mediana (valor central, menos sensível a outliers)\n",
    "mediana_valor = np.median(valor_col)\n",
    "print(f\"\\nMediana do Valor de Compra: R$ {mediana_valor:.2f}\")\n",
    "\n",
    "# Desvio Padrão (mede a dispersão dos dados)\n",
    "std_valor = np.std(valor_col)\n",
    "print(f\"Desvio Padrão do Valor de Compra: R$ {std_valor:.2f}\")\n",
    "\n",
    "# Valores Máximos e Mínimos\n",
    "max_valor = np.max(valor_col)\n",
    "min_valor_positivo = np.min(valor_col[valor_col > 0]) # Mínimo apenas entre quem comprou\n",
    "print(f\"Maior Valor de Compra: R$ {max_valor:.2f}\")\n",
    "print(f\"Menor Valor de Compra (de quem comprou): R$ {min_valor_positivo:.2f}\")"
   ]
  },
  {
   "cell_type": "markdown",
   "id": "41c131d9-5ba8-46c1-b758-93b4ba729ed0",
   "metadata": {},
   "source": [
    "Este gráfico abaixo mostra o histograma dos valores de compra com linhas verticais indicando a média (vermelho), a mediana (laranja) e o intervalo de um desvio padrão acima e abaixo da média (linhas verdes). Isso facilita a análise de como os dados estão distribuídos e se existem possíveis outliers ou assimetrias."
   ]
  },
  {
   "cell_type": "code",
   "execution_count": 20,
   "id": "d6742e27-4375-4392-9e11-ef6b587735ba",
   "metadata": {},
   "outputs": [
    {
     "data": {
      "image/png": "[encoded data removed]",
      "text/plain": [
       "<Figure size 1200x500 with 1 Axes>"
      ]
     },
     "metadata": {},
     "output_type": "display_data"
    }
   ],
   "source": [
    "# Separando colunas\n",
    "visitas_col = dados_ecommerce[:, 0]\n",
    "tempo_col   = dados_ecommerce[:, 1]\n",
    "itens_col   = dados_ecommerce[:, 2]\n",
    "valor_col   = dados_ecommerce[:, 3]\n",
    "\n",
    "# Calculando as Estatísticas\n",
    "media_valor = np.mean(valor_col)\n",
    "mediana_valor = np.median(valor_col)\n",
    "std_valor = np.std(valor_col)\n",
    "\n",
    "# --- GRÁFICO ---\n",
    "plt.figure(figsize = (12, 5))\n",
    "plt.hist(valor_col, bins = 30, color = 'skyblue', edgecolor = 'black', alpha = 0.7)\n",
    "plt.axvline(media_valor, color = 'red', linestyle = '--', linewidth = 2, label = f'Média = R$ {media_valor:.2f}')\n",
    "plt.axvline(mediana_valor, color = 'orange', linestyle = '--', linewidth = 2, label = f'Mediana = R$ {mediana_valor:.2f}')\n",
    "plt.axvline(media_valor + std_valor, color = 'green', linestyle = ':', linewidth = 2, label = f'+1 DP = R$ {media_valor + std_valor:.2f}')\n",
    "plt.axvline(media_valor - std_valor, color = 'green', linestyle = ':', linewidth = 2, label = f'-1 DP = R$ {media_valor - std_valor:.2f}')\n",
    "plt.title('Distribuição dos Valores de Compra')\n",
    "plt.xlabel('Valor da Compra (R$)')\n",
    "plt.ylabel('Frequência')\n",
    "plt.legend()\n",
    "plt.grid(alpha = 0.3)\n",
    "plt.show()"
   ]
  },
  {
   "cell_type": "markdown",
   "id": "12d34fc9-8532-48a0-a403-7807826bc91e",
   "metadata": {},
   "source": [
    "**Resposta da Pergunta 1:**\n",
    "\n",
    "O usuário acessa o site, em média, cerca de 26 vezes por mês, permanece em média 33 minutos navegando, adiciona aproximadamente 7 itens ao carrinho e realiza compras com ticket médio de R$ 252,70. \n",
    "\n",
    "O gasto típico fica próximo da mediana de R$ 248,13.\n",
    "\n",
    "Mas há grande variação entre clientes, alguns compram valores baixos a partir de R$ 23,42. \n",
    "\n",
    "Enquanto outros chegam a gastar até R$ 530,37."
   ]
  },
  {
   "cell_type": "markdown",
   "id": "bf24e765-b994-4552-bee6-49d9332a5813",
   "metadata": {},
   "source": [
    "## 5. Segmentação e Análise de Clientes\n",
    "\n",
    "Vamos usar a indexação booleana para filtrar e analisar segmentos específicos de clientes."
   ]
  },
  {
   "cell_type": "markdown",
   "id": "a3c98f06-99f9-4a0d-891f-868f907b398d",
   "metadata": {},
   "source": [
    "### Pergunta 2\n",
    "\n",
    "Quais são as características e comportamentos distintos dos nossos clientes de \"Alto Valor\"? Eles visitam mais o site? Passam mais tempo navegando?"
   ]
  },
  {
   "cell_type": "code",
   "execution_count": 21,
   "id": "d144146e-42a8-4eed-8446-0b4f6137d14f",
   "metadata": {},
   "outputs": [
    {
     "name": "stdout",
     "output_type": "stream",
     "text": [
      "\n",
      "--- ANÁLISE: CLIENTES DE ALTO VALOR (Compras > R$ 250) ---\n",
      "\n",
      "Número de clientes de alto valor: 245\n",
      "Média de visitas desses clientes: 33.29\n",
      "Média de tempo no site desses clientes: 37.11 min\n"
     ]
    }
   ],
   "source": [
    "# Filtro booleano para clientes com compras > R$ 250\n",
    "clientes_alto_valor = dados_ecommerce[dados_ecommerce[:, 3] > 250]\n",
    "\n",
    "print(\"\\n--- ANÁLISE: CLIENTES DE ALTO VALOR (Compras > R$ 250) ---\\n\")\n",
    "print(f\"Número de clientes de alto valor: {clientes_alto_valor.shape[0]}\")\n",
    "\n",
    "# Estatísticas deste segmento\n",
    "media_visitas_alto_valor = np.mean(clientes_alto_valor[:, 0])\n",
    "media_tempo_alto_valor = np.mean(clientes_alto_valor[:, 1])\n",
    "\n",
    "print(f\"Média de visitas desses clientes: {media_visitas_alto_valor:.2f}\")\n",
    "print(f\"Média de tempo no site desses clientes: {media_tempo_alto_valor:.2f} min\")"
   ]
  },
  {
   "cell_type": "markdown",
   "id": "b6abad21-9ef2-412d-bbb2-1bd987be2abd",
   "metadata": {},
   "source": [
    "**Resposta da Pergunta 2:**\n",
    "\n",
    "Os clientes de alto valor (aqueles que gastam mais de R$ 250) visitam o site com maior frequência, em média 33 vezes por mês, e permanecem mais tempo navegando, cerca de 37 minutos por sessão. Esse comportamento indica um alto nível de engajamento, sugerindo que quanto mais esses usuários interagem com a plataforma, maior tende a ser o valor de suas compras."
   ]
  },
  {
   "cell_type": "markdown",
   "id": "799a0161-bbfa-4429-857f-ad2d92cc6c7d",
   "metadata": {},
   "source": [
    "### Pergunta 3\n",
    "\n",
    "Qual é o comportamento dos usuários que visitam o site, mas não realizam nenhuma compra? Onde está a oportunidade de conversão com este grupo?"
   ]
  },
  {
   "cell_type": "code",
   "execution_count": 22,
   "id": "2cf2791d-37be-4339-9638-ab8c9686f74a",
   "metadata": {},
   "outputs": [
    {
     "name": "stdout",
     "output_type": "stream",
     "text": [
      "\n",
      "--- ANÁLISE: VISITANTES QUE NÃO COMPRAM ---\n",
      "\n",
      "Número de visitantes que não compraram: 1\n",
      "Média de visitas desses visitantes: 7.00\n",
      "Apesar de não comprarem, eles passam em média 14.71 min no site.\n"
     ]
    }
   ],
   "source": [
    "# Filtro para visitantes que não compraram\n",
    "visitantes_sem_compra = dados_ecommerce[dados_ecommerce[:, 3] == 0]\n",
    "\n",
    "print(\"\\n--- ANÁLISE: VISITANTES QUE NÃO COMPRAM ---\\n\")\n",
    "print(f\"Número de visitantes que não compraram: {visitantes_sem_compra.shape[0]}\")\n",
    "\n",
    "# Estatísticas deste segmento\n",
    "media_tempo_sem_compra = np.mean(visitantes_sem_compra[:, 1])\n",
    "media_visitas_sem_compra = np.mean(visitantes_sem_compra[:, 0])\n",
    "\n",
    "print(f\"Média de visitas desses visitantes: {media_visitas_sem_compra:.2f}\")\n",
    "print(f\"Apesar de não comprarem, eles passam em média {media_tempo_sem_compra:.2f} min no site.\")"
   ]
  },
  {
   "cell_type": "markdown",
   "id": "4ea2be6c-2b13-4357-9ae4-4faecd2d1a50",
   "metadata": {},
   "source": [
    "**Resposta da Pergunta 3:**\n",
    "\n",
    "Os usuários que não realizam compras visitam o site em média 7 vezes e permanecem cerca de 15 minutos navegando, mas não finalizam nenhuma transação. Esse comportamento mostra que, mesmo com algum nível de interesse, eles acabam desistindo antes da compra, representando uma oportunidade para ações de remarketing, otimização do checkout e estratégias de incentivo, como descontos ou frete grátis, para aumentar a conversão."
   ]
  },
  {
   "cell_type": "markdown",
   "id": "9c10dd13-fae2-4862-b15f-64b3cacaa45d",
   "metadata": {},
   "source": [
    "## Análise de Correlação\n",
    "\n",
    "Vamos investigar a relação entre as diferentes variáveis. Uma matriz de correlação nos mostra como as variáveis se movem juntas.\n",
    "\n",
    "- +1: Correlação positiva perfeita\n",
    "- -1: Correlação negativa perfeita\n",
    "- 0: Nenhuma correlação linear\n",
    "\n",
    "### Pergunta 4\n",
    "\n",
    "Existe uma correlação estatisticamente relevante entre o tempo gasto no site, o número de itens no carrinho e o valor final da compra?"
   ]
  },
  {
   "cell_type": "code",
   "execution_count": 23,
   "id": "0c7e756c-b956-4e75-91e4-17877498fb7a",
   "metadata": {},
   "outputs": [
    {
     "name": "stdout",
     "output_type": "stream",
     "text": [
      "\n",
      "--- MATRIZ DE CORRELAÇÃO ---\n",
      "\n",
      "[Visitas, Tempo, Itens, Valor]\n",
      "\n",
      "[[1.   0.83 0.65 0.65]\n",
      " [0.83 1.   0.6  0.59]\n",
      " [0.65 0.6  1.   1.  ]\n",
      " [0.65 0.59 1.   1.  ]]\n"
     ]
    }
   ],
   "source": [
    "# A função np.corrcoef calcula a matriz de correlação\n",
    "# rowvar=False indica que as colunas são as variáveis\n",
    "matriz_correlacao = np.corrcoef(dados_ecommerce, rowvar = False)\n",
    "\n",
    "print(\"\\n--- MATRIZ DE CORRELAÇÃO ---\\n\")\n",
    "print(\"[Visitas, Tempo, Itens, Valor]\\n\")\n",
    "print(np.round(matriz_correlacao, 2))"
   ]
  },
  {
   "cell_type": "markdown",
   "id": "504a20a7-1ed4-4729-8262-993b97a48a62",
   "metadata": {},
   "source": [
    "<!-- Trabalho Desenvolvido no Curso da Data Science Academy - www.datascienceacademy.com.br -->\n",
    "Vamos melhorar isso e colocar a matriz de correlação de forma gráfica."
   ]
  },
  {
   "cell_type": "code",
   "execution_count": 24,
   "id": "99384123-617c-4297-989f-54a1e15c059d",
   "metadata": {},
   "outputs": [
    {
     "data": {
      "image/png": "[encoded data removed]",
      "text/plain": [
       "<Figure size 700x500 with 2 Axes>"
      ]
     },
     "metadata": {},
     "output_type": "display_data"
    }
   ],
   "source": [
    "# Calcula a matriz de correlação\n",
    "matriz_correlacao = np.corrcoef(dados_ecommerce, rowvar = False)\n",
    "\n",
    "# Define os nomes das variáveis\n",
    "nomes_variaveis = [\"Visitas\", \"Tempo no Site\", \"Itens no Carrinho\", \"Valor da Compra\"]\n",
    "\n",
    "# Converte em DataFrame para exibir com rótulos\n",
    "df_correlacao = pd.DataFrame(matriz_correlacao, \n",
    "                             index = nomes_variaveis, \n",
    "                             columns = nomes_variaveis)\n",
    "\n",
    "# Matriz de correlação (mapa de calor)\n",
    "plt.figure(figsize = (7, 5))\n",
    "sns.heatmap(df_correlacao, annot = True, cmap = \"Blues\", fmt = \".2f\")\n",
    "plt.title(\"Matriz de Correlação\")\n",
    "plt.show()"
   ]
  },
  {
   "cell_type": "markdown",
   "id": "b5200af7-724b-4f1a-ace2-d2cf8aa9e475",
   "metadata": {},
   "source": [
    "**Resposta da Pergunta 4:**\n",
    "\n",
    "A matriz está organizada na ordem [Visitas, Tempo, Itens, Valor]. Os valores variam entre –1 e +1, onde:\n",
    "\n",
    "- +1 indica correlação positiva perfeita\n",
    "- 0 indica ausência de correlação\n",
    "- –1 indica correlação negativa perfeita\n",
    "\n",
    "No trecho relevante para a pergunta:\n",
    "\n",
    "- Tempo ↔ Valor = 0,59 → correlação positiva moderada\n",
    "\n",
    "- Itens ↔ Valor = 1,00 → correlação positiva perfeita (neste conjunto de dados, valor cresce proporcionalmente ao número de itens)\n",
    "\n",
    "- Tempo ↔ Itens = 0,60 → correlação positiva moderada\n",
    "\n",
    "Esses números indicam que quanto mais tempo o usuário passa no site, maior tende a ser o número de itens no carrinho e, consequentemente, maior o valor da compra. O fato de “Itens ↔ Valor” ser 1,00 mostra que, no dataset analisado, o valor final cresce linearmente com a quantidade de itens (possivelmente porque cada item tem preço médio semelhante).\n",
    "\n",
    "Assim, a resposta para a pergunta seria:\n",
    "\n",
    "- Sim. Há uma correlação estatisticamente relevante: o tempo gasto no site se relaciona moderadamente tanto com o número de itens no carrinho quanto com o valor final da compra, e a quantidade de itens tem correlação praticamente perfeita com o valor final, indicando forte relação entre esses fatores.\n",
    "\n",
    "Obs: Para confirmar a significância estatística, seria necessário calcular o p-valor dessas correlações.\n",
    "\n",
    "Nota: Correlação não implica causalidade. Não é porque uma variável tem correlação com outra, que uma variável está causando a outra. Para investigar a causa teríamos que fazer uma Análise Causal, o que é ensinado na <a href = \"https://www.datascienceacademy.com.br/bundle/formacao-cientista-de-dados-4\">Formação Cientista de Dados 4.0</a>, especificamente no curso Data Science Para Análise Multivariada de Dados, aqui na DSA."
   ]
  },
  {
   "cell_type": "markdown",
   "id": "48de63f4-adcf-4e63-86e7-26ce0e064f8d",
   "metadata": {},
   "source": [
    "## Passo 6: Relatório Final, Conclusões e Insights a Partir dos Dados\n",
    "\n",
    "A análise estatística dos dados de navegação e compras dos usuários do e-commerce permitiu compreender melhor o comportamento dos clientes e identificar padrões diretamente relacionados à geração de receita.\n",
    "\n",
    "**1. Perfil Geral dos Usuários**\n",
    "\n",
    "Os usuários acessam a plataforma em média 25,86 vezes por mês, permanecendo cerca de 32,78 minutos no site por sessão. Cada cliente adiciona, em média, 7,20 itens ao carrinho e realiza compras com ticket médio de R$ 252,70. \n",
    "\n",
    "A mediana do valor gasto é de R$ 248,13. \n",
    "\n",
    "Isso indica que metade dos clientes compra abaixo e metade acima desse valor. Observou-se uma dispersão considerável nos gastos (desvio padrão de R$ 106,94). As compras variam de 23,42 (mínimo) a 530,37 (máximo registrado).\n",
    "\n",
    "Esses números mostram que existe um grupo expressivo de consumidores que gasta significativamente mais que a média, mas também há grande variação no comportamento de compra.\n",
    "\n",
    "**2. Clientes de Alto Valor**\n",
    "\n",
    "Ao analisar os clientes que gastam mais de R$ 250, identificou-se um total de 245 usuários, representando aproximadamente metade da base analisada. Este grupo se destaca por visitar mais vezes o site (33,29 visitas em média) e permanecer por mais tempo (37,11 minutos), comparado ao perfil geral.\n",
    "<!-- Trabalho Desenvolvido no Curso da Data Science Academy - www.datascienceacademy.com.br -->\n",
    "Isso sugere que engajamento elevado, tanto em frequência de visitas quanto em tempo de navegação, está fortemente associado a compras de maior valor. Esses clientes podem ser considerados um segmento prioritário para ações de fidelização, programas de recompensa e campanhas personalizadas.\n",
    "\n",
    "**3. Visitantes Que Não Compram**\n",
    "\n",
    "Foi identificado apenas 1 usuário que navega sem realizar compras. Apesar de representar um caso isolado nesta base, ele visita em média 7 vezes e permanece 14,71 minutos no site. Esse comportamento, mesmo pouco expressivo aqui, ilustra a importância de monitorar usuários engajados que não convertem, pois podem representar oportunidades para campanhas de remarketing, melhorias no processo de checkout ou incentivos específicos para concluir a compra.\n",
    "\n",
    "**4. Relações Entre Comportamentos e Receita**\n",
    "\n",
    "A matriz de correlação revelou informações valiosas:\n",
    "\n",
    "- Itens no Carrinho ↔ Valor da Compra = 1,00 → correlação positiva perfeita; cada item adicional impacta diretamente o valor gasto.\n",
    "\n",
    "- Tempo no Site ↔ Itens no Carrinho = 0,60 → correlação moderada; usuários que permanecem mais tempo tendem a adicionar mais itens.\n",
    "\n",
    "- Tempo no Site ↔ Valor da Compra = 0,59 → correlação moderada; quanto mais tempo no site, maior tende a ser a compra.\n",
    "\n",
    "- Visitas ↔ Valor da Compra = 0,65 → correlação positiva; maior frequência de acessos também contribui para compras maiores.\n",
    "\n",
    "Esses resultados confirmam que engajamento do usuário (tempo e visitas) influencia a construção do carrinho e, consequentemente, o valor final da compra. Embora seja necessário confirmar a significância estatística com testes adicionais (p-valor), a força das correlações já orienta decisões estratégicas.\n",
    "\n",
    "**5. Conclusões e Recomendações**\n",
    "\n",
    "- Segmentação estratégica: os clientes de alto valor apresentam comportamento diferenciado, com maior frequência e tempo de navegação. Esse grupo deve ser alvo de campanhas personalizadas e programas de fidelidade para aumentar retenção e ticket médio.\n",
    "\n",
    "- Incentivo à construção de carrinho: como a quantidade de itens é fator determinante no valor gasto, estratégias como recomendações personalizadas, descontos progressivos e combos podem elevar o ticket médio.\n",
    "\n",
    "- Aproveitamento de visitantes engajados sem compra: embora pouco representativo aqui, vale investir em remarketing e otimização de UX para reduzir fricções no checkout e converter quem demonstra interesse.\n",
    "\n",
    "- Base quantitativa para decisões: a análise estatística mostra que dados simples (visitas, tempo, itens) já oferecem insights poderosos para melhorar campanhas de marketing e decisões de produto, substituindo ações baseadas apenas em intuição.\n",
    "\n",
    "Este Mini-Projeto, embora simples, demonstra como o NumPy, com poucas linhas de código, nos permite realizar uma análise estatística poderosa, desde a visão geral até a segmentação e correlação, transformando dados brutos em insights de negócio."
   ]
  },
  {
   "cell_type": "markdown",
   "id": "0e70e92c-24ab-4d41-8362-89841f80232f",
   "metadata": {},
   "source": [
    "# Fim"
   ]
  }
 ],
 "metadata": {
  "kernelspec": {
   "display_name": "Python [conda env:base] *",
   "language": "python",
   "name": "conda-base-py"
  },
  "language_info": {
   "codemirror_mode": {
    "name": "ipython",
    "version": 3
   },
   "file_extension": ".py",
   "mimetype": "text/x-python",
   "name": "python",
   "nbconvert_exporter": "python",
   "pygments_lexer": "ipython3",
   "version": "3.13.5"
  }
 },
 "nbformat": 4,
 "nbformat_minor": 5
}
