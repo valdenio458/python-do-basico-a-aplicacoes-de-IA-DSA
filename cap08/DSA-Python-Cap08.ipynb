{
 "cells": [
  {
   "cell_type": "markdown",
   "id": "3a5b2518-0c35-4a82-b64e-4d8e7a8f6631",
   "metadata": {},
   "source": [
    "<!-- Trabalho Desenvolvido no Curso da Data Science Academy - www.datascienceacademy.com.br -->\n",
    "# <font color='blue'>Data Science Academy</font>\n",
    "# <font color='blue'>Fundamentos de Linguagem Python - Do Básico a Aplicações de IA</font>\n",
    "# <font color='blue'>Operações Vetoriais e Manipulação de Matrizes com NumPy</font>"
   ]
  },
  {
   "cell_type": "markdown",
   "id": "13aae8d9-bec9-4f99-bbe3-7c394450452e",
   "metadata": {},
   "source": [
    "## 1. O Que é e Quando Usar o NumPy?\n",
    "\n",
    "Leia o manual em pdf no Capítulo 8 do Curso."
   ]
  },
  {
   "cell_type": "code",
   "execution_count": 1,
   "id": "5db77a2c-c1de-4345-bfb7-0ef928a28f1a",
   "metadata": {},
   "outputs": [],
   "source": [
    "# Instalando o NumPy\n",
    "!pip install -q numpy==2.3.2"
   ]
  },
  {
   "cell_type": "code",
   "execution_count": 2,
   "id": "9c8269e6-48c4-4c6f-835a-0abeefc008d0",
   "metadata": {},
   "outputs": [],
   "source": [
    "# Importando a biblioteca NumPy\n",
    "import numpy as np"
   ]
  },
  {
   "cell_type": "markdown",
   "id": "c93e25cd-d863-46db-9ec9-68d2bb72b050",
   "metadata": {},
   "source": [
    "Vamos começar comparando a performance do NumPy com Python puro (uso padrão da Linguagem Python)."
   ]
  },
  {
   "cell_type": "code",
   "execution_count": 3,
   "id": "223e5f4c-c374-4e84-9f98-cf4b4a4bea5e",
   "metadata": {},
   "outputs": [],
   "source": [
    "# Imports\n",
    "import math\n",
    "import time"
   ]
  },
  {
   "cell_type": "code",
   "execution_count": 4,
   "id": "02c69832-43a3-4d08-9bed-3a4e5db6adb5",
   "metadata": {},
   "outputs": [
    {
     "data": {
      "text/plain": [
       "numpy.ndarray"
      ]
     },
     "execution_count": 4,
     "metadata": {},
     "output_type": "execute_result"
    }
   ],
   "source": [
    "# Criando uma lista (vetor) com NumPy de 10 milhões de itens\n",
    "precos_np = np.random.rand(10_000_000)\n",
    "type(precos_np)"
   ]
  },
  {
   "cell_type": "code",
   "execution_count": 5,
   "id": "4c7c2c4a-099a-40e1-9844-d4306ddd0cbe",
   "metadata": {},
   "outputs": [
    {
     "data": {
      "text/plain": [
       "list"
      ]
     },
     "execution_count": 5,
     "metadata": {},
     "output_type": "execute_result"
    }
   ],
   "source": [
    "# Cria uma lista (estrutura de dados padrão em Python Puro)\n",
    "precos_list = list(precos_np)\n",
    "type(precos_list)"
   ]
  },
  {
   "cell_type": "code",
   "execution_count": 6,
   "id": "914625fa-1f00-476f-8a45-8d7d81533dd7",
   "metadata": {},
   "outputs": [
    {
     "name": "stdout",
     "output_type": "stream",
     "text": [
      "NumPy: 0.018429994583129883 segundos\n"
     ]
    }
   ],
   "source": [
    "# Operação com NumPy\n",
    "t0 = time.time()\n",
    "desc = precos_np * 0.90\n",
    "final = desc + 5\n",
    "raiz = np.sqrt(precos_np)\n",
    "print(\"NumPy:\", time.time() - t0, \"segundos\")"
   ]
  },
  {
   "cell_type": "code",
   "execution_count": 7,
   "id": "dc3836d2-725a-479b-a550-6f05055cf471",
   "metadata": {},
   "outputs": [
    {
     "name": "stdout",
     "output_type": "stream",
     "text": [
      "Python puro: 0.7074229717254639 segundos\n"
     ]
    }
   ],
   "source": [
    "# Mesma operação com Python puro\n",
    "t0 = time.time()\n",
    "desc = [p * 0.90 for p in precos_list]\n",
    "final = [p + 5 for p in desc]\n",
    "raiz = [math.sqrt(p) for p in precos_list]\n",
    "print(\"Python puro:\", time.time() - t0, \"segundos\")"
   ]
  },
  {
   "cell_type": "markdown",
   "id": "52c7b290-2d62-4a9e-af0c-9d7e9e9afdc4",
   "metadata": {},
   "source": [
    "Nota: Os tempos acima foram obtidos em um Notebook Apple MacBook Pro Processador Apple Silicon M4 com 128 GB de RAM e Disco SSD."
   ]
  },
  {
   "cell_type": "markdown",
   "id": "58af5247-f2f6-4deb-a70f-3cbed17e3a0f",
   "metadata": {},
   "source": [
    "---\n",
    "\n",
    "Para 10 milhões de valores, o NumPy normalmente é muito mais rápido. Mas para poucos valores, o uso de loops com Python puro pode sair na frente porque o overhead do NumPy pesa mais que o ganho para poucos registros.\n",
    "\n",
    "✅ Resumindo:\n",
    "\n",
    "- Poucos elementos → Loops Python podem ser mais rápidos (overhead do NumPy é maior).\n",
    "\n",
    "- Muitos elementos → NumPy é muito mais rápido e escalável."
   ]
  },
  {
   "cell_type": "markdown",
   "id": "080cb8ab-9687-4eca-9e4d-c706a1e4146e",
   "metadata": {},
   "source": [
    "É pela sua velocidade, que NumPy é amplamente usado em projetos de Ciência de Dados, Machine Learning e IA."
   ]
  },
  {
   "cell_type": "markdown",
   "id": "1badd35a-2ed5-4c4a-9320-9f3ff972b057",
   "metadata": {},
   "source": [
    "## 2. O Objeto ndarray\n",
    "\n",
    "Um array NumPy é uma estrutura de dados multidimensional usada em computação científica e análise de dados. O NumPy fornece um objeto de matriz N-dimensional (ou ndarray), que é uma grade homogênea de elementos, geralmente números, que podem ser indexados por um conjunto de inteiros.\n",
    "\n",
    "Os arrays NumPy são mais eficientes do que as listas Python para armazenar e manipular grandes quantidades de dados, pois são implementados em Linguagem C e fornecem várias otimizações de desempenho. Além disso, o NumPy permite a fácil leitura e escrita de arquivos de dados, integração com outras bibliotecas Python e suporte a operações em paralelo usando várias CPUs ou GPUs.\n",
    "\n",
    "![DSA](imagem1.png)"
   ]
  },
  {
   "cell_type": "code",
   "execution_count": 8,
   "id": "904aa02f-c2aa-4fef-89fe-cc173eb52c62",
   "metadata": {},
   "outputs": [
    {
     "name": "stdout",
     "output_type": "stream",
     "text": [
      "\n",
      "Vetor (Array 1D):\n",
      "\n",
      "[ 17  21 100  34]\n"
     ]
    }
   ],
   "source": [
    "# Criando um array de 1 dimensão (vetor) a partir de uma lista Python\n",
    "vetor = np.array([17, 21, 100, 34])\n",
    "print(\"\\nVetor (Array 1D):\\n\")\n",
    "print(vetor)"
   ]
  },
  {
   "cell_type": "code",
   "execution_count": 9,
   "id": "9dfca285-96c0-4ab7-8532-1e71ea8ec4fe",
   "metadata": {},
   "outputs": [
    {
     "name": "stdout",
     "output_type": "stream",
     "text": [
      "Formato (shape) do vetor: (4,)\n",
      "Número de dimensões (ndim) do vetor: 1\n",
      "Número total de elementos (size) do vetor: 4\n"
     ]
    }
   ],
   "source": [
    "# Verificando atributos \n",
    "print(\"Formato (shape) do vetor:\", vetor.shape) \n",
    "print(\"Número de dimensões (ndim) do vetor:\", vetor.ndim)\n",
    "print(\"Número total de elementos (size) do vetor:\", vetor.size)"
   ]
  },
  {
   "cell_type": "code",
   "execution_count": 10,
   "id": "9dd35c1e-4882-4fee-98ac-8c4ffb00e21b",
   "metadata": {},
   "outputs": [
    {
     "name": "stdout",
     "output_type": "stream",
     "text": [
      "\n",
      "Matriz (Array 2D):\n",
      "\n",
      "[[1 2 3]\n",
      " [4 5 6]]\n"
     ]
    }
   ],
   "source": [
    "# Criando um array de 2 dimensões (matriz) a partir de uma lista de listas\n",
    "matriz = np.array([[1, 2, 3], [4, 5, 6]])\n",
    "print(\"\\nMatriz (Array 2D):\\n\")\n",
    "print(matriz)"
   ]
  },
  {
   "cell_type": "code",
   "execution_count": 11,
   "id": "f0419f75-bf64-41a6-934a-6d71e8881814",
   "metadata": {},
   "outputs": [
    {
     "name": "stdout",
     "output_type": "stream",
     "text": [
      "Formato (shape) da matriz: (2, 3)\n",
      "Número de dimensões (ndim) da matriz: 2\n",
      "Número total de elementos (size) da matriz: 6\n"
     ]
    }
   ],
   "source": [
    "# Verificando atributos \n",
    "print(\"Formato (shape) da matriz:\", matriz.shape)  # (linhas, colunas)\n",
    "print(\"Número de dimensões (ndim) da matriz:\", matriz.ndim)\n",
    "print(\"Número total de elementos (size) da matriz:\", matriz.size)"
   ]
  },
  {
   "cell_type": "code",
   "execution_count": 12,
   "id": "27468421-e5c6-4aae-9748-995485f8c138",
   "metadata": {},
   "outputs": [
    {
     "name": "stdout",
     "output_type": "stream",
     "text": [
      "\n",
      "Array (Array 3D):\n",
      "\n",
      "[[[ 0  1]\n",
      "  [ 2  3]\n",
      "  [ 4  5]]\n",
      "\n",
      " [[ 6  7]\n",
      "  [ 8  9]\n",
      "  [10 11]]\n",
      "\n",
      " [[12 13]\n",
      "  [14 15]\n",
      "  [16 17]]\n",
      "\n",
      " [[18 19]\n",
      "  [20 21]\n",
      "  [22 23]]]\n"
     ]
    }
   ],
   "source": [
    "# Criando um array 3D usando np.arange()\n",
    "arr = np.arange(24).reshape(4, 3, 2)\n",
    "print(\"\\nArray (Array 3D):\\n\")\n",
    "print(arr)"
   ]
  },
  {
   "cell_type": "code",
   "execution_count": 13,
   "id": "f69e8de1-6fc8-48dd-8a4e-10f6143e9b6c",
   "metadata": {},
   "outputs": [
    {
     "name": "stdout",
     "output_type": "stream",
     "text": [
      "Formato (shape) do array: (4, 3, 2)\n",
      "Número de dimensões (ndim) do array: 3\n",
      "Número total de elementos (size) do array: 24\n"
     ]
    }
   ],
   "source": [
    "# Verificando atributos \n",
    "print(\"Formato (shape) do array:\", arr.shape) \n",
    "print(\"Número de dimensões (ndim) do array:\", arr.ndim)\n",
    "print(\"Número total de elementos (size) do array:\", arr.size)"
   ]
  },
  {
   "cell_type": "markdown",
   "id": "68e1d07a-ff9c-462f-a3b9-7f26dc95c24c",
   "metadata": {},
   "source": [
    "Array 3D — Um array com três eixos, sendo: shape = (profundidade, linhas, colunas) ou (altura, largura, canais) em imagens. \n",
    "\n",
    "Tensor 3D — Em Machine Learning e computação numérica, um tensor de ordem 3 é, de fato, um array 3D."
   ]
  },
  {
   "cell_type": "code",
   "execution_count": 14,
   "id": "5a3ad5fe-731d-49fa-821b-e5829afa11e5",
   "metadata": {},
   "outputs": [
    {
     "name": "stdout",
     "output_type": "stream",
     "text": [
      "[[[[  0   1   2   3   4]\n",
      "   [  5   6   7   8   9]\n",
      "   [ 10  11  12  13  14]\n",
      "   [ 15  16  17  18  19]]\n",
      "\n",
      "  [[ 20  21  22  23  24]\n",
      "   [ 25  26  27  28  29]\n",
      "   [ 30  31  32  33  34]\n",
      "   [ 35  36  37  38  39]]\n",
      "\n",
      "  [[ 40  41  42  43  44]\n",
      "   [ 45  46  47  48  49]\n",
      "   [ 50  51  52  53  54]\n",
      "   [ 55  56  57  58  59]]]\n",
      "\n",
      "\n",
      " [[[ 60  61  62  63  64]\n",
      "   [ 65  66  67  68  69]\n",
      "   [ 70  71  72  73  74]\n",
      "   [ 75  76  77  78  79]]\n",
      "\n",
      "  [[ 80  81  82  83  84]\n",
      "   [ 85  86  87  88  89]\n",
      "   [ 90  91  92  93  94]\n",
      "   [ 95  96  97  98  99]]\n",
      "\n",
      "  [[100 101 102 103 104]\n",
      "   [105 106 107 108 109]\n",
      "   [110 111 112 113 114]\n",
      "   [115 116 117 118 119]]]]\n"
     ]
    }
   ],
   "source": [
    "# Array 4D com valores sequenciais de 0 a 119 organizado em 2x3x4x5 (2 blocos, 3 \"planos\", 4 linhas, 5 colunas)\n",
    "tensor_4d = np.arange(120).reshape(2, 3, 4, 5)\n",
    "print(tensor_4d)  "
   ]
  },
  {
   "cell_type": "code",
   "execution_count": 15,
   "id": "ca02514b-7ac5-4af5-96a9-d0b600ccdfbf",
   "metadata": {},
   "outputs": [
    {
     "name": "stdout",
     "output_type": "stream",
     "text": [
      "Formato (shape) do array: (2, 3, 4, 5)\n",
      "Número de dimensões (ndim) do array: 4\n",
      "Número total de elementos (size) do array: 120\n"
     ]
    }
   ],
   "source": [
    "# Verificando atributos importantes do array\n",
    "print(\"Formato (shape) do array:\", tensor_4d.shape) \n",
    "print(\"Número de dimensões (ndim) do array:\", tensor_4d.ndim)\n",
    "print(\"Número total de elementos (size) do array:\", tensor_4d.size)"
   ]
  },
  {
   "cell_type": "markdown",
   "id": "20e7f2a1-679b-4c45-84de-0e5f06371f36",
   "metadata": {},
   "source": [
    "## 3. Tipos de Dados do NumPy\n",
    "<!-- Trabalho Desenvolvido no Curso da Data Science Academy - www.datascienceacademy.com.br -->\n",
    "Diferente das listas em Python, os arrays NumPy são homogêneos; todos os elementos devem ter o mesmo tipo de dado. Isso é fundamental para a performance."
   ]
  },
  {
   "cell_type": "code",
   "execution_count": 16,
   "id": "21d94dc5-4ceb-41a5-b834-6071b396efe5",
   "metadata": {},
   "outputs": [
    {
     "name": "stdout",
     "output_type": "stream",
     "text": [
      "Tipo de dado (inteiros): int64\n"
     ]
    }
   ],
   "source": [
    "# NumPy infere o tipo de dado automaticamente\n",
    "arr_inteiros = np.array([1, 2, 3])\n",
    "print(\"Tipo de dado (inteiros):\", arr_inteiros.dtype)"
   ]
  },
  {
   "cell_type": "code",
   "execution_count": 17,
   "id": "72efaa39-bfd9-44f4-bcc5-13da03a49cf6",
   "metadata": {},
   "outputs": [
    {
     "name": "stdout",
     "output_type": "stream",
     "text": [
      "Tipo de dado (inteiros): float64\n"
     ]
    }
   ],
   "source": [
    "# NumPy infere o tipo de dado automaticamente\n",
    "arr_float = np.array([1.0, 2.0, 3.0])\n",
    "print(\"Tipo de dado (inteiros):\", arr_float.dtype)"
   ]
  },
  {
   "cell_type": "code",
   "execution_count": 18,
   "id": "10d3c31e-d978-4bb6-9c2c-9a3a3594c2f9",
   "metadata": {},
   "outputs": [
    {
     "name": "stdout",
     "output_type": "stream",
     "text": [
      "Tipo de dado (float64): float64\n",
      "Array float: [1. 2. 3.]\n"
     ]
    }
   ],
   "source": [
    "# Mas podemos especificar o tipo de dado durante a criação\n",
    "arr_float = np.array([1, 2, 3], dtype = np.float64)\n",
    "print(\"Tipo de dado (float64):\", arr_float.dtype)\n",
    "print(\"Array float:\", arr_float)"
   ]
  },
  {
   "cell_type": "code",
   "execution_count": 19,
   "id": "3dc0d23e-6fe3-46ec-9780-e1c0af39c7a4",
   "metadata": {},
   "outputs": [
    {
     "name": "stdout",
     "output_type": "stream",
     "text": [
      "Tipo convertido: int64\n",
      "Array convertido: [1 2 3]\n"
     ]
    }
   ],
   "source": [
    "# Conversão para int64\n",
    "arr_int = arr_float.astype(np.int64)\n",
    "print(\"Tipo convertido:\", arr_int.dtype)\n",
    "print(\"Array convertido:\", arr_int)"
   ]
  },
  {
   "cell_type": "markdown",
   "id": "8262f7db-d3ef-4e4f-8ed8-9ba7a45877e8",
   "metadata": {},
   "source": [
    "## 4. Indexação e Fatiamento\n",
    "<!-- Trabalho Desenvolvido no Curso da Data Science Academy - www.datascienceacademy.com.br -->\n",
    "Acessar e modificar subconjuntos de dados em arrays é simples e poderoso."
   ]
  },
  {
   "cell_type": "code",
   "execution_count": 20,
   "id": "7d923dfd-3bb3-4a37-b4d8-531430742a9b",
   "metadata": {},
   "outputs": [
    {
     "name": "stdout",
     "output_type": "stream",
     "text": [
      "\n",
      "Matriz Original:\n",
      "\n",
      "[[ 0  1  2  3]\n",
      " [ 4  5  6  7]\n",
      " [ 8  9 10 11]\n",
      " [12 13 14 15]]\n"
     ]
    }
   ],
   "source": [
    "# Vamos criar uma matriz 4x4 com números de 0 a 15\n",
    "dados = np.arange(16).reshape(4, 4)\n",
    "print(\"\\nMatriz Original:\\n\")\n",
    "print(dados)"
   ]
  },
  {
   "cell_type": "code",
   "execution_count": 21,
   "id": "385848c7-81e1-49d5-b06f-8c8b62b27ccf",
   "metadata": {},
   "outputs": [
    {
     "name": "stdout",
     "output_type": "stream",
     "text": [
      "\n",
      "Matriz Original:\n",
      "\n",
      "[[ 0  1  2  3]\n",
      " [ 4  5  6  7]\n",
      " [ 8  9 10 11]\n",
      " [12 13 14 15]]\n",
      "\n",
      "Elemento na posição [1, 2]: 6\n",
      "\n"
     ]
    }
   ],
   "source": [
    "# Acessando um elemento específico: linha 1, coluna 2 (lembre-se que a indexação em Python começa em 0)\n",
    "\n",
    "print(\"\\nMatriz Original:\\n\")\n",
    "\n",
    "print(dados)\n",
    "\n",
    "elemento = dados[1, 2]\n",
    "\n",
    "print(f\"\\nElemento na posição [1, 2]: {elemento}\\n\")"
   ]
  },
  {
   "cell_type": "code",
   "execution_count": 22,
   "id": "31ea675e-e9ac-4f8a-84aa-6185465a6bd5",
   "metadata": {},
   "outputs": [
    {
     "name": "stdout",
     "output_type": "stream",
     "text": [
      "\n",
      "Matriz Original:\n",
      "\n",
      "[[ 0  1  2  3]\n",
      " [ 4  5  6  7]\n",
      " [ 8  9 10 11]\n",
      " [12 13 14 15]]\n",
      "\n",
      "Primeira linha:\n",
      "[0 1 2 3]\n",
      "\n"
     ]
    }
   ],
   "source": [
    "# Fatiando para obter a primeira linha completa (sintaxe pelo índice da linha)\n",
    "\n",
    "print(\"\\nMatriz Original:\\n\")\n",
    "\n",
    "print(dados)\n",
    "\n",
    "primeira_linha = dados[0] \n",
    "\n",
    "print(f\"\\nPrimeira linha:\\n{primeira_linha}\\n\")"
   ]
  },
  {
   "cell_type": "code",
   "execution_count": 23,
   "id": "944ae963-7b03-421d-bd98-de9ae1cc1393",
   "metadata": {},
   "outputs": [
    {
     "name": "stdout",
     "output_type": "stream",
     "text": [
      "\n",
      "Matriz Original:\n",
      "\n",
      "[[ 0  1  2  3]\n",
      " [ 4  5  6  7]\n",
      " [ 8  9 10 11]\n",
      " [12 13 14 15]]\n",
      "\n",
      "Primeira linha:\n",
      "[0 1 2 3]\n",
      "\n"
     ]
    }
   ],
   "source": [
    "# Fatiando para obter a primeira linha completa (sintaxe pelo índice da linha e da coluna)\n",
    "\n",
    "print(\"\\nMatriz Original:\\n\")\n",
    "\n",
    "print(dados)\n",
    "\n",
    "primeira_linha = dados[0, :]\n",
    "\n",
    "print(f\"\\nPrimeira linha:\\n{primeira_linha}\\n\")"
   ]
  },
  {
   "cell_type": "code",
   "execution_count": 24,
   "id": "d6948d77-b963-4938-ac5d-3ee562314d93",
   "metadata": {},
   "outputs": [
    {
     "name": "stdout",
     "output_type": "stream",
     "text": [
      "\n",
      "Matriz Original:\n",
      "\n",
      "[[ 0  1  2  3]\n",
      " [ 4  5  6  7]\n",
      " [ 8  9 10 11]\n",
      " [12 13 14 15]]\n",
      "\n",
      "Segunda coluna:\n",
      "[ 1  5  9 13]\n",
      "\n"
     ]
    }
   ],
   "source": [
    "# Fatiando para obter a segunda coluna completa\n",
    "\n",
    "print(\"\\nMatriz Original:\\n\")\n",
    "\n",
    "print(dados)\n",
    "\n",
    "segunda_coluna = dados[:, 1]\n",
    "\n",
    "print(f\"\\nSegunda coluna:\\n{segunda_coluna}\\n\")"
   ]
  },
  {
   "cell_type": "code",
   "execution_count": 25,
   "id": "bbf8fe55-20d7-4c25-9466-419239aca592",
   "metadata": {},
   "outputs": [
    {
     "name": "stdout",
     "output_type": "stream",
     "text": [
      "\n",
      "Matriz Original:\n",
      "\n",
      "[[ 0  1  2  3]\n",
      " [ 4  5  6  7]\n",
      " [ 8  9 10 11]\n",
      " [12 13 14 15]]\n",
      "\n",
      "Bloco 2x2 superior esquerdo:\n",
      "[[0 1]\n",
      " [4 5]]\n",
      "\n"
     ]
    }
   ],
   "source": [
    "# Fatiando um bloco 2x2 do canto superior esquerdo\n",
    "\n",
    "print(\"\\nMatriz Original:\\n\")\n",
    "\n",
    "print(dados)\n",
    "\n",
    "bloco_superior_esquerdo = dados[:2, :2]\n",
    "\n",
    "print(f\"\\nBloco 2x2 superior esquerdo:\\n{bloco_superior_esquerdo}\\n\")"
   ]
  },
  {
   "cell_type": "code",
   "execution_count": 26,
   "id": "06bfc1fc-dd33-4157-8985-6a8e96bd7cf7",
   "metadata": {},
   "outputs": [
    {
     "name": "stdout",
     "output_type": "stream",
     "text": [
      "\n",
      "Matriz Original:\n",
      "\n",
      "[[ 0  1  2  3]\n",
      " [ 4  5  6  7]\n",
      " [ 8  9 10 11]\n",
      " [12 13 14 15]]\n",
      "\n",
      "Números maiores que 10:\n",
      " [11 12 13 14 15]\n"
     ]
    }
   ],
   "source": [
    "# Indexação booleana: selecionando apenas os números maiores que 10\n",
    "\n",
    "print(\"\\nMatriz Original:\\n\")\n",
    "\n",
    "print(dados)\n",
    "\n",
    "maiores_que_10 = dados[dados > 10]\n",
    "\n",
    "print(f\"\\nNúmeros maiores que 10:\\n {maiores_que_10}\")"
   ]
  },
  {
   "cell_type": "markdown",
   "id": "8a8fece6-bd74-420c-abf5-3efde99dce60",
   "metadata": {},
   "source": [
    "Dada a matriz 5x5 abaixo, vamos criar um novo array que contenha apenas as linhas de índice par e as colunas de índice ímpar."
   ]
  },
  {
   "cell_type": "code",
   "execution_count": 27,
   "id": "a3d4c8f6-25da-4eb6-bd6d-f66328b56774",
   "metadata": {},
   "outputs": [],
   "source": [
    "# Cria a matriz\n",
    "matriz = np.arange(25).reshape(5, 5)"
   ]
  },
  {
   "cell_type": "code",
   "execution_count": 28,
   "id": "ff59fe3c-a138-471f-b379-15977d0ded90",
   "metadata": {},
   "outputs": [
    {
     "name": "stdout",
     "output_type": "stream",
     "text": [
      "Matriz Original:\n",
      "[[ 0  1  2  3  4]\n",
      " [ 5  6  7  8  9]\n",
      " [10 11 12 13 14]\n",
      " [15 16 17 18 19]\n",
      " [20 21 22 23 24]]\n",
      "\n",
      "Linhas Pares e Colunas Ímpares:\n",
      "[[ 1  3]\n",
      " [11 13]\n",
      " [21 23]]\n"
     ]
    }
   ],
   "source": [
    "# Usamos o passo no slicing (start:stop:step)\n",
    "# Para as linhas: '::2' significa do início ao fim, pulando de 2 em 2 (0, 2, 4)\n",
    "# Para as colunas: '1::2' significa do índice 1 ao fim, pulando de 2 em 2 (1, 3)\n",
    "\n",
    "resultado = matriz[::2, 1::2]\n",
    "\n",
    "print(\"Matriz Original:\")\n",
    "print(matriz)\n",
    "print(\"\\nLinhas Pares e Colunas Ímpares:\")\n",
    "print(resultado)"
   ]
  },
  {
   "cell_type": "markdown",
   "id": "1a9a161d-97c8-46fe-add7-6d6ce952a972",
   "metadata": {},
   "source": [
    "## 5. Operações Matemáticas Vetorizadas\n",
    "\n",
    "A \"vetorização\" permite aplicar operações em arrays inteiros de uma vez, sem a necessidade de loops for, o que é extremamente rápido. O NumPy usa implementações em Linguagem C otimizadas e faz operações em bloco sobre arrays inteiros, evitando o loop Python elemento a elemento. Isso brilha quando temos muitos dados (milhares ou milhões de elementos)."
   ]
  },
  {
   "cell_type": "code",
   "execution_count": 29,
   "id": "b32e61eb-6256-4c4b-96fc-49c49323de09",
   "metadata": {},
   "outputs": [
    {
     "name": "stdout",
     "output_type": "stream",
     "text": [
      "\n",
      "Preços originais: [19.99 25.5   8.9  43.  ]\n",
      "\n"
     ]
    }
   ],
   "source": [
    "# Simulando dados de preços de produtos\n",
    "precos = np.array([19.99, 25.50, 8.90, 43.00])\n",
    "print(f\"\\nPreços originais: {precos}\\n\")"
   ]
  },
  {
   "cell_type": "code",
   "execution_count": 30,
   "id": "fcba8bb6-7507-4362-bd64-291d35a02780",
   "metadata": {},
   "outputs": [
    {
     "name": "stdout",
     "output_type": "stream",
     "text": [
      "\n",
      "Preços com 10% de desconto: [17.991 22.95   8.01  38.7  ]\n",
      "\n"
     ]
    }
   ],
   "source": [
    "# Aplicando um desconto de 10% a todos os preços de uma vez\n",
    "precos_com_desconto = precos * 0.90\n",
    "print(f\"\\nPreços com 10% de desconto: {precos_com_desconto}\\n\")"
   ]
  },
  {
   "cell_type": "code",
   "execution_count": 31,
   "id": "4ddff3fb-f919-4e39-83bf-88c3c9fd6324",
   "metadata": {},
   "outputs": [
    {
     "name": "stdout",
     "output_type": "stream",
     "text": [
      "\n",
      "Preços com 10% de desconto: [17.991, 22.95, 8.01, 38.7]\n",
      "\n"
     ]
    }
   ],
   "source": [
    "# Mesmo resultado da célula anterior usando Python puro\n",
    "\n",
    "# Lista original de preços\n",
    "precos_pp = [19.99, 25.50, 8.90, 43.00]\n",
    "\n",
    "# Aplicando desconto de 10% usando list comprehension\n",
    "precos_com_desconto_pp = [preco * 0.90 for preco in precos_pp]\n",
    "\n",
    "print(f\"\\nPreços com 10% de desconto: {precos_com_desconto_pp}\\n\")"
   ]
  },
  {
   "cell_type": "code",
   "execution_count": 32,
   "id": "84015575-b2aa-4a06-b110-f025d9574d04",
   "metadata": {},
   "outputs": [
    {
     "name": "stdout",
     "output_type": "stream",
     "text": [
      "\n",
      "Preços finais com frete: [22.991 27.95  13.01  43.7  ]\n",
      "\n"
     ]
    }
   ],
   "source": [
    "# Adicionando um valor fixo de frete\n",
    "precos_finais = precos_com_desconto + 5.00\n",
    "print(f\"\\nPreços finais com frete: {precos_finais}\\n\")"
   ]
  },
  {
   "cell_type": "code",
   "execution_count": 33,
   "id": "68b8e0f0-310d-43bb-b648-a191825da682",
   "metadata": {},
   "outputs": [
    {
     "name": "stdout",
     "output_type": "stream",
     "text": [
      "\n",
      "Raiz quadrada dos preços: [4.47101778 5.04975247 2.98328678 6.55743852]\n"
     ]
    }
   ],
   "source": [
    "# Usando funções universais (ufuncs) do NumPy\n",
    "# Exemplo: calculando a raiz quadrada de cada elemento\n",
    "raizes = np.sqrt(precos)\n",
    "print(f\"\\nRaiz quadrada dos preços: {raizes}\")"
   ]
  },
  {
   "cell_type": "markdown",
   "id": "0273167c-f299-4bb8-bfea-8a8972a885c3",
   "metadata": {},
   "source": [
    "## 6. Agregações Estatísticas\n",
    "\n",
    "Calcular estatísticas descritivas de um conjunto de dados é uma tarefa comum e muito otimizada no NumPy."
   ]
  },
  {
   "cell_type": "code",
   "execution_count": 34,
   "id": "b948c42e-3e2a-4e82-8cf7-9117d990f25d",
   "metadata": {},
   "outputs": [],
   "source": [
    "# Simulando as notas de 3 alunos em 4 provas\n",
    "notas = np.array([\n",
    "    [8.5, 7.0, 9.2, 6.5],  # Aluno 1\n",
    "    [5.5, 6.8, 7.5, 8.0],  # Aluno 2\n",
    "    [9.5, 9.0, 8.8, 10.0]  # Aluno 3\n",
    "])"
   ]
  },
  {
   "cell_type": "code",
   "execution_count": 35,
   "id": "d464159b-96c0-4e1f-b585-454e9af44e23",
   "metadata": {},
   "outputs": [
    {
     "name": "stdout",
     "output_type": "stream",
     "text": [
      "\n",
      "Matriz de Notas:\n",
      "\n",
      "[[ 8.5  7.   9.2  6.5]\n",
      " [ 5.5  6.8  7.5  8. ]\n",
      " [ 9.5  9.   8.8 10. ]]\n"
     ]
    }
   ],
   "source": [
    "print(\"\\nMatriz de Notas:\\n\")\n",
    "print(notas)"
   ]
  },
  {
   "cell_type": "code",
   "execution_count": 36,
   "id": "d168591a-4049-43b0-9e0c-6fe1002e6792",
   "metadata": {},
   "outputs": [
    {
     "data": {
      "text/plain": [
       "numpy.ndarray"
      ]
     },
     "execution_count": 36,
     "metadata": {},
     "output_type": "execute_result"
    }
   ],
   "source": [
    "type(notas)"
   ]
  },
  {
   "cell_type": "code",
   "execution_count": 37,
   "id": "a3e68d97-ecc4-4368-9303-c1bc2b4f8e3c",
   "metadata": {},
   "outputs": [
    {
     "name": "stdout",
     "output_type": "stream",
     "text": [
      "\n",
      "Média geral da turma:    8.03\n",
      "Nota máxima da turma:    10.0\n",
      "Nota mínima da turma:    5.5\n",
      "Soma de todas as notas:  96.3\n",
      "\n"
     ]
    }
   ],
   "source": [
    "# Agregações na matriz inteira\n",
    "print(f\"\\nMédia geral da turma:    {notas.mean():.2f}\")\n",
    "print(f\"Nota máxima da turma:    {notas.max()}\")\n",
    "print(f\"Nota mínima da turma:    {notas.min()}\")\n",
    "print(f\"Soma de todas as notas:  {notas.sum()}\\n\")"
   ]
  },
  {
   "cell_type": "code",
   "execution_count": 38,
   "id": "c6b13d24-faa7-4db1-be66-caf97082be48",
   "metadata": {},
   "outputs": [
    {
     "name": "stdout",
     "output_type": "stream",
     "text": [
      "\n",
      "Média de cada aluno: [7.8  6.95 9.32]\n",
      "\n"
     ]
    }
   ],
   "source": [
    "# Agregações por eixo (axis)\n",
    "# Média de cada aluno (agregando nas colunas, axis = 1) arredondando para duas casas decimais\n",
    "media_por_aluno = notas.mean(axis = 1).round(2)\n",
    "print(f\"\\nMédia de cada aluno: {media_por_aluno}\\n\")"
   ]
  },
  {
   "cell_type": "code",
   "execution_count": 39,
   "id": "c3386cd4-d366-42b7-af1c-981b6430b0ec",
   "metadata": {},
   "outputs": [
    {
     "name": "stdout",
     "output_type": "stream",
     "text": [
      "\n",
      "Média de cada prova: [7.83 7.6  8.5  8.17]\n"
     ]
    }
   ],
   "source": [
    "# Média de cada prova (agregando nas linhas, axis = 0) arredondando para duas casas decimais\n",
    "media_por_prova = notas.mean(axis = 0).round(2)\n",
    "print(f\"\\nMédia de cada prova: {media_por_prova}\")"
   ]
  },
  {
   "cell_type": "markdown",
   "id": "41df6c55-3cf1-47e3-896d-bf5f052fb7f2",
   "metadata": {},
   "source": [
    "## 7. Broadcasting e Operações Entre Arrays\n",
    "\n",
    "No NumPy, broadcasting é o mecanismo que permite realizar operações aritméticas entre arrays de formas (shapes) diferentes, sem precisar copiar ou replicar manualmente os dados. \n",
    "\n",
    "Ele funciona expandindo automaticamente as dimensões de arrays menores para que fiquem compatíveis com os maiores, seguindo um conjunto de regras. Isso evita laços (loops) explícitos e melhora muito a eficiência. \n",
    "\n",
    "Por exemplo, se você soma uma matriz 3×3 com um vetor de 3 elementos, o NumPy “estica” o vetor para que cada linha da matriz receba a soma correspondente elemento a elemento, sem criar cópias extras na memória."
   ]
  },
  {
   "cell_type": "code",
   "execution_count": 40,
   "id": "d12aacfb-84ea-48bd-99fa-a15b96ebab60",
   "metadata": {},
   "outputs": [],
   "source": [
    "# Matriz 3x3\n",
    "matriz = np.array([\n",
    "    [1, 2, 3],\n",
    "    [4, 5, 6],\n",
    "    [7, 8, 9]\n",
    "])"
   ]
  },
  {
   "cell_type": "code",
   "execution_count": 41,
   "id": "95bfcc41-6dc4-4d88-a937-4fbc76bbe41f",
   "metadata": {},
   "outputs": [
    {
     "data": {
      "text/plain": [
       "numpy.ndarray"
      ]
     },
     "execution_count": 41,
     "metadata": {},
     "output_type": "execute_result"
    }
   ],
   "source": [
    "type(matriz)"
   ]
  },
  {
   "cell_type": "code",
   "execution_count": 42,
   "id": "406238d3-94a5-4de0-9675-d93649b39cfa",
   "metadata": {},
   "outputs": [
    {
     "data": {
      "text/plain": [
       "(3, 3)"
      ]
     },
     "execution_count": 42,
     "metadata": {},
     "output_type": "execute_result"
    }
   ],
   "source": [
    "matriz.shape"
   ]
  },
  {
   "cell_type": "code",
   "execution_count": 43,
   "id": "26761fc3-fcfb-4812-b7d2-a5e9b8f8b91b",
   "metadata": {},
   "outputs": [],
   "source": [
    "# Vetor 1D com 3 elementos\n",
    "vetor = np.array([10, 20, 30])"
   ]
  },
  {
   "cell_type": "code",
   "execution_count": 44,
   "id": "e36c03f5-94a5-4fff-b9ef-f69d7d7c6c08",
   "metadata": {},
   "outputs": [
    {
     "data": {
      "text/plain": [
       "numpy.ndarray"
      ]
     },
     "execution_count": 44,
     "metadata": {},
     "output_type": "execute_result"
    }
   ],
   "source": [
    "type(vetor)"
   ]
  },
  {
   "cell_type": "code",
   "execution_count": 45,
   "id": "421cc530-f84b-425e-a686-fa44315c849b",
   "metadata": {},
   "outputs": [
    {
     "data": {
      "text/plain": [
       "(3,)"
      ]
     },
     "execution_count": 45,
     "metadata": {},
     "output_type": "execute_result"
    }
   ],
   "source": [
    "vetor.shape"
   ]
  },
  {
   "cell_type": "markdown",
   "id": "b873fa3b-4563-44ab-b67d-93d7eac0d9eb",
   "metadata": {},
   "source": [
    "**Queremos somar os valores do vetor aos valores de CADA linha da matriz.**"
   ]
  },
  {
   "cell_type": "code",
   "execution_count": 46,
   "id": "0c1f8ba6-527c-413d-8ee0-495f05d78a52",
   "metadata": {},
   "outputs": [
    {
     "name": "stdout",
     "output_type": "stream",
     "text": [
      "[[1 2 3]\n",
      " [4 5 6]\n",
      " [7 8 9]]\n"
     ]
    }
   ],
   "source": [
    "print(matriz)"
   ]
  },
  {
   "cell_type": "code",
   "execution_count": 47,
   "id": "01a72f73-6a6f-4c08-b639-48b22694dcbf",
   "metadata": {},
   "outputs": [
    {
     "name": "stdout",
     "output_type": "stream",
     "text": [
      "[10 20 30]\n"
     ]
    }
   ],
   "source": [
    "print(vetor)"
   ]
  },
  {
   "cell_type": "code",
   "execution_count": 48,
   "id": "5b5a5e66-9c42-4fb7-9ed7-acf207ee7f52",
   "metadata": {},
   "outputs": [],
   "source": [
    "# Broadcasting: o vetor é \"expandido\" para cada linha da matriz\n",
    "resultado = matriz + vetor"
   ]
  },
  {
   "cell_type": "code",
   "execution_count": 49,
   "id": "f543fb73-f5ce-4cd1-b217-37dad83a138b",
   "metadata": {},
   "outputs": [
    {
     "name": "stdout",
     "output_type": "stream",
     "text": [
      "\n",
      "Matriz original:\n",
      " [[1 2 3]\n",
      " [4 5 6]\n",
      " [7 8 9]]\n",
      "\n",
      "Vetor:\n",
      " [10 20 30]\n",
      "\n",
      "Resultado com broadcasting:\n",
      " [[11 22 33]\n",
      " [14 25 36]\n",
      " [17 28 39]]\n"
     ]
    }
   ],
   "source": [
    "print(\"\\nMatriz original:\\n\", matriz)\n",
    "print(\"\\nVetor:\\n\", vetor)\n",
    "print(\"\\nResultado com broadcasting:\\n\", resultado)"
   ]
  },
  {
   "cell_type": "code",
   "execution_count": 50,
   "id": "e497128e-a110-4eef-b59a-85eaf4ac37ef",
   "metadata": {},
   "outputs": [],
   "source": [
    "# Matriz com faturamento de 3 produtos em 4 meses\n",
    "faturamento = np.array([\n",
    "    [100, 110, 120, 130], # Produto A\n",
    "    [200, 210, 220, 230], # Produto B\n",
    "    [300, 310, 320, 330]  # Produto C\n",
    "])"
   ]
  },
  {
   "cell_type": "code",
   "execution_count": 51,
   "id": "26ca9e42-6c30-431a-a1a1-068b79a5a28c",
   "metadata": {},
   "outputs": [
    {
     "data": {
      "text/plain": [
       "numpy.ndarray"
      ]
     },
     "execution_count": 51,
     "metadata": {},
     "output_type": "execute_result"
    }
   ],
   "source": [
    "type(faturamento)"
   ]
  },
  {
   "cell_type": "code",
   "execution_count": 52,
   "id": "eb23c333-613c-43df-964b-27f5f678c18a",
   "metadata": {},
   "outputs": [
    {
     "data": {
      "text/plain": [
       "(3, 4)"
      ]
     },
     "execution_count": 52,
     "metadata": {},
     "output_type": "execute_result"
    }
   ],
   "source": [
    "# Shape\n",
    "faturamento.shape"
   ]
  },
  {
   "cell_type": "code",
   "execution_count": 53,
   "id": "49258cdf-fc9c-4c43-ad12-7513ba111a43",
   "metadata": {},
   "outputs": [],
   "source": [
    "# Vetor com um bônus (incentivo) para cada produto\n",
    "bonus_por_produto = np.array([5, 10, 15])"
   ]
  },
  {
   "cell_type": "code",
   "execution_count": 54,
   "id": "09934410-80b6-4b09-b095-31a84f2d1651",
   "metadata": {},
   "outputs": [
    {
     "data": {
      "text/plain": [
       "numpy.ndarray"
      ]
     },
     "execution_count": 54,
     "metadata": {},
     "output_type": "execute_result"
    }
   ],
   "source": [
    "type(bonus_por_produto)"
   ]
  },
  {
   "cell_type": "code",
   "execution_count": 55,
   "id": "566ac4a5-66c3-446b-99f2-0855f8bd10ea",
   "metadata": {},
   "outputs": [
    {
     "data": {
      "text/plain": [
       "(3,)"
      ]
     },
     "execution_count": 55,
     "metadata": {},
     "output_type": "execute_result"
    }
   ],
   "source": [
    "# Shape\n",
    "bonus_por_produto.shape"
   ]
  },
  {
   "cell_type": "markdown",
   "id": "fb94b6ea-d59d-46cf-8d2b-93b77afd8604",
   "metadata": {},
   "source": [
    "**Queremos adicionar um bônus a cada valor de faturamento, por linha. Ou seja, todos os itens da primeira linha devem receber o bônus de 5, por exemplo, e assim por diante.**"
   ]
  },
  {
   "cell_type": "code",
   "execution_count": 56,
   "id": "8c501b7d-044a-4cb4-91a2-3214d890b807",
   "metadata": {},
   "outputs": [
    {
     "name": "stdout",
     "output_type": "stream",
     "text": [
      "\n",
      "Faturamento:\n",
      "\n",
      "[[100 110 120 130]\n",
      " [200 210 220 230]\n",
      " [300 310 320 330]]\n"
     ]
    }
   ],
   "source": [
    "print(\"\\nFaturamento:\\n\")\n",
    "print(faturamento)"
   ]
  },
  {
   "cell_type": "code",
   "execution_count": 57,
   "id": "66481427-7254-4266-8612-d85e2d7bcae9",
   "metadata": {},
   "outputs": [
    {
     "name": "stdout",
     "output_type": "stream",
     "text": [
      "\n",
      "Bônus por Produto:\n",
      "\n",
      "[ 5 10 15]\n"
     ]
    }
   ],
   "source": [
    "print(\"\\nBônus por Produto:\\n\")\n",
    "print(bonus_por_produto)"
   ]
  },
  {
   "cell_type": "code",
   "execution_count": 58,
   "id": "e16b2942-6ce5-48ba-8c0b-bbdf440b83cd",
   "metadata": {},
   "outputs": [],
   "source": [
    "# Poderíamos usar a vetorização e fazer algo assim:\n",
    "\n",
    "#faturamento_com_bonus = faturamento + bonus_por_produto"
   ]
  },
  {
   "cell_type": "markdown",
   "id": "a88e671a-c8b4-497c-a561-0cfd90a02dde",
   "metadata": {},
   "source": [
    "Mas, por que a mensagem de erro? A própria mensagem já explica o que está ocorrendo."
   ]
  },
  {
   "cell_type": "code",
   "execution_count": 59,
   "id": "8b97ad30-e86c-4f55-a6b8-ca935e89b0b5",
   "metadata": {},
   "outputs": [],
   "source": [
    "# O NumPy \"estica\" (broadcast) o vetor bônus para que ele possa ser somado à matriz\n",
    "# Mas forma de `bonus_por_produto` (3,) é incompatível com (3, 4)\n",
    "# Para somar, precisamos que tenha a forma (3, 1) para o broadcast funcionar nas colunas\n",
    "bonus_formatado = bonus_por_produto.reshape(3, 1)"
   ]
  },
  {
   "cell_type": "code",
   "execution_count": 60,
   "id": "7f7dccda-e61a-4301-86de-ece21df414b1",
   "metadata": {},
   "outputs": [
    {
     "data": {
      "text/plain": [
       "(3, 1)"
      ]
     },
     "execution_count": 60,
     "metadata": {},
     "output_type": "execute_result"
    }
   ],
   "source": [
    "bonus_formatado.shape"
   ]
  },
  {
   "cell_type": "code",
   "execution_count": 61,
   "id": "b96f1d01-0f0a-4da5-861a-c8002bee135f",
   "metadata": {},
   "outputs": [
    {
     "name": "stdout",
     "output_type": "stream",
     "text": [
      "\n",
      "Bônus por Produto:\n",
      "\n",
      "[[ 5]\n",
      " [10]\n",
      " [15]]\n"
     ]
    }
   ],
   "source": [
    "print(\"\\nBônus por Produto:\\n\")\n",
    "print(bonus_formatado)"
   ]
  },
  {
   "cell_type": "code",
   "execution_count": 62,
   "id": "2ec26da3-e9b8-4547-b974-ee3d41a6f07e",
   "metadata": {},
   "outputs": [
    {
     "name": "stdout",
     "output_type": "stream",
     "text": [
      "\n",
      "Faturamento com Bônus (via Broadcasting):\n",
      "\n",
      "[[105 115 125 135]\n",
      " [210 220 230 240]\n",
      " [315 325 335 345]]\n"
     ]
    }
   ],
   "source": [
    "# Agora sim\n",
    "faturamento_com_bonus = faturamento + bonus_formatado\n",
    "print(\"\\nFaturamento com Bônus (via Broadcasting):\\n\")\n",
    "print(faturamento_com_bonus)"
   ]
  },
  {
   "cell_type": "markdown",
   "id": "6d7c5b8e-c2bf-4e22-a014-05a9cfe339e1",
   "metadata": {},
   "source": [
    "## 8. Manipulação de Formato de Arrays\n",
    "<!-- Trabalho Desenvolvido no Curso da Data Science Academy - www.datascienceacademy.com.br -->\n",
    "Muitas vezes precisamos reorganizar os dados em um formato diferente para análise ou para alimentar um modelo de IA."
   ]
  },
  {
   "cell_type": "code",
   "execution_count": 63,
   "id": "cf8ca882-0b52-4177-9266-88072246c035",
   "metadata": {},
   "outputs": [
    {
     "name": "stdout",
     "output_type": "stream",
     "text": [
      "\n",
      "Array original (1D): [ 0  1  2  3  4  5  6  7  8  9 10 11]\n",
      "\n"
     ]
    }
   ],
   "source": [
    "# Criando um array 1D com 12 elementos\n",
    "dados_sequenciais = np.arange(12)\n",
    "print(f\"\\nArray original (1D): {dados_sequenciais}\\n\")"
   ]
  },
  {
   "cell_type": "code",
   "execution_count": 64,
   "id": "374f69ea-da73-4107-a643-69f2e3343e92",
   "metadata": {},
   "outputs": [
    {
     "name": "stdout",
     "output_type": "stream",
     "text": [
      "\n",
      "Matriz 3x4:\n",
      "[[ 0  1  2  3]\n",
      " [ 4  5  6  7]\n",
      " [ 8  9 10 11]]\n",
      "\n"
     ]
    }
   ],
   "source": [
    "# Remodelando para uma matriz 3x4\n",
    "matriz_3x4 = dados_sequenciais.reshape(3, 4)\n",
    "print(f\"\\nMatriz 3x4:\\n{matriz_3x4}\\n\")"
   ]
  },
  {
   "cell_type": "code",
   "execution_count": 65,
   "id": "792cb120-91b5-48f8-9620-c5ae5059f5ac",
   "metadata": {},
   "outputs": [
    {
     "name": "stdout",
     "output_type": "stream",
     "text": [
      "\n",
      "Matriz Transposta (4x3):\n",
      "[[ 0  4  8]\n",
      " [ 1  5  9]\n",
      " [ 2  6 10]\n",
      " [ 3  7 11]]\n",
      "\n"
     ]
    }
   ],
   "source": [
    "# Transpondo a matriz (trocando linhas por colunas)\n",
    "matriz_transposta = matriz_3x4.T\n",
    "print(f\"\\nMatriz Transposta (4x3):\\n{matriz_transposta}\\n\")"
   ]
  },
  {
   "cell_type": "code",
   "execution_count": 66,
   "id": "d1ce000b-ad41-4c53-9ba3-6c8acee62e90",
   "metadata": {},
   "outputs": [
    {
     "name": "stdout",
     "output_type": "stream",
     "text": [
      "\n",
      "Array achatado (1D): [ 0  4  8  1  5  9  2  6 10  3  7 11]\n"
     ]
    }
   ],
   "source": [
    "# Achatando a matriz de volta para um array 1D\n",
    "array_achatado = matriz_transposta.flatten()\n",
    "print(f\"\\nArray achatado (1D): {array_achatado}\")"
   ]
  },
  {
   "cell_type": "markdown",
   "id": "82345825-7aee-4c60-b110-ef12c73be65f",
   "metadata": {},
   "source": [
    "<!-- Trabalho Desenvolvido no Curso da Data Science Academy - www.datascienceacademy.com.br -->\n",
    "## 9. Operações Matemáticas com Matrizes"
   ]
  },
  {
   "cell_type": "code",
   "execution_count": 67,
   "id": "601c706c-cdf8-48f9-b118-ed4b742d61f7",
   "metadata": {},
   "outputs": [],
   "source": [
    "# Criando duas matrizes\n",
    "A = np.array([[1, 2], [3, 4]])\n",
    "B = np.array([[5, 6], [7, 8]])"
   ]
  },
  {
   "cell_type": "code",
   "execution_count": 68,
   "id": "12102d21-9245-4388-a123-84b64e6c89a8",
   "metadata": {},
   "outputs": [
    {
     "name": "stdout",
     "output_type": "stream",
     "text": [
      "\n",
      "Matriz A:\n",
      "[[1 2]\n",
      " [3 4]]\n",
      "\n",
      "Matriz B:\n",
      "[[5 6]\n",
      " [7 8]]\n",
      "\n"
     ]
    }
   ],
   "source": [
    "print(f\"\\nMatriz A:\\n{A}\\n\")\n",
    "print(f\"Matriz B:\\n{B}\\n\")"
   ]
  },
  {
   "cell_type": "code",
   "execution_count": 69,
   "id": "2eb7d169-6bbf-4b98-9e22-29b75433e725",
   "metadata": {},
   "outputs": [
    {
     "name": "stdout",
     "output_type": "stream",
     "text": [
      "\n",
      "Produto de A por B:\n",
      "\n",
      "[[19 22]\n",
      " [43 50]]\n",
      "\n"
     ]
    }
   ],
   "source": [
    "# Produto de Matrizes (diferente da multiplicação elemento a elemento)\n",
    "# Usando o operador @\n",
    "produto_matricial = A @ B\n",
    "print(f\"\\nProduto de A por B:\\n\\n{produto_matricial}\\n\")"
   ]
  },
  {
   "cell_type": "markdown",
   "id": "39117949-0f37-4d9a-bc45-4ddfbf93ec1f",
   "metadata": {},
   "source": [
    "Nesse trecho acima, são criadas duas matrizes 2×2 chamadas A e B. Em seguida, é realizado o produto matricial entre elas usando o operador @. Diferente da multiplicação elemento a elemento (que faz a operação posição por posição), o produto matricial segue as regras da álgebra linear: cada elemento da matriz resultante é obtido multiplicando os elementos de uma linha da primeira matriz pelos elementos de uma coluna da segunda e somando esses produtos. O cálculo do produto é:\n",
    "\n",
    "[ [1 * 5 + 2 * 7, 1 * 6 + 2 * 8], [3 * 5 + 4 * 7, 3 * 6 + 4 * 8] ] = [[19, 22], [43, 50]]"
   ]
  },
  {
   "cell_type": "code",
   "execution_count": 70,
   "id": "bd1770fa-4a79-45ce-8f57-68ba683f10f1",
   "metadata": {},
   "outputs": [
    {
     "name": "stdout",
     "output_type": "stream",
     "text": [
      "Produto de A por B:\n",
      "[[19 22]\n",
      " [43 50]]\n",
      "\n"
     ]
    }
   ],
   "source": [
    "# Usando np.dot() ao invés de @\n",
    "produto_matricial = np.dot(A, B)\n",
    "print(f\"Produto de A por B:\\n{produto_matricial}\\n\")"
   ]
  },
  {
   "cell_type": "markdown",
   "id": "9158934b-c18f-4f54-9f2c-8a99b4be8740",
   "metadata": {},
   "source": [
    "**ATENÇÃO**: Quando fazemos:\n",
    "\n",
    "produto_matricial = A @ B\n",
    "\n",
    "ou\n",
    "\n",
    "produto_matricial = np.dot(A, B)\n",
    "\n",
    "\n",
    "Estamos realizando o produto matricial clássico da Álgebra Linear. Cada elemento do resultado é a soma dos produtos entre as linhas de A e as colunas de B."
   ]
  },
  {
   "cell_type": "code",
   "execution_count": 71,
   "id": "61ae157c-facf-4a19-9b30-2cc8f7d7719c",
   "metadata": {},
   "outputs": [
    {
     "name": "stdout",
     "output_type": "stream",
     "text": [
      "\n",
      "Matriz A:\n",
      "[[1 2]\n",
      " [3 4]]\n",
      "\n",
      "Matriz B:\n",
      "[[5 6]\n",
      " [7 8]]\n",
      "\n"
     ]
    }
   ],
   "source": [
    "print(f\"\\nMatriz A:\\n{A}\\n\")\n",
    "print(f\"Matriz B:\\n{B}\\n\")"
   ]
  },
  {
   "cell_type": "code",
   "execution_count": 72,
   "id": "88b18358-7661-4910-99ae-2102428aabef",
   "metadata": {},
   "outputs": [
    {
     "name": "stdout",
     "output_type": "stream",
     "text": [
      "Multiplicação Element-wise de A por B:\n",
      "[[ 5 12]\n",
      " [21 32]]\n",
      "\n"
     ]
    }
   ],
   "source": [
    "# Element wise\n",
    "produto_element_wise = A * B\n",
    "print(f\"Multiplicação Element-wise de A por B:\\n{produto_element_wise}\\n\")"
   ]
  },
  {
   "cell_type": "markdown",
   "id": "f6caf498-4dfd-40b4-a8d9-a03c33592c79",
   "metadata": {},
   "source": [
    "**ATENÇÃO**: Quando fazemos:\n",
    "\n",
    "produto_elementwise = A * B\n",
    "\n",
    "\n",
    "O NumPy multiplica cada elemento na mesma posição das duas matrizes. Não há soma de produtos; é apenas posição a posição. \n",
    "\n",
    "---"
   ]
  },
  {
   "cell_type": "markdown",
   "id": "4406e25a-fcbf-4fee-9036-e38b4e5ac0f2",
   "metadata": {},
   "source": [
    "Normalmente usamos o produto matricial (@ ou np.dot) quando implementamos modelos de Machine Learning ou IA com redes neurais, e não a multiplicação elemento a elemento. Motivo:\n",
    "\n",
    "Cada camada de uma rede neural realiza uma transformação linear dos dados de entrada. Essa transformação é feita multiplicando a matriz de pesos da camada (W) pelo vetor ou matriz de entradas (X):\n",
    "\n",
    "saída = X @ W + bias\n",
    "\n",
    "\n",
    "- X → entradas (amostras × features)\n",
    "\n",
    "- W → pesos (features × neurônios)\n",
    "\n",
    "- bias → deslocamento adicionado depois\n",
    "\n",
    "O resultado é uma nova matriz onde cada neurônio combina as entradas por meio de somas ponderadas.\n",
    "<!-- Trabalho Desenvolvido no Curso da Data Science Academy - www.datascienceacademy.com.br -->\n",
    "Esse processo só é possível com o produto matricial, porque ele combina cada entrada com todos os pesos de cada neurônio ao mesmo tempo, gerando uma saída que depois passa por uma função de ativação (ReLU, sigmoid, etc.).\n",
    "\n",
    "A multiplicação element-wise (*) é usada em redes neurais, mas em casos específicos, como:\n",
    "\n",
    "- Hadamard product em algumas arquiteturas (por exemplo, em gates de LSTM/GRU ou atenção em Transformers);\n",
    "\n",
    "- Aplicar máscaras ou pesos individuais diretamente em cada elemento.\n",
    "\n",
    "Mas a operação central de treino e propagação em redes neurais é sempre o produto matricial, porque ela permite aprender pesos que combinam múltiplas entradas para gerar representações mais complexas.\n",
    "\n",
    "**Aqui vai um segredo (não conte para ninguém): Todo modelo de IA é, de fato, um conjunto de operações com matrizes. :-)**"
   ]
  },
  {
   "cell_type": "markdown",
   "id": "3256af21-1b8d-4ef9-af05-73e6e692218e",
   "metadata": {},
   "source": [
    "Mais algumas operações com matrizes NumPy."
   ]
  },
  {
   "cell_type": "code",
   "execution_count": 73,
   "id": "935b833e-8752-41e8-94a7-74e6f55086f9",
   "metadata": {},
   "outputs": [],
   "source": [
    "# Criando duas matrizes 2x2\n",
    "\n",
    "A = np.array([[10, 20],\n",
    "              [30, 40]])\n",
    "\n",
    "B = np.array([[7, 14],\n",
    "              [4, 3]])"
   ]
  },
  {
   "cell_type": "code",
   "execution_count": 74,
   "id": "4d877f20-efb8-4efd-b845-32a2fb69ad79",
   "metadata": {},
   "outputs": [],
   "source": [
    "# Soma de matrizes\n",
    "soma = A + B"
   ]
  },
  {
   "cell_type": "code",
   "execution_count": 75,
   "id": "2fb832ec-894d-4b88-96c2-f351628fad7d",
   "metadata": {},
   "outputs": [],
   "source": [
    "# Subtração de matrizes\n",
    "subtracao = A - B"
   ]
  },
  {
   "cell_type": "code",
   "execution_count": 76,
   "id": "6d1ad3b0-e558-408d-8fa4-f1bb9a49e7e9",
   "metadata": {},
   "outputs": [],
   "source": [
    "# Divisão elemento a elemento\n",
    "divisao = A / B"
   ]
  },
  {
   "cell_type": "code",
   "execution_count": 77,
   "id": "d9369101-a1a6-4d07-ba07-663f60b42654",
   "metadata": {},
   "outputs": [
    {
     "name": "stdout",
     "output_type": "stream",
     "text": [
      "Matriz A:\n",
      " [[10 20]\n",
      " [30 40]]\n",
      "\n",
      "Matriz B:\n",
      " [[ 7 14]\n",
      " [ 4  3]]\n",
      "\n",
      "Soma A + B:\n",
      " [[17 34]\n",
      " [34 43]]\n",
      "\n",
      "Subtração A - B:\n",
      " [[ 3  6]\n",
      " [26 37]]\n",
      "\n",
      "Divisão A / B:\n",
      " [[ 1.42857143  1.42857143]\n",
      " [ 7.5        13.33333333]]\n"
     ]
    }
   ],
   "source": [
    "print(\"Matriz A:\\n\", A)\n",
    "print(\"\\nMatriz B:\\n\", B)\n",
    "print(\"\\nSoma A + B:\\n\", soma)\n",
    "print(\"\\nSubtração A - B:\\n\", subtracao)\n",
    "print(\"\\nDivisão A / B:\\n\", divisao)"
   ]
  },
  {
   "cell_type": "markdown",
   "id": "5f9eeaa2-4c42-4b22-b5a6-1659fdec3645",
   "metadata": {},
   "source": [
    "## 10. Exemplo de Operações com Matrizes no Processamento de Imagens\n",
    "<!-- Trabalho Desenvolvido no Curso da Data Science Academy - www.datascienceacademy.com.br -->"
   ]
  },
  {
   "cell_type": "markdown",
   "id": "8c4c3630-8f7c-4ce8-b7be-0a2e16df8435",
   "metadata": {},
   "source": [
    "![DSA](imagem2.png)\n",
    "\n",
    "https://blog.dsacademy.com.br/trilha-de-aprendizagem-da-formacao-analista-de-dados/"
   ]
  },
  {
   "cell_type": "code",
   "execution_count": 78,
   "id": "66cca13c-553b-455c-9c48-6eb1d6ec7d54",
   "metadata": {},
   "outputs": [
    {
     "name": "stdout",
     "output_type": "stream",
     "text": [
      "\n",
      "Formato do array:\n",
      " (1080, 1920, 3)\n",
      "\n",
      "Altura: 1080, Largura: 1920, Canais: 3\n",
      "\n",
      "Extraindo um dos pixels:\n",
      " [25 14 23]\n",
      "\n",
      "Pixel [617,1287] → R=25, G=14, B=23\n"
     ]
    }
   ],
   "source": [
    "from PIL import Image\n",
    "import numpy as np\n",
    "\n",
    "# Abre a imagem\n",
    "img = Image.open(\"imagem2.png\")\n",
    "\n",
    "# Converte para array NumPy\n",
    "array_img = np.array(img)\n",
    "\n",
    "print(\"\\nFormato do array:\\n\", array_img.shape)  \n",
    "# (altura, largura, 3) → 3 canais = R, G, B\n",
    "\n",
    "# Obtendo as dimensões\n",
    "altura, largura, canais = array_img.shape\n",
    "print(f\"\\nAltura: {altura}, Largura: {largura}, Canais: {canais}\")\n",
    "\n",
    "# Separando cada canal\n",
    "R = array_img[:, :, 0]  # Canal vermelho\n",
    "G = array_img[:, :, 1]  # Canal verde\n",
    "B = array_img[:, :, 2]  # Canal azul\n",
    "\n",
    "# Extraindo um dos pixels\n",
    "print(\"\\nExtraindo um dos pixels:\\n\", array_img[590, 1287])  \n",
    "\n",
    "# Pixel específico (ex: linha 590, coluna 1287)\n",
    "pixel = array_img[590, 1287]\n",
    "r, g, b = pixel\n",
    "print(f\"\\nPixel [617,1287] → R={r}, G={g}, B={b}\")"
   ]
  },
  {
   "cell_type": "markdown",
   "id": "906e2977-31a5-4fcd-b627-1b898238b7d1",
   "metadata": {},
   "source": [
    "---\n",
    "\n",
    "Vamos agora recortar um pedaço da imagem:"
   ]
  },
  {
   "cell_type": "code",
   "execution_count": 79,
   "id": "93c0b395-67dd-4ea3-8c13-82604ba3d595",
   "metadata": {},
   "outputs": [
    {
     "name": "stdout",
     "output_type": "stream",
     "text": [
      "Altura: 1080, Largura: 1920, Canais: 3\n",
      "\n",
      "Formato do recorte: (280, 400, 3)\n"
     ]
    },
    {
     "data": {
      "image/png": "[encoded data removed]",
      "text/plain": [
       "<Figure size 1000x500 with 2 Axes>"
      ]
     },
     "metadata": {},
     "output_type": "display_data"
    }
   ],
   "source": [
    "from PIL import Image\n",
    "import numpy as np\n",
    "import matplotlib.pyplot as plt\n",
    "\n",
    "# --- Carrega a imagem ---\n",
    "img = Image.open(\"imagem2.png\")\n",
    "array_img = np.array(img)\n",
    "\n",
    "# Obtendo dimensões\n",
    "altura, largura, canais = array_img.shape\n",
    "print(f\"Altura: {altura}, Largura: {largura}, Canais: {canais}\")\n",
    "\n",
    "# --- Definindo um corte central ---\n",
    "# Tamanho do recorte \n",
    "recorte_h = 280\n",
    "recorte_w = 400\n",
    "\n",
    "# Definimos o centro da matriz\n",
    "centro_y = altura // 2\n",
    "centro_x = largura // 2\n",
    "\n",
    "# Calculando limites para o recorte central (operações com matrizes para fatiar a imagem)\n",
    "y_inicio = centro_y - recorte_h // 2\n",
    "y_fim = centro_y + recorte_h // 2\n",
    "x_inicio = centro_x - recorte_w // 2\n",
    "x_fim = centro_x + recorte_w // 2\n",
    "\n",
    "# Fazendo o slice (fatiamento) no array\n",
    "corte_central = array_img[y_inicio:y_fim, x_inicio:x_fim]\n",
    "\n",
    "print(f\"\\nFormato do recorte: {corte_central.shape}\")  \n",
    "\n",
    "# --- Mostra a imagem original e o corte ---\n",
    "plt.figure(figsize = (10,5))\n",
    "plt.subplot(1,2,1)\n",
    "plt.title(\"Imagem Original\")\n",
    "plt.imshow(array_img)\n",
    "plt.axis(\"off\")\n",
    "\n",
    "plt.subplot(1,2,2)\n",
    "plt.title(\"Corte Central\")\n",
    "plt.imshow(corte_central)\n",
    "plt.axis(\"off\")\n",
    "\n",
    "plt.show()"
   ]
  },
  {
   "cell_type": "markdown",
   "id": "e84c7f79-511e-43d9-8984-6ec99bd8aab1",
   "metadata": {},
   "source": [
    "Este jupyter apenas arranha a superfície do NumPy trazendo os fundamentos essenciais. Há muito mais a explorar com o NumPy, o que você encontra em diversos cursos aqui na DSA."
   ]
  },
  {
   "cell_type": "markdown",
   "id": "b2513428-f58d-4e5b-b1a2-e228019d2932",
   "metadata": {},
   "source": [
    "# Fim"
   ]
  },
  {
   "cell_type": "markdown",
   "id": "b3aadd57-1e35-43ef-b51a-318ae8054601",
   "metadata": {},
   "source": [
    "Este curso é inteiramente gratuito e com certificado de conclusão. Se estiver gostando, ajude o trabalho da Data Science Academy e compartilhe nas suas redes. Conte para as pessoas o que estamos fazendo aqui, oferecendo material de alto nível de forma gratuita. Este é o link da página do curso:\n",
    "\n",
    "https://www.datascienceacademy.com.br/course/fundamentos-de-linguagem-python-do-basico-a-aplicacoes-de-ia"
   ]
  }
 ],
 "metadata": {
  "kernelspec": {
   "display_name": "Python [conda env:base] *",
   "language": "python",
   "name": "conda-base-py"
  },
  "language_info": {
   "codemirror_mode": {
    "name": "ipython",
    "version": 3
   },
   "file_extension": ".py",
   "mimetype": "text/x-python",
   "name": "python",
   "nbconvert_exporter": "python",
   "pygments_lexer": "ipython3",
   "version": "3.13.5"
  }
 },
 "nbformat": 4,
 "nbformat_minor": 5
}
